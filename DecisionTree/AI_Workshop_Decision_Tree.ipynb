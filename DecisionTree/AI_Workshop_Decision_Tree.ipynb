{
  "nbformat": 4,
  "nbformat_minor": 0,
  "metadata": {
    "colab": {
      "name": "AI_Workshop_Decision_Tree.ipynb",
      "provenance": [],
      "collapsed_sections": [],
      "toc_visible": true,
      "include_colab_link": true
    },
    "kernelspec": {
      "name": "python3",
      "display_name": "Python 3"
    }
  },
  "cells": [
    {
      "cell_type": "markdown",
      "metadata": {
        "id": "view-in-github",
        "colab_type": "text"
      },
      "source": [
        "<a href=\"https://colab.research.google.com/github/sbhattac/ai-workshop/blob/master/DecisionTree/AI_Workshop_Decision_Tree.ipynb\" target=\"_parent\"><img src=\"https://colab.research.google.com/assets/colab-badge.svg\" alt=\"Open In Colab\"/></a>"
      ]
    },
    {
      "cell_type": "markdown",
      "metadata": {
        "id": "o7DsY44Bvla4",
        "colab_type": "text"
      },
      "source": [
        "# How to Make Classifications using Decision Trees\n",
        "\n",
        "### A Team Project to:\n",
        "* Discover how to use Machine Learning software to build Decision Trees \n",
        "* Experiment with the effects of changinging parameters(hyper parameters) for Machine Learning\n",
        "* Evaluate the quality of automatically generated decision trees    \n",
        "\n",
        "\n",
        "\n"
      ]
    },
    {
      "cell_type": "code",
      "metadata": {
        "id": "3RYUC50U_O15",
        "colab_type": "code",
        "cellView": "form",
        "colab": {}
      },
      "source": [
        "#@title # Assigning Roles and Responsibilities within each group\n",
        "\n",
        "#@markdown ---\n",
        "#@markdown ### Enter Instructor Name:\n",
        "Instructor_Name = \"\" #@param {type:\"string\"}\n",
        "#@markdown 1. Introduces activities. Assigns roles to participants.\n",
        "#@markdown 2. Responds for help or clarification request.\n",
        "#@markdown 3. Collects the Jupiter notebooks from Recorder and Evaluator\n",
        "#@markdown ---\n",
        "\n",
        "#@markdown ### Enter Facilitator Name:\n",
        "Facilitator_Name = \"\" #@param {type:\"string\"} \n",
        "#@markdown ### Enter Backup Facilitator Name:\n",
        "Backup_Facilitator_Name = \"\" #@param {type:\"string\"} \n",
        "#@markdown 1.\tReads aloud each question and ask for volunteers to answer. If there is no volunteer then he/she starts the discussion and asks one participant after another for comments, solutions, answers, or clarifications.  When majority participants agree then she/he asks Recorder to record the answer. Also coordinates discussion about the code execution and the output like any other question.   \n",
        "#@markdown 2.\tInvolves each participant equally in the discussions.    \n",
        "#@markdown 3.\tTurn the coordinating role to Evaluator after finishing each activity.  \n",
        "#@markdown ---\n",
        "\n",
        "#@markdown ### Enter Recorder Name:\n",
        "Recorder_Name = \"\" #@param {type:\"string\"}\n",
        "#@markdown ### Enter Backup Recorder Name:\n",
        "Backup_Recorder_Name = \"\" #@param {type:\"string\"}  \n",
        "#@markdown 1.\tCoordinates Zoom screen access. Displays his/her screen when asking questions. Gives access to screen sharing as requested    \n",
        "#@markdown 2.\tRecords all answers  for each question  inside the Jupiter Notebook   \n",
        "#@markdown 3. Use \"Run all\" in menu \"Runtime\" and then \"Save\" Jupiter Workbook with all answers and results.\n",
        "#@markdown 4. Submit Jupiter notebook with all answers and results of the running code.\n",
        "#@markdown ---\n",
        "\n",
        "#@markdown ### Enter Evaluator Name:\n",
        "Evaluator_Name = \"\" #@param {type:\"string\"}\n",
        "#@markdown ### Enter Backup Evaluator Name:\n",
        "Backup_Evaluator_Name = \"\" #@param {type:\"string\"} \n",
        "#@markdown 1.\tKeeps track of time for each designated Activity.   \n",
        "#@markdown 2.\tAfter each activity leads the discussion about material and collects feedback in the form of the table below.   \n",
        "#@markdown 3. Submit Jupiter notebook with all comments and results of discussion at the end of each activity.  \n",
        "#@markdown ---\n",
        "\n",
        "#@markdown ### Enter Participant names\n",
        "Participant_4_Name = \"\" #@param {type:\"string\"} \n",
        "Participant_5_Name = \"\" #@param {type:\"string\"}\n",
        "Participant_6_Name = \"\" #@param {type:\"string\"}\n",
        "Participant_7_Name = \"\" #@param {type:\"string\"}\n",
        "Participant_8_Name = \"\" #@param {type:\"string\"}\n",
        "\n",
        "#@markdown 1.\tParticipates actively in team work to answer all questions.\n",
        "#@markdown 2.\tExecutes the code and shares the comments.\n",
        "#@markdown ---\n",
        "\n",
        "print(\"You have chosen {} as the Instructor\".format(Instructor_Name))"
      ],
      "execution_count": null,
      "outputs": []
    },
    {
      "cell_type": "code",
      "metadata": {
        "id": "Y8eS79mDTxxl",
        "colab_type": "code",
        "cellView": "form",
        "colab": {}
      },
      "source": [
        "#@title Download files to work on\n",
        "import urllib\n",
        "import os\n",
        "DOWNLOAD_ROOT = \"https://raw.githubusercontent.com/sbhattac/ai-workshop/tree/master/DecisionTree\"\n",
        "for filename in (\"vehicles_binary_sample.csv\", \"vehicles_binary_test.csv\", \"vehicles_binary_train.csv\", \"vehicles_digital_test.csv\", \"vehicles_digital_train.csv\", \"vehicles_logical_sample.csv\"):\n",
        "    print(\"Downloading\", filename)\n",
        "    url = DOWNLOAD_ROOT + filename\n",
        "    urllib.request.urlretrieve(url, filename)"
      ],
      "execution_count": null,
      "outputs": []
    },
    {
      "cell_type": "code",
      "metadata": {
        "id": "wZKeKvW7Vnq-",
        "colab_type": "code",
        "cellView": "form",
        "colab": {}
      },
      "source": [
        "#@title Library Imports\n",
        "import pandas as pd  #imports the \"pandas\" library\n",
        "import matplotlib.pyplot as plt\n",
        "from sklearn.tree import DecisionTreeClassifier, export_graphviz, plot_tree\n",
        "from sklearn.metrics import accuracy_score\n",
        "import numpy as np\n",
        "from IPython.display import SVG, display\n",
        "from graphviz import Source\n",
        "from ipywidgets import interactive, fixed\n",
        "from sklearn.metrics import confusion_matrix\n",
        "\n",
        "from sklearn import tree"
      ],
      "execution_count": null,
      "outputs": []
    },
    {
      "cell_type": "code",
      "metadata": {
        "id": "6C7vlhwtVl9F",
        "colab_type": "code",
        "cellView": "form",
        "colab": {}
      },
      "source": [
        "#@title Helper Functions\n",
        "def getColumnIndex(table, col):\n",
        "    headers = table.columns.values.tolist()\n",
        "    index = headers.index(col)\n",
        "    return(index)\n",
        "\n",
        "def calculateConfusionMatrix(table, col1, col2, pos_value=1, neg_value=0, true_pos_value=1, true_neg_value=0):\n",
        "    #Note: col2 MUST be the true values, or this will be backwards.\n",
        "    truePositive= 0\n",
        "    trueNegative = 0\n",
        "    falsePositive = 0\n",
        "    falseNegative = 0\n",
        "    col1_index = getColumnIndex(table, col1)\n",
        "    col2_index = getColumnIndex(table, col2)\n",
        "    for i in range(len(table)):\n",
        "        if table.iloc[i,col1_index] == pos_value and table.iloc[i,col2_index] == true_pos_value:\n",
        "            truePositive += 1\n",
        "        elif table.iloc[i,col1_index] == pos_value and table.iloc[i,col2_index] == true_neg_value:\n",
        "            falsePositive += 1\n",
        "        elif table.iloc[i,col1_index] == neg_value and table.iloc[i,col2_index] == true_pos_value:\n",
        "            falseNegative += 1\n",
        "        elif table.iloc[i,col1_index] == neg_value and table.iloc[i,col2_index] == true_neg_value:\n",
        "            trueNegative += 1             \n",
        "    return(truePositive, falsePositive, trueNegative, falseNegative)\n",
        "\n",
        "def calculateImpurity2(table, col1, col2, pos_value=1, neg_value=0, true_pos_value=1, true_neg_value=0):\n",
        "    # NOTE. Col2 must be the ground truth or this will be backwards\n",
        "    \n",
        "    truePositive, falsePositive, trueNegative, falseNegative = calculateConfusionMatrix(table, col1, col2, pos_value, neg_value, true_pos_value, true_neg_value)\n",
        "    total = truePositive + trueNegative + falsePositive + falseNegative\n",
        "\n",
        "    if (truePositive + falsePositive) > 0:\n",
        "        impurityLeft = 1 - pow(truePositive/(truePositive + falsePositive),2) - pow(falsePositive/(truePositive + falsePositive),2)\n",
        "    else:\n",
        "        impurityLeft = 0\n",
        "    if (trueNegative + falseNegative) > 0:   \n",
        "        impurityRight = 1 - pow(falseNegative/(falseNegative + trueNegative),2) - pow(trueNegative/(falseNegative + trueNegative),2) \n",
        "    else:\n",
        "        impurityRight = 0\n",
        "    \n",
        "    if total > 0:\n",
        "        impurity = impurityLeft*((truePositive+falsePositive)/total) + impurityRight*((trueNegative+falseNegative)/total)\n",
        "    else:\n",
        "        print(\"you messed up somewhere\")\n",
        "        return()\n",
        "    print (\"impurityLeft:  \",impurityLeft)\n",
        "    print (\"impurityRight:  \",impurityRight)\n",
        "    print (\"total :  \", impurity)\n",
        "    return (impurity)\n",
        "\n",
        "def calculateImpurity(table, col1, col2, pos_value=1, neg_value=0, true_pos_value=1, true_neg_value=0):\n",
        "    # NOTE. Col2 must be the ground truth or this will be backwards\n",
        "    \n",
        "    truePositive, falsePositive, trueNegative, falseNegative = calculateConfusionMatrix(table, col1, col2, pos_value, neg_value, true_pos_value, true_neg_value)\n",
        "    total = truePositive + trueNegative + falsePositive + falseNegative\n",
        "\n",
        "    if (truePositive + falsePositive) > 0:\n",
        "        impurityLeft = 1 - pow(truePositive/(truePositive + falsePositive),2) - pow(falsePositive/(truePositive + falsePositive),2)\n",
        "    else:\n",
        "        impurityLeft = 0\n",
        "    if (trueNegative + falseNegative) > 0:   \n",
        "        impurityRight = 1 - pow(falseNegative/(falseNegative + trueNegative),2) - pow(trueNegative/(falseNegative + trueNegative),2) \n",
        "    else:\n",
        "        impurityRight = 0\n",
        "    \n",
        "    if total > 0:\n",
        "        impurityBefore = 1 - pow((truePositive+falsePositive)/total,2) - pow((trueNegative+falseNegative)/total,2)\n",
        "        impurityAfter = impurityLeft*((truePositive+falsePositive)/total) + impurityRight*((trueNegative+falseNegative)/total)\n",
        "    else:\n",
        "        return()\n",
        "#    print (\"impurity Initial:  {:.3f}\".format(impurityBefore))\n",
        "    print (\"impurity Local:  {:.3f}\".format(impurityLeft))\n",
        "    print (\"impurity Visitor:  {:.3f}\".format(impurityRight))\n",
        "#    print (\"impurity Total :  {:.3f}\".format( impurityAfter))\n",
        "    return (impurityRight, impurityLeft, impurityAfter)\n",
        "\n",
        "\n",
        "\n",
        "def decisionTreeForPredictor(table_train, col, label_col):\n",
        "    # load dataset\n",
        "    indexList = []\n",
        "    index = getColumnIndex(table_train, col)\n",
        "    indexList.append(index)\n",
        "    # feature matrix\n",
        "    X_train = table_train.iloc[:,[index]]\n",
        "\n",
        "    labelIndex = getColumnIndex(table_train, label_col)\n",
        "    # target vector\n",
        "    y_train = table_train.iloc[:,labelIndex]\n",
        "\n",
        "    # feature labels\n",
        "    labels = table_train.columns[indexList].values.tolist()\n",
        "\n",
        "    estimator = plot_tree_graphviz_no_test(X_train, y_train, labels, split=\"best\", depth=4, min_split=0.1, min_leaf=0.2)\n",
        "\n",
        "\n",
        "def selectRowsCondition(table, columnName, operator, value):\n",
        "    \n",
        "    operatorList = ['>', '<', '='] \n",
        "    if operator not in operatorList:\n",
        "        print(\"Please use one of the following operators. ['>', '<', '='] \")\n",
        "        newTable = table\n",
        "\n",
        "    else:\n",
        "        if operator == '>':\n",
        "            condition = (table[columnName] > value)\n",
        "        elif operator == '<':\n",
        "            condition = (table[columnName] < value)\n",
        "        else:\n",
        "            condition = (table[columnName] == value)\n",
        "        newTable = table[condition]\n",
        "\n",
        "        if newTable.empty:\n",
        "            print(\"you dont need go any further\")\n",
        "    return (newTable)\n",
        "\n",
        "def plot_tree_graphviz(xtrain, xtest, ytrain, ytest, labels, split, depth, min_split, min_leaf=0.2):\n",
        "\n",
        "    estimator = DecisionTreeClassifier(random_state = 0, \n",
        "          criterion = \"gini\",\n",
        "          splitter = split,\n",
        "          max_depth = depth,\n",
        "          min_samples_split=min_split,\n",
        "          min_samples_leaf=min_leaf)\n",
        "    estimator.fit(xtrain, ytrain)\n",
        "    \n",
        "    predictions = estimator.predict(xtest)\n",
        "    score = accuracy_score(ytest, predictions)\n",
        "    \n",
        "    print('Accuracy score: {}'.format(score))\n",
        "    \n",
        "    graph = Source(tree.export_graphviz(estimator,\n",
        "      out_file=None,\n",
        "      feature_names=labels,\n",
        "      class_names=['Local', 'Visitor'],\n",
        "      filled = True))\n",
        "    display(SVG(graph.pipe(format='svg')))\n",
        "    return estimator\n",
        "\n",
        "def plot_tree_graphviz_no_test(xtrain, ytrain, labels, split, depth, min_split, min_leaf=0.2):\n",
        "\n",
        "    estimator = DecisionTreeClassifier(random_state = 0, \n",
        "          criterion = \"gini\",\n",
        "          splitter = split,\n",
        "          max_depth = depth,\n",
        "          min_samples_split=min_split,\n",
        "          min_samples_leaf=min_leaf)\n",
        "    estimator.fit(xtrain, ytrain)\n",
        "            \n",
        "    graph = Source(tree.export_graphviz(estimator,\n",
        "      out_file=None,\n",
        "      feature_names=labels,\n",
        "      class_names=['Visitor', 'Local'],\n",
        "      filled = True))\n",
        "    display(SVG(graph.pipe(format='svg')))\n",
        "    return estimator\n",
        "\n",
        "def plot_tree_graphviz_selectColumns(train, test, cols, split, depth, min_split, min_leaf=0.2):\n",
        "  \n",
        "  indexList = []\n",
        "  for element in cols:\n",
        "    index = getColumnIndex(train, element)\n",
        "    indexList.append(index)\n",
        "\n",
        "  xtrain = train.iloc[:,indexList]\n",
        "  xtest = test.iloc[:, indexList]\n",
        "  ytrain = train.iloc[:,3]\n",
        "  ytest = test.iloc[:,3]\n",
        "\n",
        "  labels = train.columns[indexList].values.tolist()\n",
        "\n",
        "  estimator = DecisionTreeClassifier(random_state = 0, \n",
        "        criterion = \"gini\",\n",
        "        splitter = split,\n",
        "        max_depth = depth,\n",
        "        min_samples_split=min_split,\n",
        "        min_samples_leaf=min_leaf)\n",
        "  estimator.fit(xtrain, ytrain)\n",
        "  \n",
        "  predictions = estimator.predict(xtest)\n",
        "  score = accuracy_score(ytest, predictions)\n",
        "  \n",
        "  print('Accuracy score: {}'.format(score))\n",
        "  \n",
        "  graph = Source(tree.export_graphviz(estimator,\n",
        "    out_file=None,\n",
        "    feature_names=labels,\n",
        "    class_names=['Visitor', 'Local'],\n",
        "    filled = True))\n",
        "  display(SVG(graph.pipe(format='svg')))\n",
        "  return estimator\n"
      ],
      "execution_count": null,
      "outputs": []
    },
    {
      "cell_type": "markdown",
      "metadata": {
        "id": "FnjeuzFszg8g",
        "colab_type": "text"
      },
      "source": [
        "# Activity 1. Decisions based on Decision Trees"
      ]
    },
    {
      "cell_type": "markdown",
      "metadata": {
        "id": "4tkqF7CXwb_R",
        "colab_type": "text"
      },
      "source": [
        "## Activity 1 Practical Problem:\n",
        "\n",
        "You are a new city employee who needs to  differentiate between local and visiting vehicles  based on information about  the frequent stops,  left turns, and slow speed of each vehicle.  The previous employee, a human expert in this area, created the decision tree diagram.  Your manager has given you a  sample data set in a tabular form as the file \"vehicles_sample.csv\" to compare the real type of vehicle with the class predicted by the diagram."
      ]
    },
    {
      "cell_type": "markdown",
      "metadata": {
        "id": "KOmRci6FzvaC",
        "colab_type": "text"
      },
      "source": [
        "# Fig 1\n",
        "\n",
        "Consider the following diagram in Fig. 1, and answer questions 1-13:\n",
        "\n",
        "![decision tree fig 1](https://raw.githubusercontent.com/sbhattac/ai-workshop/tree/master/DT/DTFig1.png)\n",
        "\n",
        "\n",
        "\n",
        "\n"
      ]
    },
    {
      "cell_type": "code",
      "metadata": {
        "id": "auqHE4eOG2Mt",
        "colab_type": "code",
        "cellView": "form",
        "colab": {}
      },
      "source": [
        "#@title Activity 1 Questions 1 - 13\n",
        "#@markdown 1. The diagram is a decision tree (it is actually an upside-down tree). All boxes are referred to as nodes. How many nodes do we have in this diagram?\n",
        "activity1_answer1 = \"\" #@param {type:\"string\"}\n",
        "#@markdown 2. We refer to the single node on the top of the diagram as root. Decision trees are usually multi-level. We start counting from the top of diagram but do not include root. How many levels of decision tree do we have?\n",
        "activity1_answer2 = \"\" #@param {type:\"string\"}\n",
        "#@markdown 3. The nodes can be connected to other nodes on a lower level. How many such nodes are in this diagram?\n",
        "activity1_answer3 = \"\" #@param {type:\"string\"}\n",
        "#@markdown 4. The connections are called branches of the tree.  How many branches are in this diagram?\n",
        "activity1_answer4 = \"\" #@param {type:\"string\"}\n",
        "#@markdown 5. Nodes that grow two branches (\"Yes\" and \"No\") are called decision boxes. They represent a selection condition of the vehicles. What is the selection condition for the decision box in the root?\n",
        "activity1_answer5 = \"\" #@param {type:\"string\"}\n",
        "#@markdown 6. We refer to selection condition also as \"predictor\" since we use them for predictions.  How many predictors do we use in this diagram?\n",
        "activity1_answer6 = \"\" #@param {type:\"string\"}\n",
        "#@markdown 7. The nodes that do not grow any branches are called \"leaves\" and represent classes of vehicles. How many leaves do we have in the diagram?\n",
        "activity1_answer7 = \"\" #@param {type:\"string\"}\n",
        "#@markdown 8. Is the number of leaves in the decision tree the same as number of classes? Why?\n",
        "activity1_answer8 = \"\" #@param {type:\"string\"}\n",
        "#@markdown 9. Can we predict the vehicle class when the vehicle stops 5 times, and makes 4 left turns?\n",
        "activity1_answer9 = \"\" #@param {type:\"string\"}\n",
        "#@markdown 10. Is it possible to make a decision about the class of the vehicle if we know only that the vehicle made less than 3 stops? If yes what would be the class name?\n",
        "activity1_answer10 = \"\" #@param {type:\"string\"}\n",
        "#@markdown 11. Is it possible to make a decision about the class of the vehicle if we know only that the vehicle made 3 or more stops?\n",
        "activity1_answer11 = \"\" #@param {type:\"string\"}\n",
        "#@markdown 12. Is it possible to make a decision about the class of the vehicle when all three predictors of the vehicle have the value of \"No\"? If yes what would be the class name? \n",
        "activity1_answer12 = \"\" #@param {type:\"string\"}\n",
        "#@markdown 13. Do we always need to check three predictors to determine the class of the vehicle?\n",
        "activity1_answer13 = \"\" #@param {type:\"string\"}"
      ],
      "execution_count": null,
      "outputs": []
    },
    {
      "cell_type": "code",
      "metadata": {
        "id": "1rz2KuMQGEHg",
        "colab_type": "code",
        "cellView": "both",
        "colab": {}
      },
      "source": [
        "#@title #Run the Code\n",
        "#@markdown 14.  There is a  sample data in a tabular form as the file \"vehicles_logical_sample.csv\". Run the code below to see the sample of data. \n",
        "Vehicles_Logical_Sample = pd.read_csv(\"vehicles_logical_sample.csv\")\n",
        "display(Vehicles_Logical_Sample)\n",
        "\n"
      ],
      "execution_count": null,
      "outputs": []
    },
    {
      "cell_type": "code",
      "metadata": {
        "id": "KJ9CvEiBKqSZ",
        "colab_type": "code",
        "cellView": "form",
        "colab": {}
      },
      "source": [
        "#@title Activity 1 Questions 15 - 20\n",
        "#@markdown 15.\tThe vehicles are numbered starting from 0 through 4. How many vehicles are in the data sample?\n",
        "activity1_answer15 = \"\" #@param {type:\"string\"}\n",
        "#@markdown 16. The actual (real) class name is provided for each vehicle in the \"Vehicle\"  column. Why this column is also called \"the label\"?\n",
        "activity1_answer16 = \"\" #@param {type:\"string\"}\n",
        "#@markdown 17. If we were to use the decision tree in Fig. 1 to make a prediction of the vehicle class, would it match the label for vehicle number 0?\n",
        "activity1_answer17 = \"\" #@param {type:\"string\"}\n",
        "#@markdown 18.\tLet us consider the vehicle number 3. Is the prediction of the decision tree in Fig. 1 the same as the label?\n",
        "activity1_answer18 = \"\" #@param {type:\"string\"}\n",
        "#@markdown 19.\tAre there any other vehicles  classified incorrectly by the decision tree in Fig. 1?\n",
        "activity1_answer19 = \"\" #@param {type:\"string\"}\n",
        "#@markdown 20.  In the next section we will discover how to build the decision tree based on a scientific approach. Can we always create a perfect decision tree i.e. the decision tree that would correctly classify all of the vehicles? Why?\n",
        "activity1_answer20 = \"\" #@param {type:\"string\"}"
      ],
      "execution_count": null,
      "outputs": []
    },
    {
      "cell_type": "markdown",
      "metadata": {
        "id": "_ZdciI4UPSJY",
        "colab_type": "text"
      },
      "source": [
        "# Activity 2. Choosing Predictors for Decision Trees\n",
        "\n",
        "\n"
      ]
    },
    {
      "cell_type": "markdown",
      "metadata": {
        "id": "oOpFg2hLQQQm",
        "colab_type": "text"
      },
      "source": [
        "# Activity 2 Practical Problem:\n",
        "You, a city employee, would like to use a scientific method to evaluate predictors individually to see which one is the best.\n"
      ]
    },
    {
      "cell_type": "code",
      "metadata": {
        "id": "eO4rPHUxNfRs",
        "colab_type": "code",
        "cellView": "form",
        "colab": {}
      },
      "source": [
        "#@title # Run the Code\n",
        "\n",
        "#@markdown 1. Let us analyze each predictor separately and discover how well it predicts. First let us consider the “Stops < 3” predictor. Run the code below to see only the relevant part of the sample of data.\n",
        "Vehicles_Logical_Sample[['Stops < 3', 'Vehicle']]"
      ],
      "execution_count": null,
      "outputs": []
    },
    {
      "cell_type": "code",
      "metadata": {
        "id": "Zg7fZ04QRSM9",
        "colab_type": "code",
        "cellView": "form",
        "colab": {}
      },
      "source": [
        "#@title # Activity 2 Questions 2 - 3\n",
        "#@markdown 2.\tHow many vehicles made less than 3 stops?\n",
        "activity2_answer2 = \"\" #@param {type:\"string\"} \n",
        "#@markdown 3.\tHow many vehicles made 3 or more stops?\n",
        "activity2_answer3 = \"\" #@param {type:\"string\"} "
      ],
      "execution_count": null,
      "outputs": []
    },
    {
      "cell_type": "markdown",
      "metadata": {
        "id": "BQDGUUKXSgjQ",
        "colab_type": "text"
      },
      "source": [
        "# Fig 2\n",
        "\n",
        "Consider the following diagram in Fig. 2\n",
        "\n",
        "![decision tree fig 2](https://raw.githubusercontent.com/sbhattac/ai-workshop/tree/master/DT/DTFig2_0.png)\n",
        "\n"
      ]
    },
    {
      "cell_type": "code",
      "metadata": {
        "id": "atUXsiSlSfzY",
        "colab_type": "code",
        "cellView": "form",
        "colab": {}
      },
      "source": [
        "#@title # Activity 2 Questions 4 - 11\n",
        "#@markdown 4. Let us build a decision tree consisting of  only one predictor \"Stops < 3\"  as shown in Fig.2.  We added the line \"samples\" in Fig.2 to indicate how many vehicles are considered in each node. In the root we have 5 vehicles to split between two branches based on the prediction. What are the values of the line \"samples\" in the leaf nodes?\n",
        "activity2_answer4 = \"\" #@param {type:\"string\"} \n",
        "#@markdown 5.\tWould we correctly predict the vehicle class if we have only information about how often a vehicles stops? How many times would the prediction be correct?\n",
        "activity2_answer5 = \"\" #@param {type:\"string\"} \n",
        "#@markdown 6. How many times would the prediction be incorrect?\n",
        "activity2_answer6 = \"\" #@param {type:\"string\"} \n",
        "#@markdown 7.\tAs we discovered, we would have correct and incorrect predictions when using the single predictor \"Stops < 3\". Let us look only at vehicles that have “Yes” value for this feature. How many times would the prediction be correct? \n",
        "activity2_answer7 = \"\" #@param {type:\"string\"} \n",
        "#@markdown 8. When the prediction matches the true value, we call this subset “true positives”. The subset when the prediction incorrectly makes a positive prediction is called “false positives”. How many  “false positives” do we have? \n",
        "activity2_answer8 = \"\" #@param {type:\"string\"} \n",
        "#@markdown 9. Let us look only at vehicles that have “No” value for this feature. How many times would the prediction be correct? \n",
        "activity2_answer9 = \"\" #@param {type:\"string\"} \n",
        "#@markdown 10.\tWe call this vehicle subset “true negatives”. The negative predictions can also be incorrect. These would be called “false negatives”. How many  “false negatives” do we have? \n",
        "activity2_answer10 = \"\" #@param {type:\"string\"} \n",
        "#@markdown 11. When the single predictor has larger subsets of \"true positive\" and  \"true negative\" then the prediction is better or worse? Choose the best answer.\n",
        "activity2_answer11 = \"Choose answer\" #@param [\"Choose answer\", \"Better\", \"Worse\"]"
      ],
      "execution_count": null,
      "outputs": []
    },
    {
      "cell_type": "markdown",
      "metadata": {
        "id": "YGxw9tiJ60kJ",
        "colab_type": "text"
      },
      "source": [
        "As a reminder, the metrics of the predictions can be captured by these four terms:   \n",
        "$T_p$ is the number of True positves  \n",
        "$F_p$ is the number of False positves   \n",
        "$T_n$ is the number of True negatives  \n",
        "$F_n$ is the number of False negatives"
      ]
    },
    {
      "cell_type": "code",
      "metadata": {
        "id": "Gzazt9KCUz5o",
        "colab_type": "code",
        "cellView": "form",
        "colab": {}
      },
      "source": [
        "#@title Run the code\n",
        "\n",
        "#@markdown 12. For larger data sets we use computing functions to calculate these metics. Run the code below\n",
        "\n",
        "true_positive, false_positive, true_negative, false_negative = calculateConfusionMatrix(Vehicles_Logical_Sample, \n",
        "                                                'Stops < 3', 'Vehicle', 'Yes', 'No', 'Local', 'Visitor')\n",
        "print( \"Metrics for predictor 'Stops < 3'\")\n",
        "print ('True positives: {}'.format(true_positive))\n",
        "print ('False positives: {}'.format(false_positive))\n",
        "print ('True negatives: {}'.format(true_negative))\n",
        "print ('False negatives: {}'.format(false_negative))"
      ],
      "execution_count": null,
      "outputs": []
    },
    {
      "cell_type": "code",
      "metadata": {
        "id": "qWLk_ifxWMZ1",
        "colab_type": "code",
        "cellView": "form",
        "colab": {}
      },
      "source": [
        "#@title # Activity 2 Questions 13 - 16\n",
        "#@markdown 13. Are the computed values above the same as yours?\n",
        "activity2_answer13 = \"\" #@param {type:\"string\"} \n",
        "#@markdown 14. We are using sample of data to \"learn\" the best decision tree. When we want to apply the decision tree to to different data sample we can only refer to probabilities of belonging to these subsets. In our  case expected probability of being \"true positive\" in the \"Local\" node will be 2/2 = 100%. What is the probability of being \"false positive\" in the \"Local\" node?\n",
        "activity2_answer14 = \"\" #@param {type:\"string\"} \n",
        "#@markdown 15. What is the probability of being \"true negative\" in the \"Visitor\" node ?\n",
        "activity2_answer15 = \"\" #@param {type:\"string\"} \n",
        "#@markdown 16. What is the probability of being \"false negative\" in the \"Visitor\" node \"?\n",
        "activity2_answer16 = \"\" #@param {type:\"string\"} "
      ],
      "execution_count": null,
      "outputs": []
    },
    {
      "cell_type": "markdown",
      "metadata": {
        "id": "caWBp_LXApUe",
        "colab_type": "text"
      },
      "source": [
        "\n",
        "\n",
        "You should have gotten the probablity of true positives as 1.   \n",
        "You should have gotten the probablity of false positives as 0.   \n",
        "\n",
        "Let us designate $p_1 $ as the probability of true positives.  \n",
        "Let us designate $p_2 $ as the probability of false positives. \n",
        "\n",
        "The mathematical function that captures this is positive (\"Local\" node) gini impurity is defined as:   \n",
        "\n",
        "$$gini_p = 1 - p_1^2 - p_2^2 $$   \n",
        "\n",
        "\n",
        "\n",
        "\n",
        "\n",
        "\n",
        "\n",
        "\n",
        "\n",
        "\n",
        "\n"
      ]
    },
    {
      "cell_type": "code",
      "metadata": {
        "id": "2s4RTD-LAuwH",
        "colab_type": "code",
        "cellView": "form",
        "colab": {}
      },
      "source": [
        "#@title # Activity 2 Questions 17 - 18\n",
        "#@markdown  17. Use this formula to compute gini impurity for the positive (\"Local\") branch.  \n",
        "activity2_answer17 = \"\" #@param {type:\"string\"} \n",
        "#@markdown 18. The \"Local\" node contains vehicles perfectly classified, and the gini impurity is 0. What does that tell us about the probabilities of the positive branch?\n",
        "activity2_answer18 = \"\" #@param {type:\"string\"} "
      ],
      "execution_count": null,
      "outputs": []
    },
    {
      "cell_type": "markdown",
      "metadata": {
        "id": "s_LMcdifFyEt",
        "colab_type": "text"
      },
      "source": [
        " The mathematical function that captures this is gini impurity formula for the negative branch is given by:\n",
        "\n",
        "You should have gotten the probablity of true negatives as 0.667.   \n",
        "You should have gotten the probablity of false positives as 0.333.   \n",
        "\n",
        "Let us designate $p_3 $ as the probability of true positives.  \n",
        "Let us designate $p_4 $ as the probability of false positives. \n",
        "\n",
        "The mathematical function that captures this is negative (\"Visitor\" node) gini impurity is defined as:   \n",
        "\n",
        "$$gini_p = 1 - p_3^2 - p_4^2 $$   \n"
      ]
    },
    {
      "cell_type": "code",
      "metadata": {
        "id": "Z-3JZRTKXjvu",
        "colab_type": "code",
        "cellView": "form",
        "colab": {}
      },
      "source": [
        "#@title # Activity 2 Questions 19\n",
        "#@markdown 19. Calculate the gini impurity of the negative branch (\"Visitor\" node). \n",
        "activity2_answer19 = \"\" #@param {type:\"string\"}\n",
        "\n"
      ],
      "execution_count": null,
      "outputs": []
    },
    {
      "cell_type": "code",
      "metadata": {
        "id": "FMlA45y_XetT",
        "colab_type": "code",
        "cellView": "form",
        "colab": {}
      },
      "source": [
        "#@title Run the Code \n",
        "#@markdown 20. For larger data sets we use computing functions to get the gini impurity. Run the code below.\n",
        "print (\"gini impurity for predictor 'Stops < 3'\" )\n",
        "giniImpurity = calculateImpurity(Vehicles_Logical_Sample, 'Stops < 3', 'Vehicle', \"Yes\", \"No\", 'Visitor', 'Local')"
      ],
      "execution_count": null,
      "outputs": []
    },
    {
      "cell_type": "code",
      "metadata": {
        "id": "KLdLnw6BIbx9",
        "colab_type": "code",
        "cellView": "form",
        "colab": {}
      },
      "source": [
        "#@title # Activity 2 Questions 21\n",
        "#@markdown 21. Compare your gini impurity answers for the \"Local\" and \"Visitor\" nodes. Are they the same as the output above? \n",
        "activity2_answer21 = \"\" #@param {type:\"string\"} \n"
      ],
      "execution_count": null,
      "outputs": []
    },
    {
      "cell_type": "markdown",
      "metadata": {
        "id": "tBp10nziN_dw",
        "colab_type": "text"
      },
      "source": [
        "The total gini impurity is important since it captures overall \"value\" of the predictor. It can be computed by the weighted average of impurities of each branch node. \n",
        "\n",
        "$$ gini_t = gini_p * \\frac{T_p + F_p}{total} + gini_n * \\frac{T_n + F_n}{total}$$ \n",
        "where:   \n",
        "$gini_t$ is the total gini  \n",
        "$gini_p$ is the gini for the positive branch   \n",
        "$T_p$ is the number of True positves  \n",
        "$F_p$ is the number of False positves   \n",
        "$gini_n$ is the gini for the negative branch   \n",
        "$T_n$ is the number of True negatives  \n",
        "$F_n$ is the number of False negatives\n",
        "total is the number of True positives + False positives + True negatives + False negatives.\n",
        "\n",
        "Since the value of $gini_p$ was 0, the first term on the right hand side of the  equation is also 0. Therefore, the equation can be simplified to \n",
        "$$ gini_t =  gini_n * \\frac{T_n + F_n}{total}$$ \n",
        "(but only in this specific case.)"
      ]
    },
    {
      "cell_type": "code",
      "metadata": {
        "id": "LkuYAO3DcLJW",
        "colab_type": "code",
        "cellView": "form",
        "colab": {}
      },
      "source": [
        "#@title # Activity 2 Question 22\n",
        "#@markdown 22.\tCompute the total gini impurity by hand. What value did you get?\n",
        "activity2_answer22 = \"\" #@param {type:\"string\"}"
      ],
      "execution_count": null,
      "outputs": []
    },
    {
      "cell_type": "code",
      "metadata": {
        "id": "0O8Is0aWbqA5",
        "colab_type": "code",
        "cellView": "form",
        "colab": {}
      },
      "source": [
        "#@title Run the Code \n",
        "\n",
        "#@markdown 23. We can also write some code to calculate this total gini impurity for us. Run the code below to see the total gini impurity for the predictor 'Stops < 3'.\n",
        "Vehicles_Binary_Sample = pd.read_csv(\"vehicles_binary_sample.csv\")\n",
        "pos_value = 1\n",
        "neg_value = 0\n",
        "true_pos_value = 'Local'\n",
        "true_neg_value = 'Visitor'\n",
        "col_name=\"Stops\"\n",
        "label_name = \"Vehicle\"\n",
        "\n",
        "impurityLeft, impurityRight, impurityAfter = calculateImpurity(Vehicles_Binary_Sample, col_name, label_name, pos_value, neg_value, true_pos_value, true_neg_value)\n",
        "print (\"impurity total for the predictor 'Stops < 3': {:.3f}\".format(impurityAfter))"
      ],
      "execution_count": null,
      "outputs": []
    },
    {
      "cell_type": "code",
      "metadata": {
        "id": "P9W9f2nnT8H-",
        "colab_type": "code",
        "cellView": "form",
        "colab": {}
      },
      "source": [
        "#@title Activity 2 Question 24\n",
        "#@markdown 24. Does the output from the program match your computation of the total gini impurity for the predictor 'Stops < 3'?\n",
        "activity2_answer24 = \"\" #@param {type:\"string\"}\n"
      ],
      "execution_count": null,
      "outputs": []
    },
    {
      "cell_type": "code",
      "metadata": {
        "id": "BrNWl8zbcbyT",
        "colab_type": "code",
        "cellView": "form",
        "colab": {}
      },
      "source": [
        "#@title Run the Code \n",
        "\n",
        "#@markdown 25. Now we direct our attention to a different predictor. Let us evaluate the\tpredictor \"Left turns < 2\". Run the code below to see the table.\n",
        "display(Vehicles_Logical_Sample[['Left turns < 2', 'Vehicle']])\n"
      ],
      "execution_count": null,
      "outputs": []
    },
    {
      "cell_type": "code",
      "metadata": {
        "id": "EB0KLwdBc-3E",
        "colab_type": "code",
        "cellView": "form",
        "colab": {}
      },
      "source": [
        "#@title # Activity 2 Questions 26 - 29\n",
        "#@markdown 26.  Based on the data above above, would we correctly predict the vehicle class if we have only information about vehicles \"Left turns < 2 \"? How many times would  the prediction be correct?   \n",
        "activity2_answer26 = \"\" #@param {type:\"string\"}\n",
        "#@markdown 27.\tHow many times would the prediction be  incorrect?\n",
        "activity2_answer27 = \"\" #@param {type:\"string\"}\n",
        "#@markdown 28. Compute the metrics for the predictor 'Left turns < 2'. \n",
        "activity2_28_TruePositive = \"\" #@param {type:\"string\"}\n",
        "activity2_28_FalsePositive = \"\" #@param {type:\"string\"}\n",
        "activity2_28_TrueNegative = \"\" #@param {type:\"string\"}\n",
        "activity2_28_FalseNegative = \"\" #@param {type:\"string\"}\n",
        "#@markdown 29. Compute the gini impurities for the predictor 'Left turns < 2'. \n",
        "activity2_29_giniPositive = \"\" #@param {type:\"string\"}\n",
        "activity2_29_giniNegative = \"\" #@param {type:\"string\"}\n",
        "activity2_29_giniTotal = \"\" #@param {type:\"string\"}"
      ],
      "execution_count": null,
      "outputs": []
    },
    {
      "cell_type": "code",
      "metadata": {
        "colab_type": "code",
        "cellView": "form",
        "id": "LRmUWYviHE9k",
        "colab": {}
      },
      "source": [
        "#@title Run the Code \n",
        "\n",
        "#@markdown 30. Run the code below to see the total gini impurity for the predictor 'Left turns < 2'\n",
        "col_name = 'Left turns'\n",
        "label_name = 'Vehicle'\n",
        "pos_value = 1\n",
        "neg_value = 0\n",
        "true_pos_value = 'Local'\n",
        "true_neg_value = 'Visitor'\n",
        "col_name = 'Left turns'\n",
        "impurityLeft, impurityRight, impurityAfter = calculateImpurity(Vehicles_Binary_Sample, col_name, label_name, pos_value, neg_value, true_pos_value, true_neg_value)\n",
        "print (\"impurity total for the predictor 'Left turns < 2': {:.3f}\".format(impurityAfter))"
      ],
      "execution_count": null,
      "outputs": []
    },
    {
      "cell_type": "code",
      "metadata": {
        "id": "aE_1OUCuK70_",
        "colab_type": "code",
        "cellView": "form",
        "colab": {}
      },
      "source": [
        "#@title # Activity 2 Questions 31\n",
        "#@markdown 31. Compare your metrics and gini impurities with the computed output above. Are they the same?\n",
        "activity2_answer31 = \"\" #@param {type:\"string\"}"
      ],
      "execution_count": null,
      "outputs": []
    },
    {
      "cell_type": "code",
      "metadata": {
        "id": "NaTBJue5XuFw",
        "colab_type": "code",
        "cellView": "form",
        "colab": {}
      },
      "source": [
        "#@title Run the Code \n",
        "\n",
        "#@markdown 32.  Finally, we direct our attention to the last predictor. We will compute the gini impurity for  \"Speed < 20\" for you, but you may check it yourself if you wish. Run the code below.\n",
        "display(Vehicles_Logical_Sample[['Speed < 20', 'Vehicle']])\n",
        "\n",
        "col_name = 'Speed'\n",
        "label_name = 'Vehicle'\n",
        "pos_value = 1\n",
        "neg_value = 0\n",
        "true_pos_value = 'Local'\n",
        "true_neg_value = 'Visitor'\n",
        "col_name = \"Speed\"\n",
        "print()\n",
        "impurityLeft, impurityRight, impurityAfter = calculateImpurity(Vehicles_Binary_Sample, col_name, label_name, pos_value, neg_value, true_pos_value, true_neg_value)\n",
        "print (\"impurity total for the predictor 'Speed < 20': {:.3f}\".format(impurityAfter))\n"
      ],
      "execution_count": null,
      "outputs": []
    },
    {
      "cell_type": "code",
      "metadata": {
        "id": "8bCS-kGAdtyZ",
        "colab_type": "code",
        "cellView": "form",
        "colab": {}
      },
      "source": [
        "#@title # Activity 2 Questions 33\n",
        "#@markdown 33.\tNow we have the total gini impurity for all predictors. What predictor is the best according to gini formula? Why?\n",
        "activity2_answer35 = \"\" #@param {type:\"string\"}"
      ],
      "execution_count": null,
      "outputs": []
    },
    {
      "cell_type": "markdown",
      "metadata": {
        "id": "vFeAVzqhfqiS",
        "colab_type": "text"
      },
      "source": [
        "# Activity 3. Building Decision Trees\n",
        "\n"
      ]
    },
    {
      "cell_type": "markdown",
      "metadata": {
        "id": "OXjRo2VrYVnU",
        "colab_type": "text"
      },
      "source": [
        "## Activity 3 Practical Problem:\n",
        "\n",
        "You, a city employee, would like to use a scientific method to construct a decision tree to use for classification of vehicles."
      ]
    },
    {
      "cell_type": "code",
      "metadata": {
        "id": "eKy7htAIfpPL",
        "colab_type": "code",
        "cellView": "form",
        "colab": {}
      },
      "source": [
        "#@title Activity 3 Questions 1 - 2\n",
        "#@markdown 1. Two predictors have the lowest gini impurity. One of them should be chosen and therefore should be used as the root for the decision tree (since the gini impurity numbers are the same, the choice can be arbitrary). We have chosen \"Stops < 3\" as the decision box at the root. Once we have created the root node we need to decide what two nodes should be connected to it: a class node  or a decision node. Let us first consider the left branch of the root.  We know that all vehicles in the left subset are perfectly classified. In this case the left branch should be a class node. Why?\n",
        "activity3_answer1 = \"\" #@param {type:\"string\"}\n",
        "#@markdown 2. Let us next consider the right branch of the root.   We know that some vehicles will be misclassified if we terminate the tree with the class node. So we need to connect the root to a decision node. How do we choose the predictor? Would it help if we choose \"Stops < 3\" again\"?\n",
        "activity3_answer2 = \"\" #@param {type:\"string\"}"
      ],
      "execution_count": null,
      "outputs": []
    },
    {
      "cell_type": "code",
      "metadata": {
        "id": "y3rPivc1hX3-",
        "colab_type": "code",
        "cellView": "form",
        "colab": {}
      },
      "source": [
        "#@title Code for Activity 3 Question 3\n",
        "#@markdown 3. Before we decide what predictor to choose let us identify the vehicles that need to be processed in the right subtree. For small samples, this can be done manually, but it will be difficult for larger datasets. To solve that problem, we write code to identify these subsets. Run the code below.\n",
        "print(\"Right subtree for 'Stops < 3' (No branch)\")\n",
        "rightSample = selectRowsCondition(Vehicles_Logical_Sample, 'Stops < 3', '=', 'No')\n",
        "display(rightSample)\n"
      ],
      "execution_count": null,
      "outputs": []
    },
    {
      "cell_type": "code",
      "metadata": {
        "id": "wJxs9wzhh0Qk",
        "colab_type": "code",
        "cellView": "form",
        "colab": {}
      },
      "source": [
        "#@title Code for Activity 3 Question 4\n",
        "\n",
        "#@markdown 4. We now have to recursively apply our \"building one node\" procedure for the resulting subset. Run the code below to reevaluate usefulness of each remaining predictor. Let us start with \"Left turns < 2\".\n",
        "\n",
        "col_name = 'Left turns < 2'\n",
        "label_name = 'Vehicle'\n",
        "\n",
        "pos_value = 'Yes'\n",
        "neg_value = 'No'\n",
        "true_pos_value = 'Local'\n",
        "true_neg_value = 'Visitor'\n",
        "\n",
        "impurityLeft, impurityRight, impurityAfter = calculateImpurity(rightSample, col_name, label_name, pos_value, neg_value, true_pos_value, true_neg_value)\n",
        "print (\"impurity total for the predictor 'Left turns < 2': {:.3f}\".format(impurityAfter))"
      ],
      "execution_count": null,
      "outputs": []
    },
    {
      "cell_type": "code",
      "metadata": {
        "id": "PGFEBvgQiL4p",
        "colab_type": "code",
        "cellView": "form",
        "colab": {}
      },
      "source": [
        "#@title # Activity 3 Question 5\n",
        "#@markdown 5. Did you get the same numbers using hand computations?\n",
        "activity3_answer5 = \"\" #@param {type:\"string\"}\n",
        "\n",
        "\n",
        "\n"
      ],
      "execution_count": null,
      "outputs": []
    },
    {
      "cell_type": "code",
      "metadata": {
        "id": "4KorcZTwjCfl",
        "colab_type": "code",
        "cellView": "form",
        "colab": {}
      },
      "source": [
        "#@title Run the Code\n",
        "\n",
        "#@markdown 6. Run the code below to evaluate the usefulness of \"Speed < 20\".\n",
        "col_name = 'Speed < 20'\n",
        "label_name = 'Vehicle'\n",
        "\n",
        "\n",
        "pos_value = \"Yes\"\n",
        "neg_value = \"No\"\n",
        "true_pos_value = 'Local'\n",
        "true_neg_value = 'Visitor'\n",
        "\n",
        "impurityLeft, impurityRight, impurityAfter = calculateImpurity(rightSample, col_name, label_name, pos_value, neg_value, true_pos_value, true_neg_value)\n",
        "print (\"impurity total for the predictor 'Speed < 20': {:.3f}\".format(impurityAfter))\n"
      ],
      "execution_count": null,
      "outputs": []
    },
    {
      "cell_type": "markdown",
      "metadata": {
        "id": "UwXmLzEDsfk8",
        "colab_type": "text"
      },
      "source": [
        "Activity 3 Questions 7 and Fig 3\n",
        "7. Compare the total impurity for both \"Left turns\" and \"Speed < 20\". Since \"Left turns\" predictor has the lower gini impurity, we attach the corresponding decision box as a right node to the root decision box as shown in the plot below. Since the gini impurities are 0, we can attach the final class nodes below the 'Left turns < 2' decision box. The resulting diagram is show in Fig. 3. It includes all information about splits between different branches of the tree. The \"value\" line in the leaf nodes indicates the metrics of the prediction. \n",
        "\n",
        "Fig. 3\n",
        "![decision tree fig 3](https://raw.githubusercontent.com/sbhattac/ai-workshop/tree/master/DT/DTFig3.png)"
      ]
    },
    {
      "cell_type": "code",
      "metadata": {
        "id": "NBqj1SaXt5Bh",
        "colab_type": "code",
        "cellView": "form",
        "colab": {}
      },
      "source": [
        "#@title # Activity 3 Question 5\n",
        "#@markdown 8. Compare Fig. 1 which was produced by a human expert, and Fig. 3 which was produced by a decision tree algorithm and discuss the differences. \n",
        "activity3_answer8 = \"\" #@param {type:\"string\"}"
      ],
      "execution_count": null,
      "outputs": []
    },
    {
      "cell_type": "markdown",
      "metadata": {
        "id": "INqtQdftlEPc",
        "colab_type": "text"
      },
      "source": [
        "# Activity 4. Tuning Decision Trees for large Data Sets"
      ]
    },
    {
      "cell_type": "markdown",
      "metadata": {
        "id": "D_b0jAzTYujS",
        "colab_type": "text"
      },
      "source": [
        "## Activity 4 Practical Problem:\n",
        "\n",
        "You, a city employee, would like to use a scientific method to evaluate decision trees and tune them for the best classification of vehicles using the previously defined predictors."
      ]
    },
    {
      "cell_type": "markdown",
      "metadata": {
        "id": "PUtNB4aFvGVL",
        "colab_type": "text"
      },
      "source": [
        "# Activity 4 Questions 1 - 2\n",
        "1. Let us use two large data sets in files \"vehicles_binary_train.csv\" and \"vehicles_binary_test.csv\". We will use the file with the postfix \"train\" for the algorithm to \"learn\" how to construct the decision tree, and the file with the postfix \"test\" to evaluate the performance of the decision tree. The accuracy of the decision tree is the fraction of exactly matched preditions to all test samples. The following is the equation to calculate the accuracy:\n",
        "$$ accuracy  = \\frac{T_p + T_n}{total} $$\n",
        "where:   \n",
        "$T_p $ is the number of true positives  \n",
        "$T_n $ is the number of true negatives  \n",
        "$total $ is the number of true positives + false positives + true negatives + false negatives  \n",
        "\n",
        "\n",
        "* As we discovered in Activities 2 and 3, selecting different predictors affects the decision tree. In the interactive code below, the first dropdown will allow you to choose different combinations of predictors to see how the decision tree changes.\n",
        "\n",
        "2. In order to generate the best decision tree, we need to provide a few parameters for the machine learning algorithm. These parameters are typically refered to as hyperparameters. There are many that can be tuned, but the one that we will focus on today is \"depth\".\n",
        "\n",
        "* Depth restricts the tree levels to the given depth number. The tree can be smaller (if the number of predictors is not sufficiently large) but will never be larger than the depth selected.\n",
        "\n",
        "The code below is interactive. You will be able to make different choices and see the output in real-time. Run the code below to see the accuracy."
      ]
    },
    {
      "cell_type": "code",
      "metadata": {
        "id": "Ur3_mSY08qOO",
        "colab_type": "code",
        "cellView": "form",
        "colab": {}
      },
      "source": [
        "#@title Run the code to see the training data\n",
        "Vehicles_Binary_Train = pd.read_csv('vehicles_binary_train.csv')\n",
        "print(\"Table of data for the training set\")\n",
        "display(Vehicles_Binary_Train)\n"
      ],
      "execution_count": null,
      "outputs": []
    },
    {
      "cell_type": "code",
      "metadata": {
        "id": "S012kDUb9AXQ",
        "colab_type": "code",
        "cellView": "form",
        "colab": {}
      },
      "source": [
        "#@title Run the code to see the testing data\n",
        "Vehicles_Binary_Test = pd.read_csv('vehicles_binary_test.csv')\n",
        "print(\"Table of data for the testing set\")\n",
        "display(Vehicles_Binary_Test)"
      ],
      "execution_count": null,
      "outputs": []
    },
    {
      "cell_type": "code",
      "metadata": {
        "id": "VmDnLEWkjZXt",
        "colab_type": "code",
        "cellView": "form",
        "colab": {}
      },
      "source": [
        "#@title Run the Code for Activity 4 Question 1\n",
        "\n",
        "Inter_Vehicles_Binary = interactive(plot_tree_graphviz_selectColumns,\n",
        "   train = fixed(Vehicles_Binary_Train),\n",
        "   test = fixed(Vehicles_Binary_Test), \n",
        "   cols = [['Stops'], ['Left turns'], ['Speed'], ['Stops', 'Left turns'], ['Stops', 'Speed'],['Left turns','Speed'], ['Stops', 'Left turns', 'Speed']],\n",
        "   split = fixed(\"best\"),\n",
        "   depth=[1,2,3],\n",
        "   min_split=fixed(.1),\n",
        "   min_leaf=fixed(0.1))\n",
        "\n",
        "display(Inter_Vehicles_Binary)"
      ],
      "execution_count": null,
      "outputs": []
    },
    {
      "cell_type": "code",
      "metadata": {
        "id": "Z1bpG2s3jZeW",
        "colab_type": "code",
        "cellView": "form",
        "colab": {}
      },
      "source": [
        "#@title # Activity 4 Questions 4 - 14\n",
        "#@markdown 2. How many rows do we have in the train file?\n",
        "activity4_answer2 = \"\" #@param {type:\"string\"}\n",
        "#@markdown 3. How many rows do we have in the test file?\n",
        "activity4_answer3 = \"\" #@param {type:\"string\"}\n",
        "#@markdown 4. Create the decision tree for the single feature 'Stops'? What is the accuracy score?\n",
        "activity4_answer4 = \"\" #@param {type:\"string\"}\n",
        "#@markdown 5. Create the decision tree for the single feature 'Left turns'? What is the accuracy score?\n",
        "activity4_answer5 = \"\" #@param {type:\"string\"}\n",
        "#@markdown 6. Create the decision tree for the single feature 'Speed'? What is the accuracy score?\n",
        "activity4_answer6 = \"\" #@param {type:\"string\"}\n",
        "#@markdown 7. Is a one level tree (root plus its children) sufficient to accurately predict every vehicle?\n",
        "activity4_answer7 = \"\" #@param {type:\"string\"}\n",
        "#@markdown 8. Create the tree with two features \"Stops\" and \"Left turns\". Record your accuracy.\n",
        "activity4_answer8 = \"\" #@param {type:\"string\"}\n",
        "#@markdown 9. Create the tree with two features \"Stops\" and \"Speed\". Record your accuracy.\n",
        "activity4_answer9 = \"\" #@param {type:\"string\"}\n",
        "#@markdown 10. Create the tree with two features \"Left turns\" and \"Speed\". Record your accuracy.\n",
        "activity4_answer10 = \"\" #@param {type:\"string\"}\n",
        "#@markdown 11. Create the tree with three features \"Stops\", \"Left turns\" and \"Speed\". Record your accuracy.\n",
        "activity4_answer11 = \"\" #@param {type:\"string\"}\n",
        "#@markdown 12. In the tree with three features \"Stops\", \"Left turns\" and \"Speed\", what hyper-parameters did you use?\n",
        "activity4_answer12 = \"\" #@param {type:\"string\"}\n",
        "#@markdown 13. Experiment with the interactive plot above to get a three level tree and try get the highest accuracy. Record your accuracy here.\n",
        "activity4_answer13 = \"\" #@param {type:\"string\"}\n",
        "#@markdown 14. Compare the accuracies of all the trees above. Do they have the same accuracy?  If not, which tree gave the best accuracy?\n",
        "activity4_answer14 = \"\" #@param {type:\"string\"}\n"
      ],
      "execution_count": null,
      "outputs": []
    },
    {
      "cell_type": "markdown",
      "metadata": {
        "id": "_3f-lt4Kvzqf",
        "colab_type": "text"
      },
      "source": [
        "# Activity 5. Tuning Decision Trees for Large Data Sets with Numeric Features"
      ]
    },
    {
      "cell_type": "markdown",
      "metadata": {
        "id": "irvMDlP_wPmx",
        "colab_type": "text"
      },
      "source": [
        "# Practical Problem Activity 5:\n",
        "\n",
        "Now you need to use a large data set with numerical data to generate new predictors and to tune the parameters of the decision tree to choose the best predictors.\n"
      ]
    },
    {
      "cell_type": "markdown",
      "metadata": {
        "id": "iTc_GlgY2X_g",
        "colab_type": "text"
      },
      "source": [
        "# Activity 5 Questions 1 - 2\n",
        "1. let us switch to another large dataset which has been split into a training set and a testing set.  We will use the training file for the algorithm to \"learn\" how to construct the decision tree, and the testing file to evaluate the performance of the decision tree. This file differs from the above set in that it contains numerical values for the vehicle features. The number of 'Stops' ranges between 0 and 5. The number of 'Left turns' ranges between 0 and 4. The 'Speed' will range between 0 and 60. The machine learning algorith will construct new predictors based on optimum conditions for feature values.\n",
        "\n",
        "\n",
        "\n"
      ]
    },
    {
      "cell_type": "code",
      "metadata": {
        "id": "blAnN3-b-eiX",
        "colab_type": "code",
        "cellView": "form",
        "colab": {}
      },
      "source": [
        "#@title Run the code to see the training data\n",
        "Vehicles_Digital_Train = pd.read_csv('vehicles_digital_train.csv')\n",
        "print(\"Table of data for the training set\")\n",
        "display(Vehicles_Digital_Train)"
      ],
      "execution_count": null,
      "outputs": []
    },
    {
      "cell_type": "code",
      "metadata": {
        "id": "tTA2nmHD-zna",
        "colab_type": "code",
        "cellView": "form",
        "colab": {}
      },
      "source": [
        "#@title Run the code to see the testing data\n",
        "Vehicles_Digital_Test = pd.read_csv('vehicles_digital_test.csv')\n",
        "print(\"Table of data for the testing set\")\n",
        "display(Vehicles_Digital_Test)"
      ],
      "execution_count": null,
      "outputs": []
    },
    {
      "cell_type": "markdown",
      "metadata": {
        "id": "GJvbAm8bCmOc",
        "colab_type": "text"
      },
      "source": [
        "The code below is interactive. You will be able to make different choices and see the output in real-time. Run the code below to see the accuracy."
      ]
    },
    {
      "cell_type": "code",
      "metadata": {
        "id": "TtACThmfv5pM",
        "colab_type": "code",
        "cellView": "form",
        "colab": {}
      },
      "source": [
        "#@title Run the Code for Activity 5 Question 1\n",
        "\n",
        "Inter_Vehicles_Digital = interactive(plot_tree_graphviz_selectColumns,\n",
        "   train = fixed(Vehicles_Digital_Train),\n",
        "   test = fixed(Vehicles_Digital_Test),\n",
        "   cols = [['Stops'], ['Left turns'], ['Speed'], ['Stops', 'Left turns'], ['Stops', 'Speed'],['Left turns','Speed'], ['Stops', 'Left turns', 'Speed']], \n",
        "   #crit = [\"gini\", \"entropy\"],\n",
        "   split = fixed(\"best\"),\n",
        "   depth=[1,2,3,4],\n",
        "   min_split=fixed(0.1),\n",
        "   min_leaf=fixed(0.1))\n",
        "\n",
        "display(Inter_Vehicles_Digital)"
      ],
      "execution_count": null,
      "outputs": []
    },
    {
      "cell_type": "code",
      "metadata": {
        "id": "B__48K69v5tK",
        "colab_type": "code",
        "cellView": "form",
        "colab": {}
      },
      "source": [
        "#@title Activity 5 Questions part 2\n",
        "#@markdown 2. What is the difference between the training files in this activity, and the one in activity 4?\n",
        "activity5_answer2 = \"\" #@param {type:\"string\"}\n",
        "#@markdown 3. In the tree diagram, the first line of each decision node displays the predictor for splitting. Create the decision tree for the single feature 'Stops', using a depth of 1. What is the accuracy score, and the predictor?\n",
        "activity5_3_accuracy = \"\" #@param {type:\"string\"}\n",
        "activity5_3_predictor = \"\" #@param {type:\"string\"}\n",
        "#@markdown 4. Create the decision tree for the single feature 'Left turns', using a depth of 1.  What is the accuracy score, and the predictor?\n",
        "activity5_4_accuracy = \"\" #@param {type:\"string\"}\n",
        "activity5_4_predictor = \"\" #@param {type:\"string\"}\n",
        "#@markdown 5. Create the decision tree for the single feature 'Speed', using a depth of 1.  What is the accuracy score, and the predictor?\n",
        "activity5_5_accuracy = \"\" #@param {type:\"string\"}\n",
        "activity5_5_predictor = \"\" #@param {type:\"string\"}\n",
        "#@markdown 6. Experiment with the interactive plot above to get a three level tree and try get the highest accuracy. Record your accuracy here.\n",
        "activity5_answer6 = \"\" #@param {type:\"string\"}\n",
        "#@markdown 7. Experiment with the interactive plot above to get a four level tree and try get the highest accuracy. Record your accuracy here.\n",
        "activity5_answer7 = \"\" #@param {type:\"string\"}\n",
        "#@markdown 8. Compare the accuracies of all the trees above. Do they have the same accuracy?  If not, which tree gave the best accuracy?\n",
        "activity5_answer8 = \"\" #@param {type:\"string\"}\n",
        "#@markdown 9. In the optimal tree, we are using different predictors than the ones we were using in Activity 4. The activity 4 predictors were conditioned for you by a human expert. These new predictors are based on the features \"Stops\", \"Left turns\" and \"Speed\", but with  conditions automatically selected by the machine learning algorithm. Which predictor set is better?\n",
        "activity5_answer9 = \"\" #@param {type:\"string\"}"
      ],
      "execution_count": null,
      "outputs": []
    },
    {
      "cell_type": "code",
      "metadata": {
        "id": "CWtttduI0mfY",
        "colab_type": "code",
        "cellView": "form",
        "colab": {}
      },
      "source": [
        "#@title Team Work Evaluation\n",
        "#@markdown 1.\tHow much time was required for completion of all activities?\n",
        "evaluation1 = \"\" #@param {type:\"string\"}\n",
        "#@markdown 2.\tWas the contribution from each participant equal?\t\n",
        "evaluation2 = \"\" #@param {type:\"string\"}\n",
        "#@markdown 3.\tHow could the team work and learn more effectively?\n",
        "evaluation3 = \"\" #@param {type:\"string\"} \n",
        "#@markdown 4.\tHow many participants thought the problems were too simple (trivial)? \n",
        "evaluation4 = \"\" #@param {type:\"string\"}\n",
        "#@markdown 5.\tHow many participants thought the problems were at the proper level of difficulty?\t\n",
        "evaluation5 = \"\" #@param {type:\"string\"}\n",
        "#@markdown 6.\tHow many participants thought the problems were too hard?\n",
        "evaluation6 = \"\" #@param {type:\"string\"}\n",
        "#@markdown 7.\tWas help needed? Where?\n",
        "evaluation7 = \"\" #@param {type:\"string\"}\n",
        "#@markdown 8.\tDoes the team have any suggestions about how this notebook could be improved? If so, how?\n",
        "evaluation8 = \"\" #@param {type:\"string\"} "
      ],
      "execution_count": null,
      "outputs": []
    }
  ]
}