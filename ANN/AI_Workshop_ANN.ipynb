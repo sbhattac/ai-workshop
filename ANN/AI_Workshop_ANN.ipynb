{
  "nbformat": 4,
  "nbformat_minor": 0,
  "metadata": {
    "colab": {
      "name": "AI_Workshop_ANN.ipynb",
      "provenance": [],
      "collapsed_sections": [],
      "toc_visible": true,
      "include_colab_link": true
    },
    "kernelspec": {
      "name": "python3",
      "display_name": "Python 3"
    }
  },
  "cells": [
    {
      "cell_type": "markdown",
      "metadata": {
        "id": "view-in-github",
        "colab_type": "text"
      },
      "source": [
        "<a href=\"https://colab.research.google.com/github/sbhattac/ai-workshop/blob/master/ANN/AI_Workshop_ANN.ipynb\" target=\"_parent\"><img src=\"https://colab.research.google.com/assets/colab-badge.svg\" alt=\"Open In Colab\"/></a>"
      ]
    },
    {
      "cell_type": "markdown",
      "metadata": {
        "id": "o7DsY44Bvla4",
        "colab_type": "text"
      },
      "source": [
        "# Artificial Neural Networks (ANNs)\n",
        "\n",
        "### A Team Project to:\n",
        "* Introduce basic concepts of ANNs \n",
        "* Demonstrate set of computational techniques inspired by natural neural systems\n",
        "* To simulate or model natural systems with ANNs   \n",
        "\n",
        "<p><em><strong>Attribution: This jupyter notebook builds upon material found at <a href=\"https://cspogil.org/Home\">https://cspogil.org/Home</a> </strong></em></p>\n",
        "<p>&nbsp;</p>\n",
        "<p><a href=\"http://creativecommons.org/licenses/by-nc-sa/4.0/\" rel=\"license\"><img style=\"border-width: 0;\" src=\"https://i.creativecommons.org/l/by-nc-sa/4.0/88x31.png\" alt=\"Creative Commons License\" /></a><br />This work is licensed under a <a href=\"http://creativecommons.org/licenses/by-nc-sa/4.0/\" rel=\"license\">Creative Commons Attribution-NonCommercial-ShareAlike 4.0 International License</a>.</p>\n"
      ]
    },
    {
      "cell_type": "code",
      "metadata": {
        "id": "3RYUC50U_O15",
        "colab_type": "code",
        "cellView": "form",
        "colab": {}
      },
      "source": [
        "#@title # Assigning Roles and Responsibilities within each group\n",
        "\n",
        "#@markdown ---\n",
        "#@markdown ### Enter Instructor Name:\n",
        "Instructor_Name = \"\" #@param {type:\"string\"}\n",
        "#@markdown 1. Introduces activities. Assigns roles to participants.\n",
        "#@markdown 2. Responds for help or clarification request.\n",
        "#@markdown 3. Collects the Jupiter notebooks from Recorder and Evaluator\n",
        "#@markdown ---\n",
        "\n",
        "#@markdown ### Enter Facilitator Name:\n",
        "Facilitator_Name = \"\" #@param {type:\"string\"} \n",
        "#@markdown ### Enter Backup Facilitator Name:\n",
        "Backup_Facilitator_Name = \"\" #@param {type:\"string\"} \n",
        "#@markdown 1.\tReads aloud each question and ask for volunteers to answer. If there is no volunteer then he/she starts the discussion and asks one participant after another for comments, solutions, answers, or clarifications.  When majority participants agree then she/he asks Recorder to record the answer. Also coordinates discussion about the code execution and the output like any other question.   \n",
        "#@markdown 2.\tInvolves each participant equally in the discussions.    \n",
        "#@markdown 3.\tTurn the coordinating role to Evaluator after finishing each activity.  \n",
        "#@markdown ---\n",
        "\n",
        "#@markdown ### Enter Recorder Name:\n",
        "Recorder_Name = \"\" #@param {type:\"string\"}\n",
        "#@markdown ### Enter Backup Recorder Name:\n",
        "Backup_Recorder_Name = \"\" #@param {type:\"string\"}  \n",
        "#@markdown 1.\tCoordinates Zoom screen access. Displays his/her screen when asking questions. Gives access to screen sharing as requested    \n",
        "#@markdown 2.\tRecords all answers  for each question  inside the Jupiter Notebook   \n",
        "#@markdown 3. Use \"Run all\" in menu \"Runtime\" and then \"Save\" Jupiter Workbook with all answers and results.\n",
        "#@markdown 4. Submit Jupiter notebook with all answers and results of the running code.\n",
        "#@markdown ---\n",
        "\n",
        "#@markdown ### Enter Evaluator Name:\n",
        "Evaluator_Name = \"\" #@param {type:\"string\"}\n",
        "#@markdown ### Enter Backup Evaluator Name:\n",
        "Backup_Evaluator_Name = \"\" #@param {type:\"string\"} \n",
        "#@markdown 1.\tKeeps track of time for each designated Activity.   \n",
        "#@markdown 2.\tAfter each activity leads the discussion about material and collects feedback in the form of the table below.   \n",
        "#@markdown 3. Submit Jupiter notebook with all comments and results of discussion at the end of each activity.  \n",
        "#@markdown ---\n",
        "\n",
        "#@markdown ### Enter Participant names\n",
        "Participant_4_Name = \"\" #@param {type:\"string\"} \n",
        "Participant_5_Name = \"\" #@param {type:\"string\"}\n",
        "Participant_6_Name = \"\" #@param {type:\"string\"}\n",
        "Participant_7_Name = \"\" #@param {type:\"string\"}\n",
        "Participant_8_Name = \"\" #@param {type:\"string\"}\n",
        "\n",
        "#@markdown 1.\tParticipates actively in team work to answer all questions.\n",
        "#@markdown 2.\tExecutes the code and shares the comments.\n",
        "#@markdown ---\n"
      ],
      "execution_count": null,
      "outputs": []
    },
    {
      "cell_type": "code",
      "metadata": {
        "id": "Y8eS79mDTxxl",
        "colab_type": "code",
        "cellView": "form",
        "colab": {}
      },
      "source": [
        "#@title (RUN CELL) Download files to work on and install necessary libraries\n",
        "!pip install palettable\n",
        "import urllib\n",
        "import os\n",
        "DOWNLOAD_ROOT = \"https://raw.githubusercontent.com/casabelle42/AI_Workshop/master/\"\n",
        "for filename in (): #(\"vehicles_binary_sample.csv\", \"vehicles_binary_test.csv\", \"vehicles_binary_train.csv\", \"vehicles_digital_test.csv\", \"vehicles_digital_train.csv\", \"vehicles_logical_sample.csv\"):\n",
        "    print(\"Downloading\", filename)\n",
        "    url = DOWNLOAD_ROOT + filename\n",
        "    urllib.request.urlretrieve(url, filename)"
      ],
      "execution_count": null,
      "outputs": []
    },
    {
      "cell_type": "code",
      "metadata": {
        "id": "wZKeKvW7Vnq-",
        "colab_type": "code",
        "cellView": "form",
        "colab": {}
      },
      "source": [
        "#@title (RUN CELL) Library Imports\n",
        "from matplotlib import pyplot\n",
        "import matplotlib.patches as patches\n",
        "from math import cos, sin, atan\n",
        "from palettable.tableau import Tableau_10\n",
        "from time import localtime, strftime\n",
        "import torch\n",
        "from torchvision import datasets, transforms\n",
        "import torch.nn.functional as F\n",
        "from torch import nn\n",
        "import ipywidgets as widgets\n",
        "import numpy as np\n",
        "import matplotlib.pyplot as plt"
      ],
      "execution_count": null,
      "outputs": []
    },
    {
      "cell_type": "code",
      "metadata": {
        "id": "6C7vlhwtVl9F",
        "colab_type": "code",
        "cellView": "form",
        "colab": {}
      },
      "source": [
        "#@title (RUN CELL) Helper Classes and Functions for ANN visualization\n",
        "\n",
        "# This code is a modified version of the libray written by Jianzheng Liu found at https://github.com/jzliu-100/visualize-neural-network.git  \n",
        "\n",
        "from matplotlib import pyplot\n",
        "import matplotlib.patches as patches\n",
        "from math import cos, sin, atan\n",
        "from palettable.tableau import Tableau_10\n",
        "from time import localtime, strftime\n",
        "import numpy as np\n",
        "\n",
        "class Neuron():\n",
        "    def __init__(self, x, y):\n",
        "        self.x = x\n",
        "        self.y = y\n",
        "\n",
        "    def draw(self, neuron_radius, id=-1):\n",
        "        circle = pyplot.Circle((self.x, self.y), radius=neuron_radius, fill=False)\n",
        "        pyplot.gca().add_patch(circle)\n",
        "        pyplot.gca().text(self.x, self.y-0.15, str(id), size=10, ha='center')\n",
        "\n",
        "class Layer():\n",
        "    def __init__(self, network, number_of_neurons, number_of_neurons_in_widest_layer):\n",
        "        self.vertical_distance_between_layers = 6\n",
        "        self.horizontal_distance_between_neurons = 2\n",
        "        self.neuron_radius = 0.5\n",
        "        self.number_of_neurons_in_widest_layer = number_of_neurons_in_widest_layer\n",
        "        self.previous_layer = self.__get_previous_layer(network)\n",
        "        self.y = self.__calculate_layer_y_position()\n",
        "        self.neurons = self.__intialise_neurons(number_of_neurons)\n",
        "\n",
        "    def __intialise_neurons(self, number_of_neurons):\n",
        "        neurons = []\n",
        "        x = self.__calculate_left_margin_so_layer_is_centered(number_of_neurons)\n",
        "        for iteration in range(number_of_neurons):\n",
        "            neuron = Neuron(x, self.y)\n",
        "            neurons.append(neuron)\n",
        "            x += self.horizontal_distance_between_neurons\n",
        "        return neurons\n",
        "\n",
        "    def __calculate_left_margin_so_layer_is_centered(self, number_of_neurons):\n",
        "        return self.horizontal_distance_between_neurons * (self.number_of_neurons_in_widest_layer - number_of_neurons) / 2\n",
        "\n",
        "    def __calculate_layer_y_position(self):\n",
        "        if self.previous_layer:\n",
        "            return self.previous_layer.y + self.vertical_distance_between_layers\n",
        "        else:\n",
        "            return 0\n",
        "\n",
        "    def __get_previous_layer(self, network):\n",
        "        if len(network.layers) > 0:\n",
        "            return network.layers[-1]\n",
        "        else:\n",
        "            return None\n",
        "\n",
        "    def __line_between_two_neurons(self, neuron1, neuron2, i,j, weight=0.4, textoverlaphandler=None, show_weights=True):\n",
        "        angle = atan((neuron2.x - neuron1.x) / float(neuron2.y - neuron1.y))\n",
        "        x_adjustment = self.neuron_radius * sin(angle)\n",
        "        y_adjustment = self.neuron_radius * cos(angle)\n",
        "\n",
        "        # assign colors to lines depending on the sign of the weight\n",
        "        color=Tableau_10.mpl_colors[0]\n",
        "        if weight > 0: color=Tableau_10.mpl_colors[1]\n",
        "\n",
        "        # assign different linewidths to lines depending on the size of the weight\n",
        "        abs_weight = abs(weight)        \n",
        "        if abs_weight > 0.5: \n",
        "            linewidth = 10*abs_weight\n",
        "        elif abs_weight > 0.8: \n",
        "            linewidth =  100*abs_weight\n",
        "        else:\n",
        "            linewidth = abs_weight\n",
        "\n",
        "        # draw the weights and adjust the labels of weights to avoid overlapping\n",
        "        if True: #abs_weight > 0.5: \n",
        "            # while loop to determine the optimal locaton for text lables to avoid overlapping\n",
        "            index_step = 2\n",
        "            num_segments = 10   \n",
        "            txt_x_pos = neuron1.x - x_adjustment+index_step*(neuron2.x-neuron1.x+2*x_adjustment)/num_segments\n",
        "            txt_y_pos = neuron1.y - y_adjustment+index_step*(neuron2.y-neuron1.y+2*y_adjustment)/num_segments\n",
        "            while ((not textoverlaphandler.getspace([txt_x_pos-0.5, txt_y_pos-0.5, txt_x_pos+0.5, txt_y_pos+0.5])) and index_step < num_segments):\n",
        "                index_step = index_step + 1\n",
        "                txt_x_pos = neuron1.x - x_adjustment+index_step*(neuron2.x-neuron1.x+2*x_adjustment)/num_segments\n",
        "                txt_y_pos = neuron1.y - y_adjustment+index_step*(neuron2.y-neuron1.y+2*y_adjustment)/num_segments\n",
        "\n",
        "            # print(\"Label positions: \", \"{:.2f}\".format(txt_x_pos), \"{:.2f}\".format(txt_y_pos), \"{:3.2f}\".format(weight))\n",
        "            # a=pyplot.gca().text(txt_x_pos, txt_y_pos, \"{:3.2f}\".format(weight), size=8, ha='center')\n",
        "            if show_weights:\n",
        "                a=pyplot.gca().text(txt_x_pos, txt_y_pos, \"w\"+str(i+1)+str(j+1), size=8, ha='left',fontsize=12, color='red')\n",
        "                a.set_bbox(dict(facecolor='white', alpha=0))\n",
        "            # print(a.get_bbox_patch().get_height())\n",
        "\n",
        "        line = pyplot.Line2D((neuron1.x - x_adjustment, neuron2.x + x_adjustment), (neuron1.y - y_adjustment, neuron2.y + y_adjustment), linewidth=linewidth, color=color)\n",
        "        x1,x2 = neuron1.x - x_adjustment, neuron2.x + x_adjustment\n",
        "        y1,y2 = neuron1.y - y_adjustment, neuron2.y + y_adjustment\n",
        "        pyplot.annotate(\"\",\n",
        "                xy=(x1, y1), xycoords='data',\n",
        "                xytext=(x2, y2), textcoords='data',\n",
        "                arrowprops=dict(arrowstyle=\"->\", color=\"0\",\n",
        "                                shrinkA=5, shrinkB=5,\n",
        "                                patchA=None, patchB=None,\n",
        "                                connectionstyle=\"arc3,rad=0.\",\n",
        "                                ),\n",
        "                )\n",
        "        #pyplot.gca().add_line(line)\n",
        "\n",
        "    def draw(self, layerType=0, weights=None, textoverlaphandler=None, show_weights=True):\n",
        "        j=0 # index for neurons in this layer\n",
        "        for neuron in self.neurons:            \n",
        "            i=0 # index for neurons in previous layer\n",
        "            neuron.draw( self.neuron_radius, id=j+1 )\n",
        "            if self.previous_layer:\n",
        "                for previous_layer_neuron in self.previous_layer.neurons:\n",
        "                    self.__line_between_two_neurons(neuron, previous_layer_neuron, i,j, weights[i,j], textoverlaphandler, show_weights=show_weights)\n",
        "                    i=i+1\n",
        "            j=j+1\n",
        "        \n",
        "        # write Text\n",
        "        x_text = self.number_of_neurons_in_widest_layer * self.horizontal_distance_between_neurons\n",
        "        if layerType == 0:\n",
        "            pyplot.text(x_text, self.y, 'Input Layer', fontsize = 12)\n",
        "        elif layerType == -1:\n",
        "            pyplot.text(x_text, self.y, 'Output Layer', fontsize = 12)\n",
        "        else:\n",
        "            pyplot.text(x_text, self.y, 'Hidden Layer '+str(layerType), fontsize = 12)\n",
        "\n",
        "# A class to handle Text Overlapping\n",
        "# The idea is to first create a grid space, if a grid is already occupied, then\n",
        "# the grid is not available for text labels.\n",
        "class TextOverlappingHandler():\n",
        "    # initialize the class with the width and height of the plot area\n",
        "    def __init__(self, width, height, grid_size=0.2):\n",
        "        self.grid_size = grid_size\n",
        "        self.cells = np.ones((int(np.ceil(width / grid_size)), int(np.ceil(height / grid_size))), dtype=bool)\n",
        "\n",
        "    # input test_coordinates(bottom left and top right), \n",
        "    # getspace will tell you whether a text label can be put in the test coordinates\n",
        "    def getspace(self, test_coordinates):\n",
        "        x_left_pos = int(np.floor(test_coordinates[0]/self.grid_size))\n",
        "        y_botttom_pos = int(np.floor(test_coordinates[1]/self.grid_size))\n",
        "        x_right_pos = int(np.floor(test_coordinates[2]/self.grid_size))\n",
        "        y_top_pos = int(np.floor(test_coordinates[3]/self.grid_size))\n",
        "        if self.cells[x_left_pos, y_botttom_pos] and self.cells[x_left_pos, y_top_pos] \\\n",
        "        and self.cells[x_right_pos, y_top_pos] and self.cells[x_right_pos, y_botttom_pos]:\n",
        "            for i in range(x_left_pos, x_right_pos):\n",
        "                for j in range(y_botttom_pos, y_top_pos):\n",
        "                    self.cells[i, j] = False\n",
        "\n",
        "            return True\n",
        "        else:\n",
        "            return False\n",
        "\n",
        "class NeuralNetwork():\n",
        "    def __init__(self, number_of_neurons_in_widest_layer):\n",
        "        self.number_of_neurons_in_widest_layer = number_of_neurons_in_widest_layer\n",
        "        self.layers = []\n",
        "        self.layertype = 0\n",
        "\n",
        "    def add_layer(self, number_of_neurons ):\n",
        "        layer = Layer(self, number_of_neurons, self.number_of_neurons_in_widest_layer)\n",
        "        self.layers.append(layer)\n",
        "\n",
        "    def draw(self, weights_list=None, show_weights=True):\n",
        "        # vertical_distance_between_layers and horizontal_distance_between_neurons are the same with the variables of the same name in layer class\n",
        "        vertical_distance_between_layers = 6\n",
        "        horizontal_distance_between_neurons = 2\n",
        "        overlaphandler = TextOverlappingHandler(\\\n",
        "            self.number_of_neurons_in_widest_layer*horizontal_distance_between_neurons,\\\n",
        "            len(self.layers)*vertical_distance_between_layers, grid_size=0.2 )\n",
        "\n",
        "        pyplot.figure(figsize=(12, 9))\n",
        "        for i in range( len(self.layers) ):\n",
        "            layer = self.layers[i]                                \n",
        "            if i == 0:\n",
        "                layer.draw( layerType=0, show_weights=show_weights)\n",
        "            elif i == len(self.layers)-1:\n",
        "                layer.draw( layerType=-1, weights=weights_list[i-1], textoverlaphandler=overlaphandler, show_weights=show_weights)\n",
        "            else:\n",
        "                layer.draw( layerType=i, weights=weights_list[i-1], textoverlaphandler=overlaphandler, show_weights=show_weights)\n",
        "\n",
        "        pyplot.axis('scaled')\n",
        "        pyplot.axis('off')\n",
        "        pyplot.title( 'Neural Network architecture', fontsize=15 )\n",
        "        #figureName='ANN_'+strftime(\"%Y%m%d_%H%M%S\", localtime())+'.png'\n",
        "        #pyplot.savefig(figureName, dpi=300, bbox_inches=\"tight\")\n",
        "        pyplot.show()\n",
        "\n",
        "class ANN_Arch_View():\n",
        "    # para: neural_network is an array of the number of neurons \n",
        "    # from input layer to output layer, e.g., a neural network of 5 nerons in the input layer, \n",
        "    # 10 neurons in the hidden layer 1 and 1 neuron in the output layer is [5, 10, 1]\n",
        "    # para: weights_list (optional) is the output weights list of a neural network which can be obtained via classifier.coefs_\n",
        "    def __init__( self, neural_network, weights_list=None ):\n",
        "        self.neural_network = neural_network\n",
        "        self.weights_list = weights_list\n",
        "        # if weights_list is none, then create a uniform list to fill the weights_list\n",
        "        if weights_list is None:\n",
        "            weights_list=[]\n",
        "            for first, second in zip(neural_network, neural_network[1:]):\n",
        "                tempArr = np.ones((first, second))*0.4\n",
        "                weights_list.append(tempArr)\n",
        "            self.weights_list = weights_list\n",
        "        \n",
        "    def draw( self, show_weights=True):\n",
        "        widest_layer = max( self.neural_network )\n",
        "        network = NeuralNetwork( widest_layer )\n",
        "        for l in self.neural_network:\n",
        "            if l>0:\n",
        "                network.add_layer(l)\n",
        "        network.draw(self.weights_list,show_weights=show_weights)"
      ],
      "execution_count": null,
      "outputs": []
    },
    {
      "cell_type": "markdown",
      "metadata": {
        "id": "FnjeuzFszg8g",
        "colab_type": "text"
      },
      "source": [
        "# Activity 1. Biological Nervous Systems"
      ]
    },
    {
      "cell_type": "markdown",
      "metadata": {
        "id": "4tkqF7CXwb_R",
        "colab_type": "text"
      },
      "source": [
        "## Activity 1 Scientific Basis of ANNs:\n",
        "\n",
        "In (most) natural systems, information processing is done by the nervous​ system, which consists of the brain, spinal cord, and peripheral nerves. Each of these parts contains many nerve​ ​cells​, also called neurons​. The table above shows the typical number of neurons in various animal species. Describe the relationship between number of neurons and the animal’s:"
      ]
    },
    {
      "cell_type": "markdown",
      "metadata": {
        "id": "KOmRci6FzvaC",
        "colab_type": "text"
      },
      "source": [
        "# Fig 1\n",
        "\n",
        "Consider the following diagram in Fig. 1, and answer questions 1-2:\n",
        "\n",
        "![ANN fig 1](https://raw.githubusercontent.com/sbhattac/ai-workshop/master/ANN/fig1.png)\n"
      ]
    },
    {
      "cell_type": "code",
      "metadata": {
        "id": "auqHE4eOG2Mt",
        "colab_type": "code",
        "cellView": "form",
        "colab": {}
      },
      "source": [
        "#@title #(RUN upon completion) Activity 1 Questions 1 - 2\n",
        "#@markdown 1. Describe the relationship between number of neurons and the animal’s size\n",
        "activity1_answer1 = \"\" #@param {type:\"string\"}\n",
        "#@markdown 2. Describe the relationship between number of neurons and the animal’s intelligence\n",
        "activity1_answer2 = \"\" #@param {type:\"string\"}"
      ],
      "execution_count": null,
      "outputs": []
    },
    {
      "cell_type": "markdown",
      "metadata": {
        "id": "89uZGcc80EgY",
        "colab_type": "text"
      },
      "source": [
        "# Fig 2\n",
        "Neurons can be grouped into 3 broad categories:\n",
        "\n",
        "● <b>afferent neurons</b> send signals toward the brain\n",
        "\n",
        "● <b>efferent neurons</b> send signals away from the brain\n",
        "\n",
        "● <b>interneurons connect</b> other neurons.\n",
        "\n",
        "(Remember that <b>afferents approach</b> the brain,\n",
        "and <b>efferents exit</b> the brain.)\n",
        "\n",
        "Answer questions 3-11 based on these terms. \n",
        "\n",
        "![ANN fig 2](https://raw.githubusercontent.com/sbhattac/ai-workshop/master/ANN/fig2.png)\n"
      ]
    },
    {
      "cell_type": "code",
      "metadata": {
        "id": "KJ9CvEiBKqSZ",
        "colab_type": "code",
        "cellView": "form",
        "colab": {}
      },
      "source": [
        "#@title #(RUN upon completion) Activity 1 Questions 3 - 11\n",
        "#@markdown ###Label each of the following as A (afferent) or E (efferent) :\n",
        "\n",
        "#@markdown 3.\tPhotoreceptor (light-sensitive) cells in the retina of the eye\n",
        "activity1_answer3 = \"\" #@param {type:\"string\"}\n",
        "#@markdown 4. Hair cells that react to sound vibrations in the cochlea of the ear\n",
        "activity1_answer4 = \"\" #@param {type:\"string\"}\n",
        "#@markdown 5. Cells in muscles that cause the muscles to move\n",
        "activity1_answer5 = \"\" #@param {type:\"string\"}\n",
        "#@markdown 6.\tCells in muscles that sense the relative position of body parts (used for proprioception)\n",
        "activity1_answer6 = \"\" #@param {type:\"string\"}\n",
        "#@markdown 7.\tCells that cause the mouth to produce saliva\n",
        "activity1_answer7 = \"\" #@param {type:\"string\"}\n",
        "\n",
        "#@markdown ###Sensory neurons sense information, and motor neurons control muscles and glands.\n",
        "#@markdown 8.  Which examples above (3-7) are sensory neurons?\n",
        "activity1_answer8 = \"\" #@param {type:\"string\"}\n",
        "#@markdown 9.  Which examples above (3-7) are motor neurons?\n",
        "activity1_answer9 = \"\" #@param {type:\"string\"}\n",
        "#@markdown 10.  Are sensory neurons afferent or efferent?\n",
        "activity1_answer10 = \"\" #@param {type:\"string\"}\n",
        "#@markdown 11.  Are motor neurons afferent or efferent?\n",
        "activity1_answer11 = \"\" #@param {type:\"string\"}"
      ],
      "execution_count": null,
      "outputs": []
    },
    {
      "cell_type": "markdown",
      "metadata": {
        "id": "QTChWW2DiPQy",
        "colab_type": "text"
      },
      "source": [
        "# Fig 3\n",
        "Different types of neurons have different shapes and structures, but most contain a similar set of components, shown below.\n",
        "\n",
        "When a neuron <b>fires</b>, a electrical signal travels from the soma, through the axon, and to terminals that connect to the dendrites of other neurons, so that some of these other neurons may also fire as a result of this signal. This signal is called an <b>action potential</b> and is how the system <b>reacts</b>. \n",
        "\n",
        "The dendritic connections between neurons change over time (more slowly). These changing connections are how the system <b>learns</b>. \n",
        "\n",
        "To create artificial neural systems (either as simulations or to solve other problems), we need to consider both processes - <b>reacting</b> and <b>learning</b>.\n",
        "\n",
        "Consider the following diagram in Fig. 3, and answer questions 12-15:\n",
        "\n",
        "![ANN fig 3 ](https://raw.githubusercontent.com/sbhattac/ai-workshop/master/ANN/fig3-neuron-image.png)\n"
      ]
    },
    {
      "cell_type": "code",
      "metadata": {
        "id": "k9gX3vs4jEno",
        "colab_type": "code",
        "cellView": "form",
        "colab": {}
      },
      "source": [
        "#@title #(RUN upon completion) Activity 1 Questions 12 - 15\n",
        "#@markdown ###Match the labels (A-D) to the descriptions below:\n",
        "\n",
        "#@markdown 12.\tThe soma is the main cell body with the nucleus .\n",
        "activity1_answer3 = \"\" #@param {type:\"string\"}\n",
        "#@markdown 13. The soma has branching dendrites that receive signals from other cells.\n",
        "activity1_answer4 = \"\" #@param {type:\"string\"}\n",
        "#@markdown 14. The axon is the long arm that sends signals from the soma.\n",
        "activity1_answer5 = \"\" #@param {type:\"string\"}\n",
        "#@markdown 15.\tTerminals connect the axon to the dendrites of other neurons.\n",
        "activity1_answer6 = \"\" #@param {type:\"string\"}"
      ],
      "execution_count": null,
      "outputs": []
    },
    {
      "cell_type": "markdown",
      "metadata": {
        "id": "_ZdciI4UPSJY",
        "colab_type": "text"
      },
      "source": [
        "# Activity 2. Perceptrons\n",
        "\n",
        "\n"
      ]
    },
    {
      "cell_type": "markdown",
      "metadata": {
        "id": "oOpFg2hLQQQm",
        "colab_type": "text"
      },
      "source": [
        "## A) Bridging the gap between biological and artificial NNs: Perceptron\n",
        "\n",
        "In a typical Artificial Neural Network (ANN), each neuron has a set of <b>inputs</b> and one <b>output</b>. Each input value is multipled by a <b>weight</b> (positive or negative) to determine its effect. \n",
        "\n",
        "The weighted inputs are added together, and then an <b>activation function</b> (also called a <b>transfer function</b>) is applied to the sum to determine the output value. \n",
        "\n",
        "![ANN fig 4 ](https://raw.githubusercontent.com/sbhattac/ai-workshop/master/ANN/fig4-perceptron.png)\n",
        "\n",
        "Thus the neuron’s operation can be written as:\n",
        "$$y_j=f(\\sum_{i=1}^n x_iw_{ij})$$\n",
        "\n",
        "This model of a neuron is called a <b>perceptron</b>."
      ]
    },
    {
      "cell_type": "code",
      "metadata": {
        "colab_type": "code",
        "cellView": "form",
        "id": "ROeK6A14-ndA",
        "colab": {}
      },
      "source": [
        "#@title #(RUN upon completion) Activity 2 (A) Questions 1 - 7\n",
        "#@markdown ###Refer to the diagram and equation above and identify:\n",
        "#@markdown 1.\tthe letter used for the <b>input(s)</b> ?\n",
        "activity2_answer1 = \"\" #@param {type:\"string\"} \n",
        "#@markdown 2.\tthe letter used for the <b>output(s)</b> ?\n",
        "activity2_answer2 = \"\" #@param {type:\"string\"} \n",
        "#@markdown 3.\tthe letter used for the <b>transfer function</b> ?\n",
        "activity2_answer3 = \"\" #@param {type:\"string\"} \n",
        "#@markdown 4.\tthe letter & subscripts used for the <b>weight</b> between input #2 and output #1.\n",
        "activity2_answer4 = \"\" #@param {type:\"string\"} \n",
        "#@markdown 5.\tthe letter that best fits a neuron’s <b>dendrites</b> ?\n",
        "activity2_answer5 = \"\" #@param {type:\"string\"} \n",
        "#@markdown 6.\tthe letter that best fits a neuron’s <b>terminals</b> ?\n",
        "activity2_answer6 = \"\" #@param {type:\"string\"} \n",
        "#@markdown 7.\tthe letter that best fits a neuron’s <b>soma</b> ?\n",
        "activity2_answer7 = \"\" #@param {type:\"string\"} "
      ],
      "execution_count": null,
      "outputs": []
    },
    {
      "cell_type": "markdown",
      "metadata": {
        "id": "N4R7cnJR-qlV",
        "colab_type": "text"
      },
      "source": [
        "## B) Modifying code to visualize different ANN architectures:\n",
        "The code cell below when executed will show you the architecture of an ANN with some small differences with the picture shown above. The inputs also have their own nodes (circles). Note that they <b> do not </b> apply an activation function. All other nodes apply activation function on their weighted inputs. Also, note that the inputs are just labeled with numbers and not with 'x' and a subscript. The output y is also understood and not shown. Only weights are shown.  \n",
        "\n",
        "<b>This code cell below needs to be \"shown\" by choosing Edit -> Show/hide code. You are asked to change some values in it and re-execute it </b> in questions 8 - 12 below. After this work you can hide it again by choosing Edit -> Show/hide code.\n",
        "\n",
        "In Python comments begin with # and those lines with comments that have the words <b>TRY CHANGING</b> are usually the ones you will modify in the exercises."
      ]
    },
    {
      "cell_type": "code",
      "metadata": {
        "id": "L43xlDq-6_qw",
        "colab_type": "code",
        "cellView": "form",
        "colab": {}
      },
      "source": [
        "#@title # (MODIFY AND RUN CELL) Coding for Activity 2 (B) to answer Questions 8 - 10\n",
        "network=ANN_Arch_View([2,1]) # TRY CHANGING, the first number in this list is number of input nodes, next number is number of output nodes\n",
        "network.draw(show_weights=True)"
      ],
      "execution_count": null,
      "outputs": []
    },
    {
      "cell_type": "code",
      "metadata": {
        "id": "Zg7fZ04QRSM9",
        "colab_type": "code",
        "cellView": "form",
        "colab": {}
      },
      "source": [
        "#@title # Activity 2 Questions 8 - 10\n",
        "#@markdown 8.\tChange the code cell above and run it to visualize an ANN with 5 input nodes and 1 output node. What is the name of the weight connecting input node 4 to the output node?\n",
        "activity2_answer2 = \"\" #@param {type:\"string\"} \n",
        "#@markdown 9.\tChange the code cell above and run it to visualize an ANN with 5 input nodes and 3 output nodes. What is the name of the weight connecting input node 2 to the output node 3?\n",
        "activity2_answer3 = \"\" #@param {type:\"string\"} \n",
        "#@markdown 10. How many weight values will an ANN of 7 input nodes and 5 output nodes have? You may change the code and run it to visualize this ANN.\n",
        "activity2_answer3 = \"\" #@param {type:\"string\"} "
      ],
      "execution_count": null,
      "outputs": []
    },
    {
      "cell_type": "code",
      "metadata": {
        "colab_type": "code",
        "id": "vYFxXxF7NVLI",
        "cellView": "form",
        "colab": {}
      },
      "source": [
        "#@title # (MODIFY AND RUN CELL) Coding for Activity 2 (B) to answer Questions 11 - 13\n",
        "network=ANN_Arch_View([4, 2, 2, 1]) # TRY CHANGING, list of number of nodes in all layers starting from input through hidden layers and ending with number of nodes in output layer\n",
        "network.draw(show_weights=True)"
      ],
      "execution_count": null,
      "outputs": []
    },
    {
      "cell_type": "code",
      "metadata": {
        "id": "atUXsiSlSfzY",
        "colab_type": "code",
        "cellView": "form",
        "colab": {}
      },
      "source": [
        "#@title #(RUN upon completion) Activity 2 (B) Questions 11 - 13\n",
        "#@markdown 11. Why are some layers called hidden layers as seen in the ANN architecture above? Hint: think of an approximate analogy to biological nervous systems.\n",
        "activity2_answer11 = \"\" #@param {type:\"string\"} \n",
        "#@markdown 12. An ANN of architecture <b>[4, 2, 2, 1]</b> has two weights named <b>w22</b> - are they the same?\n",
        "activity2_answer12 = \"\" #@param {type:\"string\"} \n",
        "#@markdown 13. How many weights would an ANN of architecture <b>[5, 4, 3, 2, 1]</b> have? You may change and re-run the code cell above to visualize it. <b>Extra fun</b>: to unclutter the picture you can hide the weight names by setting the show_weights input to False, with show_weights=False (just change True to False)\n",
        "activity2_answer13 = \"\" #@param {type:\"string\"} "
      ],
      "execution_count": null,
      "outputs": []
    },
    {
      "cell_type": "markdown",
      "metadata": {
        "id": "vFeAVzqhfqiS",
        "colab_type": "text"
      },
      "source": [
        "# Activity 3. Perceptrons and Activation Functions\n",
        "\n"
      ]
    },
    {
      "cell_type": "code",
      "metadata": {
        "id": "KJLvnTDRcVew",
        "colab_type": "code",
        "cellView": "form",
        "colab": {}
      },
      "source": [
        "#@title #(RUN CELL) Class and Object for a [3,1] ANN creation in PyTorch\n",
        "\n",
        "class MyANNModel(nn.Module):\n",
        "  def __init__(self):\n",
        "    super().__init__()\n",
        "    self.fc1 = nn.Linear(3, 1,bias=False)\n",
        "    \n",
        "  def forward(self, x):\n",
        "    x = x.view(x.shape[0], -1)\n",
        "    x = self.fc1(x)\n",
        "    x = my_activation(x)\n",
        "    return x\n",
        "    \n",
        "ANN_model = MyANNModel()"
      ],
      "execution_count": null,
      "outputs": []
    },
    {
      "cell_type": "code",
      "metadata": {
        "colab_type": "code",
        "cellView": "form",
        "id": "6PkA-jNgoEKc",
        "colab": {}
      },
      "source": [
        "#@title #(RUN CELL) Helper Functions to create widgets for controlling the [3,1] PyTorch ANN\n",
        "\n",
        "def plot_output_node_activation(model, num_input_nodes, out_node_num, **k):\n",
        "    '''Plots the activation output of one node given a model which has no hidden layers'''\n",
        "    plt.figure(figsize=(7,5))\n",
        "    plt.title('Output of activation function from node ' + str(out_node_num))\n",
        "    plt.ylim(-1.2, 1.2)\n",
        "    plt.xlim(-2, 2)\n",
        "    wsums = np.arange(-2,2,0.1)\n",
        "    pl=plt.plot(wsums,my_activation(torch.tensor(wsums)))\n",
        "    x_vals = []\n",
        "    w_vals = []\n",
        "    for i in range(num_input_nodes):\n",
        "        x_vals.append(k['x'+str(i+1)])\n",
        "        w_vals.append(k['w'+str(i+1)+str(out_node_num)])\n",
        "        model.fc1.__dict__['_parameters']['weight'][out_node_num-1][i] = k['w'+str(i+1)+str(out_node_num)]\n",
        "    xv = np.dot(x_vals,w_vals)\n",
        "    yv = model.forward(torch.tensor([x_vals])).item()\n",
        "    plt.scatter([xv], [yv], color='red', s=30)\n",
        "    plt.xlabel('weighted sum of inputs')\n",
        "    plt.ylabel('activation function output')\n",
        "    plt.grid(True)\n",
        "    plt.tight_layout() \n",
        "\n",
        "def make_output_node_widgets(model, num_input_nodes, out_node_num):\n",
        "    wght_wdgts = [] # weight widgets\n",
        "    inpt_wdgts = [] # input widgets\n",
        "    for i in range(1,(num_input_nodes+1)):\n",
        "        inpt_wdgts.append(widgets.FloatSlider(min=-1.0,max=1.0,description='x'+str(i)))\n",
        "        wght_wdgts.append(widgets.FloatSlider(min=0.0,max=1.0,description='w'+str(i)+str(out_node_num)))\n",
        "    ui = widgets.HBox([widgets.VBox(inpt_wdgts), widgets.VBox(wght_wdgts)])\n",
        "    all_wgts ={}\n",
        "    all_wgts['out_node_num'] = widgets.fixed(out_node_num)\n",
        "    all_wgts['num_input_nodes'] = widgets.fixed(num_input_nodes)\n",
        "    all_wgts['model'] = widgets.fixed(model)\n",
        "    for xws in inpt_wdgts:\n",
        "        all_wgts[xws.description] = xws\n",
        "    for wws in wght_wdgts:\n",
        "        all_wgts[wws.description] = wws\n",
        "    inter = widgets.interactive_output(plot_output_node_activation,all_wgts)\n",
        "    display(ui,inter)"
      ],
      "execution_count": null,
      "outputs": []
    },
    {
      "cell_type": "markdown",
      "metadata": {
        "id": "OXjRo2VrYVnU",
        "colab_type": "text"
      },
      "source": [
        "## A) Understanding Activation Functions:\n",
        "\n",
        "An <b>activation</b> (or <b>transfer</b> ) function converts the weighted sum of input values into an output value for a perceptron (you may want to look back at Activity 2 (A) for the perceptron model). \n",
        "\n",
        "There are several good choices of activation functions for ANNs which are biology inspired and work well with ANNs. Some of them are shown below in the diagram.\n",
        "![ANN fig 5 ](https://raw.githubusercontent.com/sbhattac/ai-workshop/master/ANN/fig5.png)\n",
        "The MODIFY AND RUN CELL below has code for an activation function of a <b>[3,1]</b> ANN i.e. one with 3 inputs and 1 output. It shows the graphical output of the function as computed by the ANN built in PyTorch in one of the earlier code cells. Through widgets you will be able to directly modify the weights of this ANN (in practice the weights are \"learned\" which is something we will see later).\n",
        "\n",
        "For answer questions 1 - 15 you will need to modify and run the code cell below multiple times. Be <b>attentive</b> to the hints in comments.\n"
      ]
    },
    {
      "cell_type": "code",
      "metadata": {
        "id": "kjL5MGmwpMhk",
        "colab_type": "code",
        "cellView": "form",
        "colab": {}
      },
      "source": [
        "#@title #(MODIFY AND RUN CELL) Coding for Activity 3 (A) to answer Questions 1 - 17\n",
        "#@markdown <b>INSTRUCTION</b>: have ONLY one line uncommented at a time, i.e. no hashtag (#) in front of only one out_value computing line\n",
        "def my_activation(in_value):\n",
        "    out_value = in_value/2.0 # Function F\n",
        "    #out_value = torch.sign(in_value) # Function G\n",
        "    #out_value = torch.tanh(in_value) # Function H\n",
        "    #out_value = torch.sign(in_value - 1.5) # Mystery Function X\n",
        "    #out_value = torch.nn.functional.relu(in_value) # Mystery Function Y\n",
        "    return out_value\n",
        "\n",
        "make_output_node_widgets(ANN_model, ANN_model.fc1.in_features, ANN_model.fc1.out_features)"
      ],
      "execution_count": null,
      "outputs": []
    },
    {
      "cell_type": "code",
      "metadata": {
        "id": "eKy7htAIfpPL",
        "colab_type": "code",
        "cellView": "form",
        "colab": {}
      },
      "source": [
        "#@title #(RUN upon completion) Activity 3 Questions 1 - 17\n",
        "#@markdown <b>For Function F (make sure the correct statement is uncommented in the code cell above to plot function):</b>\n",
        "#@markdown 1. If the sum of inputs is 2, what is the output?\n",
        "activity3_answer1 = \"\" #@param {type:\"string\"}\n",
        "#@markdown 2. If the sum of inputs is 1, what is the output?\n",
        "activity3_answer2 = \"\" #@param {type:\"string\"}\n",
        "#@markdown 3. What is the minimum output value for any input?\n",
        "activity3_answer3 = \"\" #@param {type:\"string\"}\n",
        "#@markdown 4. Could a small change in one input cause a large change in the output? \n",
        "activity3_answer4 = \"\" #@param {type:\"string\"}\n",
        "\n",
        "#@markdown <b>For Function G (make sure the correct statement is uncommented in the code cell above to plot function):</b>\n",
        "#@markdown 5. If the sum of inputs is 2, what is the output?\n",
        "activity3_answer5 = \"\" #@param {type:\"string\"}\n",
        "#@markdown 6. If the sum of inputs is 1, what is the output?\n",
        "activity3_answer6 = \"\" #@param {type:\"string\"}\n",
        "#@markdown 7. What is the minimum output value for any input?\n",
        "activity3_answer7 = \"\" #@param {type:\"string\"}\n",
        "#@markdown 8. Could a small change in one input cause a large change in the output? \n",
        "activity3_answer8 = \"\" #@param {type:\"string\"}\n",
        "\n",
        "#@markdown <b>For Function H (make sure the correct statement is uncommented in the code cell above to plot function):</b>\n",
        "#@markdown 9. If the sum of inputs is 2, what is the output?\n",
        "activity3_answer9 = \"\" #@param {type:\"string\"}\n",
        "#@markdown 10. If the sum of inputs is 1, what is the output?\n",
        "activity3_answer10 = \"\" #@param {type:\"string\"}\n",
        "#@markdown 11. What is the minimum output value for any input?\n",
        "activity3_answer11 = \"\" #@param {type:\"string\"}\n",
        "#@markdown 12. Could a small change in one input cause a large change in the output? \n",
        "activity3_answer12 = \"\" #@param {type:\"string\"}\n",
        "\n",
        "#@markdown <b>Which of the activation functions (F,G,H) is:</b>\n",
        "#@markdown 13. A step function?\n",
        "activity3_answer13 = \"\" #@param {type:\"string\"}\n",
        "#@markdown 14. A linear function?\n",
        "activity3_answer14 = \"\" #@param {type:\"string\"}\n",
        "#@markdown 15. A sigmoid function?\n",
        "activity3_answer15 = \"\" #@param {type:\"string\"}\n",
        "\n",
        "#@markdown 16. How would you describe mystery function X?\n",
        "activity3_answer16 = \"\" #@param {type:\"string\"}\n",
        "#@markdown 17. How would you describe mystery function Y?\n",
        "activity3_answer17 = \"\" #@param {type:\"string\"}\n"
      ],
      "execution_count": null,
      "outputs": []
    },
    {
      "cell_type": "markdown",
      "metadata": {
        "id": "INqtQdftlEPc",
        "colab_type": "text"
      },
      "source": [
        "# Activity 4. Perceptrons for Logic"
      ]
    },
    {
      "cell_type": "code",
      "metadata": {
        "id": "f7dLpj0j5YrC",
        "colab_type": "code",
        "cellView": "form",
        "colab": {}
      },
      "source": [
        "#@title #(RUN CELL) Class and Object for a [2,1] ANN creation in PyTorch suitable for Logic functions\n",
        "\n",
        "class MyANNModel(nn.Module):\n",
        "  def __init__(self):\n",
        "    super().__init__()\n",
        "    self.fc1 = nn.Linear(2, 1,bias=False)\n",
        "    \n",
        "  def forward(self, x):\n",
        "    x = x.view(x.shape[0], -1)\n",
        "    x = self.fc1(x)\n",
        "    x = my_activation(x)\n",
        "    return x\n",
        "    \n",
        "ANN_model = MyANNModel()"
      ],
      "execution_count": null,
      "outputs": []
    },
    {
      "cell_type": "code",
      "metadata": {
        "id": "kfeb4Jbb9P_e",
        "colab_type": "code",
        "cellView": "form",
        "colab": {}
      },
      "source": [
        "#@title #(RUN CELL) Helper Functions to create widgets for controlling the [2,1] PyTorch ANN\n",
        "\n",
        "def make_output_node_widgets(model, num_input_nodes, out_node_num):\n",
        "    wght_wdgts = [] # weight widgets\n",
        "    inpt_wdgts = [] # input widgets\n",
        "    for i in range(1,(num_input_nodes+1)):\n",
        "        inpt_wdgts.append(widgets.FloatSlider(min=0,max=1,step=1,value=0,description='x'+str(i)))\n",
        "        wght_wdgts.append(widgets.FloatSlider(min=0,max=2,step=1,value=-1,description='w'+str(i)+str(out_node_num)))\n",
        "    ui = widgets.HBox([widgets.VBox(inpt_wdgts), widgets.VBox(wght_wdgts)])\n",
        "    all_wgts ={}\n",
        "    all_wgts['out_node_num'] = widgets.fixed(out_node_num)\n",
        "    all_wgts['num_input_nodes'] = widgets.fixed(num_input_nodes)\n",
        "    all_wgts['model'] = widgets.fixed(model)\n",
        "    for xws in inpt_wdgts:\n",
        "        all_wgts[xws.description] = xws\n",
        "    for wws in wght_wdgts:\n",
        "        all_wgts[wws.description] = wws\n",
        "    inter = widgets.interactive_output(plot_output_node_activation,all_wgts)\n",
        "    display(ui,inter)"
      ],
      "execution_count": null,
      "outputs": []
    },
    {
      "cell_type": "markdown",
      "metadata": {
        "id": "D_b0jAzTYujS",
        "colab_type": "text"
      },
      "source": [
        "## A) Thinking Logically with ANNs:\n",
        "\n",
        "Logical thinking is ingrained in human language and patterns of communication. Can we create a simple [2,1] ANN to create a \"logically thinking\" ANN to reproduce the input/output functionality of the AND and OR functions shown below? \n",
        "\n",
        "Note that the AND and OR logic need to be implemented by two separate set of choices for weights. The inputs x1 and x2 are limited to 0 (for F) and 1 (for T). The weights can be 0, 1 or 2. <b>These constraints are set in how the sliders operate to select those values.</b>   \n",
        "![ANN fig 6](https://raw.githubusercontent.com/sbhattac/ai-workshop/master/ANN/fig6-logic.png)\n",
        "![ANN fig 7](https://raw.githubusercontent.com/sbhattac/ai-workshop/master/ANN/fig7-logic.png)\n"
      ]
    },
    {
      "cell_type": "code",
      "metadata": {
        "id": "_Ehqq2mw622K",
        "colab_type": "code",
        "cellView": "form",
        "colab": {}
      },
      "source": [
        "#@title #(RUN CELL) Coding for Activity 4 (A) to answer Questions 1 - 2\n",
        "def my_activation(in_value):\n",
        "    out_value = torch.sign(torch.relu(in_value - 1))\n",
        "    return out_value\n",
        "\n",
        "make_output_node_widgets(ANN_model, ANN_model.fc1.in_features, ANN_model.fc1.out_features)"
      ],
      "execution_count": null,
      "outputs": []
    },
    {
      "cell_type": "code",
      "metadata": {
        "id": "9xge1bSBmlvw",
        "colab_type": "code",
        "cellView": "form",
        "colab": {}
      },
      "source": [
        "#@title #(RUN upon completion) Activity 4 (A) Questions 1 - 2\n",
        "\n",
        "#@markdown 1. What set of weights did you choose to implement the AND logic?\n",
        "activity5_answer1 = \"\" #@param {type:\"string\"}\n",
        "#@markdown 2. What set of weights did you choose to implement the OR logic?\n",
        "activity5_answer2 = \"\" #@param {type:\"string\"}\n"
      ],
      "execution_count": null,
      "outputs": []
    },
    {
      "cell_type": "markdown",
      "metadata": {
        "id": "_3f-lt4Kvzqf",
        "colab_type": "text"
      },
      "source": [
        "# Activity 5. Perceptrons for Images"
      ]
    },
    {
      "cell_type": "code",
      "metadata": {
        "id": "eSOi6hrBIK4q",
        "colab_type": "code",
        "cellView": "form",
        "colab": {}
      },
      "source": [
        "#@title #(RUN CELL) Class and Object for a [9,4] ANN creation in PyTorch for 3 X 3 image input and 4 classes\n",
        "\n",
        "class MyANNModel(nn.Module):\n",
        "  def __init__(self):\n",
        "    super().__init__()\n",
        "    self.fc1 = nn.Linear(9, 4,bias=False)\n",
        "    \n",
        "  def forward(self, x):\n",
        "    x = x.view(x.shape[0], -1)\n",
        "    x = self.fc1(x)\n",
        "    x = my_activation(x)\n",
        "    return x\n",
        "    \n",
        "ANN_model = MyANNModel()"
      ],
      "execution_count": null,
      "outputs": []
    },
    {
      "cell_type": "code",
      "metadata": {
        "id": "HXW6yFw5LMCN",
        "colab_type": "code",
        "cellView": "form",
        "colab": {}
      },
      "source": [
        "#@title #(RUN CELL) Helper Functions to create widgets for controlling the [9,4] PyTorch ANN\n",
        "def plot_output_node_activation(model, num_input_nodes, out_node_num, **k):\n",
        "    '''Plots the activation output of one node given a model which has no hidden layers'''\n",
        "    plt.figure(figsize=(7,5))\n",
        "    plt.title('Output of activation function from node ' + str(out_node_num))\n",
        "    plt.ylim(-1.2, 1.2)\n",
        "    plt.xlim(-2, 2)\n",
        "    wsums = np.arange(-2,2,0.1)\n",
        "    pl=plt.plot(wsums,my_activation(torch.tensor(wsums)))\n",
        "    x_vals = []\n",
        "    w_vals = []\n",
        "    for i in range(num_input_nodes):\n",
        "        x_vals.append(k['x'+str(i+1)])\n",
        "        w_vals.append(k['w'+str(i+1)+str(out_node_num)])\n",
        "        model.fc1.__dict__['_parameters']['weight'][out_node_num-1][i] = k['w'+str(i+1)+str(out_node_num)]\n",
        "    xv = np.dot(x_vals,w_vals)\n",
        "    yv = model.forward(torch.tensor([x_vals]))[0][out_node_num].item()\n",
        "    plt.scatter([xv], [yv], color='red', s=30)\n",
        "    plt.xlabel('weighted sum of inputs')\n",
        "    plt.ylabel('activation function output')\n",
        "    plt.grid(True)\n",
        "    plt.tight_layout() \n",
        "\n",
        "def make_output_node_widgets(model, num_input_nodes, out_node_num):\n",
        "    wght_wdgts = [] # weight widgets\n",
        "    inpt_wdgts = [] # input widgets\n",
        "    for i in range(1,(num_input_nodes+1)):\n",
        "        inpt_wdgts.append(widgets.FloatSlider(min=0,max=1,step=1,value=0,description='x'+str(i)))\n",
        "        wght_wdgts.append(widgets.FloatSlider(min=-1,max=1,value=-1,description='w'+str(i)+str(out_node_num)))\n",
        "    ui = widgets.HBox([widgets.VBox(inpt_wdgts), widgets.VBox(wght_wdgts)])\n",
        "    all_wgts ={}\n",
        "    all_wgts['out_node_num'] = widgets.fixed(out_node_num)\n",
        "    all_wgts['num_input_nodes'] = widgets.fixed(num_input_nodes)\n",
        "    all_wgts['model'] = widgets.fixed(model)\n",
        "    for xws in inpt_wdgts:\n",
        "        all_wgts[xws.description] = xws\n",
        "    for wws in wght_wdgts:\n",
        "        all_wgts[wws.description] = wws\n",
        "    inter = widgets.interactive_output(plot_output_node_activation,all_wgts)\n",
        "    display(ui,inter)"
      ],
      "execution_count": null,
      "outputs": []
    },
    {
      "cell_type": "code",
      "metadata": {
        "id": "JerPpXXjI-eR",
        "colab_type": "code",
        "cellView": "form",
        "colab": {}
      },
      "source": [
        "#@title # (RUN CELL) Visualize the [9,4] ANN\n",
        "network=ANN_Arch_View([9,4]) # TRY CHANGING, the first number in this list is number of input nodes, next number is number of output nodes\n",
        "network.draw(show_weights=True)"
      ],
      "execution_count": null,
      "outputs": []
    },
    {
      "cell_type": "markdown",
      "metadata": {
        "id": "irvMDlP_wPmx",
        "colab_type": "text"
      },
      "source": [
        "# A) Simple ANN to classify 3 X 3 optical character\n",
        "\n",
        "ANNs have many applications, including computer vision and image recognition. You may have used computer software that is able to scan printed pages and convert them to digitized form to make them searchable. In order for the software to do this it has to understand the character represented in digital images which are tables of pixels. These automated tasks have different names like optical character recognition, handwriting recognition. Inside such software you will find ANNs which are more complex than the one you will build here, but those ANNs have similar building blocks. This section explores an example with 3x3 pixel black-and-white images, as show below. These 9 pixels will be the inputs (x1,...,x9) for an ANN, with outputs for each of 4 symbols (X, 十 , T, L). \n",
        "\n",
        "For each symbol, choose a set of 9 input weights and a step function threshold\n",
        "to produce the correct output. All of the weights can be either +1.0 or -1.0 as constrained by the widgets below and pixels are either black (0) or white (1). In other words you have to answer questions like:\n",
        "\n",
        "What set of 9 weights to choose to make the output node 1 fire for symbol X at the input?\n",
        "\n",
        "What set of 9 weights to choose to make the output node 2 fire for symbol 十 at the input?\n",
        "\n",
        "... and so on ... \n",
        "\n",
        "Suggestions: start by choosing an output node number from the 1, 2, 3, 4 which corresponding to the 4 symbols (X, 十 , T, L). Then configure the input pixels to be that input symbol and then choose a proper set of 9 weights so that the output node fires.\n",
        "\n",
        "![ANN fig 9 ](https://raw.githubusercontent.com/sbhattac/ai-workshop/master/ANN/fig8.png)\n"
      ]
    },
    {
      "cell_type": "code",
      "metadata": {
        "id": "3uNyWtYsLyBz",
        "colab_type": "code",
        "cellView": "form",
        "colab": {}
      },
      "source": [
        "#@title #(MODIFY AND RUN CELL) Coding for Activity 5 (A) to answer Questions 1 - 5\n",
        "#@markdown <b>INSTRUCTION:</b> modify value of the output node number as shown in code below to get different output nodes \n",
        "def my_activation(in_value):\n",
        "    out_value = torch.sign(in_value)\n",
        "    return out_value\n",
        "\n",
        "output_node_num = 1 # TRY CHANGING, can be 1, 2, 3 or 4 corresponding to the 4 symbols (X, 十 , T, L)\n",
        "make_output_node_widgets(ANN_model, ANN_model.fc1.in_features, output_node_num)"
      ],
      "execution_count": null,
      "outputs": []
    },
    {
      "cell_type": "code",
      "metadata": {
        "id": "lgQVSd_3OnZp",
        "colab_type": "code",
        "cellView": "form",
        "colab": {}
      },
      "source": [
        "#@title #(RUN upon completion) Activity 5 (A) Questions 1 - 5\n",
        "\n",
        "#@markdown 1. What set of weights did you choose to make the output node 1 fire for symbol X?\n",
        "activity5_answer1 = \"\" #@param {type:\"string\"}\n",
        "#@markdown 2. What set of weights did you choose to make the output node 1 fire for symbol +?\n",
        "activity5_answer2 = \"\" #@param {type:\"string\"}\n",
        "#@markdown 3. What set of weights did you choose to make the output node 1 fire for symbol T?\n",
        "activity5_answer3 = \"\" #@param {type:\"string\"}\n",
        "#@markdown 4. What set of weights did you choose to make the output node 1 fire for symbol L? \n",
        "activity5_answer4 = \"\" #@param {type:\"string\"}\n",
        "#@markdown 5. This approach could be used for larger images (more pixels), and with more outputs (for more symbols). Explain why these sorts of ANNs are called classifiers.\n",
        "activity5_answer5 = \"\" #@param {type:\"string\"}"
      ],
      "execution_count": null,
      "outputs": []
    },
    {
      "cell_type": "markdown",
      "metadata": {
        "id": "jzR08yJNP5sB",
        "colab_type": "text"
      },
      "source": [
        "# B) Future Activity: teaching an ANN\n",
        "\n",
        "In future activities we will explore algorithms to adjust weights so that ANNs can learn.\n",
        "Learning (also called training ) usually requires a set of sample inputs.\n",
        "When each input should give a known output, it is supervised learning .\n",
        "When inputs are provided but the outputs are unknown, it is unsupervised learning."
      ]
    },
    {
      "cell_type": "code",
      "metadata": {
        "id": "AiMPcw2qQXfX",
        "colab_type": "code",
        "cellView": "form",
        "colab": {}
      },
      "source": [
        "#@title #(RUN upon completion) Activity 5 (A) Questions 6 - 9\n",
        "#@markdown Categorize each example below as supervised or unsupervised learning.\n",
        "#@markdown 6. Given images of faces, identify the most common faces.\n",
        "activity5_answer6 = \"\" #@param {type:\"string\"}\n",
        "#@markdown 7. Given images of specific people, learn to recognize each person.\n",
        "activity5_answer7 = \"\" #@param {type:\"string\"}\n",
        "#@markdown 8. Given sets of test results for many patients, identify patients with similar symptoms.\n",
        "activity5_answer8 = \"\" #@param {type:\"string\"}\n",
        "#@markdown 9. Given sets of test results for many patients, provide the right diagnosis for each patient. \n",
        "activity5_answer9 = \"\" #@param {type:\"string\"}"
      ],
      "execution_count": null,
      "outputs": []
    },
    {
      "cell_type": "code",
      "metadata": {
        "id": "CWtttduI0mfY",
        "colab_type": "code",
        "cellView": "form",
        "colab": {}
      },
      "source": [
        "#@title Team Work Evaluation for the ANN notebook based activities.\n",
        "#@markdown 1.\tHow much time was required for completion of the ANN notebook?\n",
        "activity1_evaluation1 = \"\" #@param {type:\"string\"}\n",
        "#@markdown 2.\tWas the contribution from each participant equal?\t\n",
        "activity1_evaluation2 = \"\" #@param {type:\"string\"}\n",
        "#@markdown 3.\tHow could the team work and learn more effectively?\n",
        "activity1_evaluation3 = \"\" #@param {type:\"string\"} \n",
        "#@markdown 4.\tHow many participants thought the problems were too simple (trivial)? \n",
        "activity1_evaluation4 = \"\" #@param {type:\"string\"}\n",
        "#@markdown 5.\tHow many participants thought the problems were at the proper level of difficulty?\t\n",
        "activity1_evaluation5 = \"\" #@param {type:\"string\"}\n",
        "#@markdown 6.\tHow many participants thought the problems were too hard?\n",
        "activity1_evaluation6 = \"\" #@param {type:\"string\"}\n",
        "#@markdown 7.\tWas help needed? Where?\n",
        "activity1_evaluation7 = \"\" #@param {type:\"string\"}\n",
        "#@markdown 8.\tDoes the team have any suggestions about how the ANN notebook could be improved? If so, how?\n",
        "activity1_evaluation8 = \"\" #@param {type:\"string\"} "
      ],
      "execution_count": null,
      "outputs": []
    },
    {
      "cell_type": "markdown",
      "metadata": {
        "id": "MapMslmOgdsb",
        "colab_type": "text"
      },
      "source": [
        "# A Project With Real Images\n",
        "# Code cells are ready to run (note that execution may be long ...)\n",
        "# Discuss with instructor for ideas on what can be done\n",
        "\n",
        "This is a project to train an ANN to classify fashion images. See below for samples.   \n",
        "![alt text](https://torchfusion.readthedocs.io/en/latest/_images/fmnist.png)"
      ]
    },
    {
      "cell_type": "code",
      "metadata": {
        "id": "zdVeQmp_gEv2",
        "colab_type": "code",
        "cellView": "form",
        "colab": {}
      },
      "source": [
        "#@title # (RUN CELL) LIBRARY INSTALL COMMAND\n",
        "!pip3 install --upgrade torchfusion"
      ],
      "execution_count": null,
      "outputs": []
    },
    {
      "cell_type": "code",
      "metadata": {
        "id": "nP7FgOpNHjtf",
        "colab_type": "code",
        "cellView": "form",
        "colab": {}
      },
      "source": [
        "#@title # (RUN CELL) TRAINING CODE\n",
        "from torchfusion.layers import *\n",
        "from torchfusion.datasets import *\n",
        "from torchfusion.metrics import *\n",
        "import torch.nn as nn\n",
        "import torch.cuda as cuda\n",
        "from torch.optim import Adam\n",
        "from torchfusion.learners import StandardLearner\n",
        "\n",
        "train_loader = fashionmnist_loader(size=28,batch_size=32)\n",
        "test_loader = fashionmnist_loader(size=28,train=False,batch_size=32)\n",
        "\n",
        "model = nn.Sequential(\n",
        "    Flatten(),\n",
        "    Linear(784,100),\n",
        "    Swish(),\n",
        "    Linear(100,100),\n",
        "    Swish(),\n",
        "    Linear(100,100),\n",
        "    Swish(),\n",
        "    Linear(100,10)\n",
        ")\n",
        "\n",
        "if cuda.is_available():\n",
        "    model = model.cuda()\n",
        "\n",
        "optimizer = Adam(model.parameters())\n",
        "\n",
        "loss_fn = nn.CrossEntropyLoss()\n",
        "\n",
        "train_metrics = [Accuracy()]\n",
        "test_metrics = [Accuracy()]\n",
        "\n",
        "learner = StandardLearner(model)\n",
        "\n",
        "if __name__ == \"__main__\":\n",
        "\n",
        "    print(learner.summary((1,28,28)))\n",
        "    learner.train(train_loader,train_metrics=train_metrics,optimizer=optimizer,loss_fn=loss_fn,test_loader=test_loader,test_metrics=test_metrics,num_epochs=40,batch_log=False)"
      ],
      "execution_count": null,
      "outputs": []
    },
    {
      "cell_type": "code",
      "metadata": {
        "id": "Y4xHC801ngVn",
        "colab_type": "code",
        "colab": {},
        "cellView": "form"
      },
      "source": [
        "#@title # (RUN CELL) TRAINING CODE\n",
        "DOWNLOAD_ROOT = \"https://raw.githubusercontent.com/sbhattac/ai-workshop/master/ANN/\"\n",
        "for filename in (\"sample-1.jpg\", \"sample-2.jpg\", \"sample-3.jpg\", \"sample-4.jpg\"):\n",
        "    print(\"Downloading\", filename)\n",
        "    url = DOWNLOAD_ROOT + filename\n",
        "    urllib.request.urlretrieve(url, filename)"
      ],
      "execution_count": null,
      "outputs": []
    },
    {
      "cell_type": "code",
      "metadata": {
        "id": "chtWcy2rfroB",
        "colab_type": "code",
        "cellView": "form",
        "colab": {}
      },
      "source": [
        "#@title # (RUN CELL) TESTING CODE\n",
        "import torch\n",
        "from torchfusion.layers import *\n",
        "import torch.nn as nn\n",
        "import torch.cuda as cuda\n",
        "from torchfusion.learners import StandardLearner\n",
        "from torchfusion.utils import load_image\n",
        "\n",
        "model = nn.Sequential(\n",
        "    Flatten(),\n",
        "    Linear(784,100),\n",
        "    Swish(),\n",
        "    Linear(100,100),\n",
        "    Swish(),\n",
        "    Linear(100,100),\n",
        "    Swish(),\n",
        "    Linear(100,10)\n",
        ")\n",
        "\n",
        "if cuda.is_available():\n",
        "    model = model.cuda()\n",
        "\n",
        "\n",
        "#learner = StandardLearner(model)\n",
        "#learner.load_model(\"best_models\\model_20.pth\")\n",
        "\n",
        "if __name__ == \"__main__\":\n",
        "\n",
        "    #map class indexes to class names\n",
        "    class_map = {0:\"T-Shirt\",1:\"Trouser\",2:\"Pullover\",3:\"Dress\",4:\"Coat\",5:\"Sandal\",6:\"Shirt\",7:\"Sneaker\",8:\"Bag\",9:\"Ankle Boot\"}\n",
        "\n",
        "    #Load the image\n",
        "    image = load_image(\"sample-1.jpg\",grayscale=True,target_size=28,mean=0.5,std=0.5)\n",
        "\n",
        "    #add batch dimension\n",
        "    image = image.unsqueeze(0)\n",
        "\n",
        "    #run prediction\n",
        "    pred = learner.predict(image)\n",
        "\n",
        "    #convert prediction to probabilities\n",
        "    pred = torch.softmax(pred,0)\n",
        "\n",
        "    #get the predicted class\n",
        "    pred_class = pred.argmax().item()\n",
        "\n",
        "    #get confidence for the prediction\n",
        "    pred_conf = pred.max().item()\n",
        "\n",
        "    #Map class_index to name\n",
        "    class_name = class_map[pred_class]\n",
        "    print(\"Predicted Class: {}, Confidence: {}\".format(class_name,pred_conf))"
      ],
      "execution_count": null,
      "outputs": []
    }
  ]
}