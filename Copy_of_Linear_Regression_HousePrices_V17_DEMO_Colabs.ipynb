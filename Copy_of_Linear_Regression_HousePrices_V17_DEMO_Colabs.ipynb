{
  "nbformat": 4,
  "nbformat_minor": 0,
  "metadata": {
    "environment": {
      "name": "r-cpu.3-6.m46",
      "type": "gcloud",
      "uri": "gcr.io/deeplearning-platform-release/r-cpu.3-6:m46"
    },
    "kernelspec": {
      "display_name": "Python 3",
      "language": "python",
      "name": "python3"
    },
    "language_info": {
      "codemirror_mode": {
        "name": "ipython",
        "version": 3
      },
      "file_extension": ".py",
      "mimetype": "text/x-python",
      "name": "python",
      "nbconvert_exporter": "python",
      "pygments_lexer": "ipython3",
      "version": "3.7.6"
    },
    "colab": {
      "name": "Copy of Linear_Regression_HousePrices -V17-DEMO-Colabs.ipynb",
      "provenance": [],
      "collapsed_sections": [
        "zMFg8i9V5102",
        "89SEZGyT_6nX",
        "sSzC_38_AU9Z",
        "QSVHKTOPHlar",
        "DBcx_p7M513I",
        "rpz4uC5CKGEI",
        "bImN0ZPo5130",
        "gNff5Ac95131",
        "_fM97YxLMAjM",
        "YjW3cibcMMuD"
      ],
      "include_colab_link": true
    }
  },
  "cells": [
    {
      "cell_type": "markdown",
      "metadata": {
        "id": "view-in-github",
        "colab_type": "text"
      },
      "source": [
        "<a href=\"https://colab.research.google.com/github/sbhattac/ai-workshop/blob/master/Copy_of_Linear_Regression_HousePrices_V17_DEMO_Colabs.ipynb\" target=\"_parent\"><img src=\"https://colab.research.google.com/assets/colab-badge.svg\" alt=\"Open In Colab\"/></a>"
      ]
    },
    {
      "cell_type": "markdown",
      "metadata": {
        "id": "0SbsTZ9h_xRs",
        "colab_type": "text"
      },
      "source": [
        "# How to Make Predictions using Linear Regression"
      ]
    },
    {
      "cell_type": "markdown",
      "metadata": {
        "id": "zMFg8i9V5102",
        "colab_type": "text"
      },
      "source": [
        "\n",
        "\n",
        "## Learning Objectives\n",
        "\n",
        "### Student should be able to:\n",
        "\n",
        "### Content\n",
        "* Describe linear regression as machine learning algorithm   \n",
        "* Intepret the results of a linear regression model   \n",
        "* Use the model for predictions   \n",
        "* Assess the linear regression model   \n",
        "\n",
        "### Process\n",
        "* Data preparation: Loading, training and test data\n",
        "* Data exploration: Construct and interpret scatter plot graphs, data preparation\n",
        "* Fit a model (model selection and training)\n",
        "* Model prediction performance assessment\n",
        "* Visual model diagnostic\n",
        "\n",
        "## Regression as ML Algorithm\n",
        "Regression from a Machine Learning Perspective   \n",
        "**Scientific mindset**: Modeling to understand the data generation process   \n",
        "**Engineering mindset**: Modeling to make accurate predict predictions   \n",
        "Regression as Machine Learning falls under the Engineering mindset.   "
      ]
    },
    {
      "cell_type": "markdown",
      "metadata": {
        "id": "bzJwMjLg_qUi",
        "colab_type": "text"
      },
      "source": [
        "# Assigning Roles and Responsibilities within each group\n",
        "\n"
      ]
    },
    {
      "cell_type": "code",
      "metadata": {
        "id": "aol9OHXd9MUO",
        "colab_type": "code",
        "cellView": "form",
        "colab": {}
      },
      "source": [
        "#@title (RUN CELL upon completion)\n",
        "\n",
        "\n",
        "#@markdown ---\n",
        "#@markdown ### Enter Instructor Name:\n",
        "Instructor_Name = \"\" #@param {type:\"string\"}\n",
        "#@markdown 1. Introduces activities. Assigns roles to participants.\n",
        "#@markdown 2. Responds for help or clarification request.\n",
        "#@markdown 3. Collects the Jupiter notebooks from Recorder and Evaluator\n",
        "#@markdown ---\n",
        "\n",
        "#@markdown ### Enter Facilitator Name:\n",
        "Facilitator_Name = \"\" #@param {type:\"string\"} \n",
        "#@markdown ### Enter Backup Facilitator Name:\n",
        "Backup_Facilitator_Name = \"\" #@param {type:\"string\"} \n",
        "#@markdown 1.\tReads aloud each question and ask for volunteers to answer. If there is no volunteer then he/she starts the discussion and asks one participant after another for comments, solutions, answers, or clarifications.  When majority participants agree then she/he asks Recorder to record the answer. Also coordinates discussion about the code execution and the output like any other question.   \n",
        "#@markdown 2.\tInvolves each participant equally in the discussions.    \n",
        "#@markdown 3.\tTurn the coordinating role to Evaluator after finishing each activity.  \n",
        "#@markdown ---\n",
        "\n",
        "#@markdown ### Enter Recorder Name:\n",
        "Recorder_Name = \"\" #@param {type:\"string\"}\n",
        "#@markdown ### Enter Backup Recorder Name:\n",
        "Backup_Recorder_Name = \"\" #@param {type:\"string\"}  \n",
        "#@markdown 1.\tCoordinates Zoom screen access. Displays his/her screen when asking questions. Gives access to screen sharing as requested    \n",
        "#@markdown 2.\tRecords all answers  for each question  inside the Jupiter Notebook   \n",
        "#@markdown 3. Use \"Run all\" in menu \"Runtime\" and then \"Save\" Jupiter Workbook with all answers and results.\n",
        "#@markdown 4. Submit Jupiter notebook with all answers and results of the running code.\n",
        "#@markdown ---\n",
        "\n",
        "#@markdown ### Enter Evaluator Name:\n",
        "Evaluator_Name = \"\" #@param {type:\"string\"}\n",
        "#@markdown ### Enter Backup Evaluator Name:\n",
        "Backup_Evaluator_Name = \"\" #@param {type:\"string\"} \n",
        "#@markdown 1.\tKeeps track of time for each designated Activity.   \n",
        "#@markdown 2.\tAfter each activity leads the discussion about material and collects feedback in the form of the table below.   \n",
        "#@markdown 3. Submit Jupiter notebook with all comments and results of discussion at the end of each activity.  \n",
        "#@markdown ---\n",
        "\n",
        "#@markdown ### Enter Participant names\n",
        "Participant_4_Name = \"\" #@param {type:\"string\"} \n",
        "Participant_5_Name = \"\" #@param {type:\"string\"}\n",
        "Participant_6_Name = \"\" #@param {type:\"string\"}\n",
        "Participant_7_Name = \"\" #@param {type:\"string\"}\n",
        "Participant_8_Name = \"\" #@param {type:\"string\"}\n",
        "\n",
        "#@markdown 1.\tParticipates actively in team work to answer all questions.\n",
        "#@markdown 2.\tExecutes the code and shares the comments.\n",
        "#@markdown ---\n"
      ],
      "execution_count": 1,
      "outputs": []
    },
    {
      "cell_type": "markdown",
      "metadata": {
        "id": "7lkNVIbX7QEg",
        "colab_type": "text"
      },
      "source": [
        "#Download necessary data files into temporary cloud machine:"
      ]
    },
    {
      "cell_type": "code",
      "metadata": {
        "id": "sXTAzE7zqBAS",
        "colab_type": "code",
        "cellView": "both",
        "colab": {
          "base_uri": "https://localhost:8080/",
          "height": 86
        },
        "outputId": "ebbdc1db-aa0f-4816-9fa3-671ffed29373"
      },
      "source": [
        "#@title PATH DEFINITION\n",
        "#mypath = \"/content/drive/My Drive/Colab Notebooks/\"\n",
        "# Download the data\n",
        "import urllib\n",
        "import os\n",
        "DOWNLOAD_ROOT = \"https://raw.githubusercontent.com/sbhattac/ai-workshop/master/LinReg/\"\n",
        "for filename in (\"HousePrices.csv\", \"HousePrices_test.csv\", \"HousePrices_train.csv\", \"fig3.png\"):\n",
        "    print(\"Downloading\", filename)\n",
        "    url = DOWNLOAD_ROOT + filename\n",
        "    urllib.request.urlretrieve(url, filename)\n"
      ],
      "execution_count": 7,
      "outputs": [
        {
          "output_type": "stream",
          "text": [
            "Downloading HousePrices.csv\n",
            "Downloading HousePrices_test.csv\n",
            "Downloading HousePrices_train.csv\n",
            "Downloading fig3.png\n"
          ],
          "name": "stdout"
        }
      ]
    },
    {
      "cell_type": "markdown",
      "metadata": {
        "id": "YZuAelWl5104",
        "colab_type": "text"
      },
      "source": [
        "## Motivating Problem:\n",
        "\n",
        "You are working for the goverment agency that is responsible for relocation of several homeless families to available housing. You want to be sure that you are using our tax money to buy the properties fair to the seller but not allow to overcharge the government account. Find the estimated value for each house on the market."
      ]
    },
    {
      "cell_type": "markdown",
      "metadata": {
        "id": "b0qI8qW25107",
        "colab_type": "text"
      },
      "source": [
        "# Activity 1. Visual Exploration\n",
        "Example: What if you want to understand the relationship between property price and their structural characteristics like area, zone, category, age, floor, rooms, baths, garage, elevator, heating storage.   \n",
        "\n",
        "Review the scatter plots below: "
      ]
    },
    {
      "cell_type": "code",
      "metadata": {
        "id": "uv1DeEVB5108",
        "colab_type": "code",
        "cellView": "form",
        "colab": {
          "base_uri": "https://localhost:8080/",
          "height": 308
        },
        "outputId": "302bce08-43af-4d31-d3db-1d2d9ea727e9"
      },
      "source": [
        "#@title Hit play button to see Figure 1\n",
        "import pandas as pd\n",
        "import matplotlib.pyplot as plt\n",
        "from sklearn.model_selection import train_test_split\n",
        "from sklearn.linear_model import LinearRegression\n",
        "from sklearn.metrics import r2_score\n",
        "import numpy as np\n",
        "\n",
        "filename = \"HousePrices.csv\"\n",
        "HousePricesArea = pd.read_csv(filename)\n",
        "\n",
        "plt.suptitle('Modeling Price using Area')\n",
        "plt.scatter(HousePricesArea['area'], HousePricesArea['price'], color='black', s=3)\n",
        "plt.grid(True, color='#666666', linestyle='-')\n",
        "plt.minorticks_on()\n",
        "plt.grid(True,which='minor',color='#999999', linestyle='-', alpha=0.2)\n",
        "plt.title(\"Figure 1\")\n",
        "plt.ticklabel_format(style='sci', axis='y', scilimits=(0,0), useMathText = True)\n",
        "plt.xlabel(\"Area (square meters)\")  \n",
        "plt.ylabel(\"Price (USD)\") \n",
        "\n",
        "plt.show()"
      ],
      "execution_count": 8,
      "outputs": [
        {
          "output_type": "display_data",
          "data": {
            "image/png": "[encoded data removed]",
            "text/plain": [
              "<Figure size 432x288 with 1 Axes>"
            ]
          },
          "metadata": {
            "tags": [],
            "needs_background": "light"
          }
        }
      ]
    },
    {
      "cell_type": "markdown",
      "metadata": {
        "id": "i-TQmvFDAvsZ",
        "colab_type": "text"
      },
      "source": [
        "#### Key Questions\n",
        "Inspect **Figure 1**:"
      ]
    },
    {
      "cell_type": "code",
      "metadata": {
        "id": "uk-2k5vG511H",
        "colab_type": "code",
        "cellView": "form",
        "colab": {}
      },
      "source": [
        "#@title (RUN CELL upon completion)\n",
        "\n",
        "#@markdown **1.** What does each axis describe?\n",
        "short_answer = \"\" #@param {type:\"string\"}\n",
        "\n",
        "#@markdown **2.** Price is plotted versus which variable?\n",
        "short_answer = \"\" #@param {type:\"string\"}\n",
        "\n",
        "#@markdown **3.** How would you describe the graph and its points in words to someone who has no visual on the graph?\n",
        "short_answer = \"\" #@param {type:\"string\"}\n",
        "\n",
        "#@markdown **4.** Is there a trend in the scatter plot? Explain it.\n",
        "short_answer = \"\" #@param {type:\"string\"}\n",
        "\n",
        "#@markdown **5.** Is it feasible to assume the trend, if any, appears to follow more or less a straight line?\n",
        "short_answer = \"\" #@param {type:\"string\"}\n",
        "\n",
        "#@markdown **6.** Argue if a straight line can be used to predict the property price given its area.\n",
        "short_answer = \"\" #@param {type:\"string\"}\n",
        "\n",
        "#@markdown **7.** Try to predict the property price given its area is 150 sq.m. Around what price?\n",
        "short_answer = \"\" #@param {type:\"string\"}"
      ],
      "execution_count": null,
      "outputs": []
    },
    {
      "cell_type": "markdown",
      "metadata": {
        "id": "wxhaTSDp_Jeh",
        "colab_type": "text"
      },
      "source": [
        "Run the cell below."
      ]
    },
    {
      "cell_type": "code",
      "metadata": {
        "id": "M1aoh8xG511I",
        "colab_type": "code",
        "cellView": "form",
        "colab": {
          "base_uri": "https://localhost:8080/",
          "height": 362
        },
        "outputId": "ba6f7f17-2362-4f2e-f178-cce254af06cf"
      },
      "source": [
        "#@title Review two competing models\n",
        "import pandas as pd\n",
        "import matplotlib.pyplot as plt\n",
        "from sklearn.model_selection import train_test_split\n",
        "from sklearn.linear_model import LinearRegression\n",
        "from sklearn.metrics import r2_score\n",
        "import numpy as np\n",
        "\n",
        "filename = \"HousePrices.csv\"\n",
        "HousePricesArea = pd.read_csv(filename)\n",
        "\n",
        "\n",
        "fig, axes = plt.subplots(1, 2)\n",
        "fig.set_size_inches(6, 5)\n",
        "\n",
        "fig.suptitle('Modeling Price using Area')\n",
        "axes[0].scatter(HousePricesArea['area'], HousePricesArea['price'], color='black', s=3)\n",
        "axes[0].grid(True, color='#666666', linestyle='-')\n",
        "axes[0].minorticks_on()\n",
        "axes[0].grid(True,which='minor',color='#999999', linestyle='-', alpha=0.2)\n",
        "axes[0].set_title(\"Figure 2-A\")\n",
        "axes[0].ticklabel_format(style='sci', axis='y', scilimits=(0,0), useMathText = True)\n",
        "\n",
        "axes[1].scatter(HousePricesArea['area'], HousePricesArea['price'], color='black', s=3)\n",
        "axes[1].grid(True, color='#666666', linestyle='-')\n",
        "axes[1].minorticks_on()\n",
        "axes[1].grid(True,which='minor',color='#999999', linestyle='-', alpha=0.2)\n",
        "axes[1].set_title(\"Figure 2-B\")\n",
        "axes[1].axhline(y=280000, label=\"Average Price\", color='blue', linewidth=1)\n",
        "\n",
        "plt.legend()\n",
        "\n",
        "for ax in axes.flat:\n",
        "    ax.set(xlabel='Area (square meters)', ylabel='Price (USD)')\n",
        "\n",
        "# Hide x labels and tick labels for top plots and y ticks for right plots.\n",
        "for ax in axes.flat:\n",
        "    ax.label_outer()\n",
        "    \n",
        "x_vals = np.array(axes[0].get_xlim())\n",
        "y_vals =  2942.32486893 * x_vals + 20025.59183124936\n",
        "axes[0].plot(x_vals, y_vals, linewidth=1, color='blue')\n",
        "\n",
        "axes[0].set_xlim(axes[1].get_xlim())\n",
        "axes[0].set_ylim(axes[1].get_ylim())\n",
        "axes[0].ticklabel_format(useMathText=True)\n",
        "\n",
        "fig.tight_layout(rect=[0, 0.03, 1, 0.95])\n",
        "\n",
        "plt.show()"
      ],
      "execution_count": 12,
      "outputs": [
        {
          "output_type": "display_data",
          "data": {
            "image/png": "[encoded data removed]",
            "text/plain": [
              "<Figure size 432x360 with 2 Axes>"
            ]
          },
          "metadata": {
            "tags": [],
            "needs_background": "light"
          }
        }
      ]
    },
    {
      "cell_type": "code",
      "metadata": {
        "id": "v0eI7fZQ511O",
        "colab_type": "code",
        "cellView": "form",
        "colab": {}
      },
      "source": [
        "#@title (RUN upon completion)\n",
        "\n",
        "\n",
        "#@markdown **8.** Which model will predict more accurately the property price given its area, e.g. 150 sq.m.? Explain why?\n",
        "short_answer = \"\" #@param {type:\"string\"}\n",
        "\n",
        "#@markdown **9.** Discuss for what property area the linear model (**Fig. 2-A**) will make decent prediction(s)? Specify range for the area.\n",
        "short_answer = \"\" #@param {type:\"string\"}\n",
        "\n",
        "#@markdown **10.** Similarly, discuss for what property area the base model (**Fig. 2-B**) will make decent prediction(s)? Specify range for the area.\n",
        "short_answer = \"\" #@param {type:\"string\"}\n",
        "\n",
        "#@markdown **11.** Discuss with you group why modeling association among variables is important?\n",
        "short_answer = \"\" #@param {type:\"string\"}\n"
      ],
      "execution_count": null,
      "outputs": []
    },
    {
      "cell_type": "markdown",
      "metadata": {
        "id": "89SEZGyT_6nX",
        "colab_type": "text"
      },
      "source": [
        "# Task (1) Evaluation "
      ]
    },
    {
      "cell_type": "code",
      "metadata": {
        "id": "-rShaRMeCzs0",
        "colab_type": "code",
        "cellView": "form",
        "colab": {}
      },
      "source": [
        "#@title #Team Work Evaluation (RUN upon completion)\n",
        "\n",
        "#@markdown 1.\tHow much time was required for completion of Activity 1?\n",
        "activity1_evaluation1 = \"\" #@param {type:\"string\"}\n",
        "#@markdown 2.\tWas the contribution from each participant equal?\t\n",
        "activity1_evaluation2 = \"\" #@param {type:\"string\"}\n",
        "#@markdown 3.\tHow could the team work and learn more effectively?\n",
        "activity1_evaluation3 = \"\" #@param {type:\"string\"} \n",
        "#@markdown 4.\tHow many participants thought the problems were too simple (trivial)? \n",
        "activity1_evaluation4 = \"\" #@param {type:\"string\"}\n",
        "#@markdown 5.\tHow many participants thought the problems were at the proper level of difficulty?\t\n",
        "activity1_evaluation5 = \"\" #@param {type:\"string\"}\n",
        "#@markdown 6.\tHow many participants thought the problems were too hard?\n",
        "activity1_evaluation6 = \"\" #@param {type:\"string\"}\n",
        "#@markdown 7.\tWas help needed? Where?\n",
        "activity1_evaluation7 = \"\" #@param {type:\"string\"}\n",
        "#@markdown 8.\tDoes the team have any suggestions about how Activity 1 could be improved? If so, how? \n",
        "activity1_evaluation8 = \"\" #@param {type:\"string\"} "
      ],
      "execution_count": null,
      "outputs": []
    },
    {
      "cell_type": "markdown",
      "metadata": {
        "id": "CkGHvjEy511Q",
        "colab_type": "text"
      },
      "source": [
        "# Activity 2: Data Preparation and Exploratory Data Analysis\n"
      ]
    },
    {
      "cell_type": "markdown",
      "metadata": {
        "id": "kmTRdagg86PF",
        "colab_type": "text"
      },
      "source": [
        "Run the cell with the code below "
      ]
    },
    {
      "cell_type": "code",
      "metadata": {
        "id": "pMUf8oid511W",
        "colab_type": "code",
        "cellView": "form",
        "colab": {
          "base_uri": "https://localhost:8080/",
          "height": 72
        },
        "outputId": "928e0e79-0bdf-4bdf-81aa-9536afa54f77"
      },
      "source": [
        "#@title Importing python libraries\n",
        "import pandas as pd  #imports the \"pandas\" library\n",
        "import matplotlib.pyplot as plt\n",
        "from sklearn.model_selection import train_test_split\n",
        "from sklearn.linear_model import LinearRegression\n",
        "from sklearn.metrics import r2_score\n",
        "import numpy as np\n",
        "import statsmodels.formula.api as sm"
      ],
      "execution_count": 13,
      "outputs": [
        {
          "output_type": "stream",
          "text": [
            "/usr/local/lib/python3.6/dist-packages/statsmodels/tools/_testing.py:19: FutureWarning: pandas.util.testing is deprecated. Use the functions in the public API at pandas.testing instead.\n",
            "  import pandas.util.testing as tm\n"
          ],
          "name": "stderr"
        }
      ]
    },
    {
      "cell_type": "markdown",
      "metadata": {
        "id": "7Gn8aLKa511c",
        "colab_type": "text"
      },
      "source": [
        "### A) Loading Data: Reading csv files into Tables (Pandas Dataframes) \n",
        "\n",
        "\n",
        "You want to get all information in tabular form from the file \"HousePrices_train.csv\"\n",
        "\n",
        "\n",
        "**1.** Anything **tabular** is arranged in a table, with rows and columns. \n",
        "\n",
        "________________________\n",
        "\n",
        "**2.** **Tidy Data** is a data set that are arranged as table such that each variable is a column and each observation (or case) is a row.\n",
        "\n",
        "________________________\n",
        "\n",
        "\n",
        "Using existing function in the `panda` library we can read `cvs` files, run the given code:"
      ]
    },
    {
      "cell_type": "code",
      "metadata": {
        "id": "T2Zkm7XW511c",
        "colab_type": "code",
        "cellView": "form",
        "colab": {}
      },
      "source": [
        "#@title Reading data from CSV format\n",
        "\n",
        "filename = \"HousePrices_train.csv\"  # training set data file\n",
        "usecols=['price', 'area']\n",
        "HousePricesArea = pd.read_csv(filename, usecols=usecols)\n",
        "HousePricesArea.head(10)"
      ],
      "execution_count": null,
      "outputs": []
    },
    {
      "cell_type": "markdown",
      "metadata": {
        "id": "nRvuMf8H511j",
        "colab_type": "text"
      },
      "source": [
        "**3.** You can see the dimension of the data by running the code:"
      ]
    },
    {
      "cell_type": "code",
      "metadata": {
        "id": "RaE3tvFC511k",
        "colab_type": "code",
        "cellView": "both",
        "colab": {
          "base_uri": "https://localhost:8080/",
          "height": 52
        },
        "outputId": "31dad3df-cb1a-407f-bfd1-bc34d4871ea3"
      },
      "source": [
        "#@title RUN CELL \n",
        "print(\"Number of rows and columns\")\n",
        "HousePricesArea.shape"
      ],
      "execution_count": 15,
      "outputs": [
        {
          "output_type": "stream",
          "text": [
            "Number of rows and columns\n"
          ],
          "name": "stdout"
        },
        {
          "output_type": "execute_result",
          "data": {
            "text/plain": [
              "(153, 2)"
            ]
          },
          "metadata": {
            "tags": []
          },
          "execution_count": 15
        }
      ]
    },
    {
      "cell_type": "code",
      "metadata": {
        "id": "OokPeept511n",
        "colab_type": "code",
        "cellView": "form",
        "colab": {}
      },
      "source": [
        "#@title (RUN upon completion)\n",
        "\n",
        "#@markdown We will refer shortly to this as `HousePricesArea` data.\n",
        "\n",
        "#@markdown **5.** What column (**feature/variable**) should we use for prediction?  \n",
        "short_answer = \"\" #@param {type:\"string\"}\n",
        "\n",
        "#@markdown **6.** Why do we call `price` the “**response/dependent**” variable?\n",
        "short_answer = \"\" #@param {type:\"string\"}\n"
      ],
      "execution_count": 16,
      "outputs": []
    },
    {
      "cell_type": "markdown",
      "metadata": {
        "id": "c3YeIGCmFGjs",
        "colab_type": "text"
      },
      "source": [
        "**7.** Try to explain to someone in your group what the quantity $\\bar x$ is.\n",
        "\n",
        "$$\\bar{x}=\\frac{x_1 + x_2 + … + x_n}{n}=\\sum_{i=1}^n \\frac{x_i}{n}$$\n"
      ]
    },
    {
      "cell_type": "code",
      "metadata": {
        "id": "XisyaI88FRzi",
        "colab_type": "code",
        "cellView": "form",
        "colab": {}
      },
      "source": [
        "#@title (RUN CELL upon completion)\n",
        "\n",
        "short_answer = \"\" #@param {type:\"string\""
      ],
      "execution_count": 17,
      "outputs": []
    },
    {
      "cell_type": "markdown",
      "metadata": {
        "id": "9o96YR_4FnQD",
        "colab_type": "text"
      },
      "source": [
        "**8.** Try to explain to someone in your group what the quantity $s^2$ measures for the sample data.\n",
        "\n",
        "$$s^2=\\sum_{i=1}^n  \\frac{(x_i-\\bar x)^2}{n-1}$$"
      ]
    },
    {
      "cell_type": "code",
      "metadata": {
        "id": "-mKV1w8ZFs5W",
        "colab_type": "code",
        "cellView": "form",
        "colab": {}
      },
      "source": [
        "#@title (RUN CELL upon completion)\n",
        "\n",
        "short_answer = \"\" #@param {type:\"string\"}"
      ],
      "execution_count": 18,
      "outputs": []
    },
    {
      "cell_type": "markdown",
      "metadata": {
        "id": "HMKHs1LfF9i2",
        "colab_type": "text"
      },
      "source": [
        "**9.** What a square root of $s^2$ would represent for the sample data?\n",
        "\n",
        "\n",
        "$$s = \\sqrt{s^2}$$ "
      ]
    },
    {
      "cell_type": "code",
      "metadata": {
        "id": "5MqMu61C511o",
        "colab_type": "code",
        "cellView": "form",
        "colab": {}
      },
      "source": [
        "#@title (RUN CELL upon completion)\n",
        "\n",
        "short_answer = \"\" #@param {type:\"string\"}"
      ],
      "execution_count": 19,
      "outputs": []
    },
    {
      "cell_type": "markdown",
      "metadata": {
        "id": "9Ld4tl8cEHAO",
        "colab_type": "text"
      },
      "source": [
        "### B) Concepts Clarification "
      ]
    },
    {
      "cell_type": "code",
      "metadata": {
        "id": "9Ff_MxMd511p",
        "colab_type": "code",
        "cellView": "form",
        "colab": {}
      },
      "source": [
        "#@markdown RUN CELL upon completion\n",
        "\n",
        "#@markdown **10.** What is a graph? \n",
        "\n",
        "short_answer = \"\" #@param {type:\"string\"}\n",
        "\n",
        "#@markdown Consider that Every data graphics can be understood in terms of four basic elements: **visual cues**, **coordinate system**, **scale**, and **context**."
      ],
      "execution_count": 20,
      "outputs": []
    },
    {
      "cell_type": "markdown",
      "metadata": {
        "id": "FEhxW5xR-JTs",
        "colab_type": "text"
      },
      "source": [
        "### C) Dessecting Data Graphics   \n",
        "Consider the graph below \n",
        "\n",
        "\n",
        "![Modeling price with area](https://drive.google.com/uc?export=view&id=1wPgRCoN4newsjshpQjpCfDPcI0YoYi5K)"
      ]
    },
    {
      "cell_type": "code",
      "metadata": {
        "id": "pNcoH3ma59B2",
        "colab_type": "code",
        "cellView": "form",
        "colab": {}
      },
      "source": [
        "#@title (RUN upon completion)\n",
        "\n",
        "#@markdown **11.** Within your group discuss which of the following **Visual cues**, are present on the graph: \n",
        "\n",
        "#@markdown * Position (numerical) where in relation to other things?\n",
        "#@markdown * Length (numerical) how big (in one dimension)?\n",
        "#@markdown * Angle (numerical) how wide? parallel to something else?\n",
        "#@markdown * Direction (numerical) at what slope? In a time series, going up or down?\n",
        "#@markdown * Shape (categorical) belonging to which group?\n",
        "#@markdown * Area (numerical) how big (in two dimensions)?\n",
        "#@markdown * Volume (numerical) how big (in three dimensions)?\n",
        "#@markdown * Shade (either) to what extent? how severely?\n",
        "#@markdown * Color\n",
        "\n",
        "short_answer = \"\" #@param {type:\"string\"}\n",
        "\n",
        "#@markdown **12.** Discuss which of type of **Coordinate systems**: \n",
        "\n",
        "#@markdown * Cartesian - rectangular coordinate system with two perpendicular axes.\n",
        "\n",
        "#@markdown * Polar - The radial analog of the Cartesian system with points identified by their radius `ρ` and angle `θ`.\n",
        "\n",
        "#@markdown * Geographic - This is the increasingly important system in which we have locations on the curved surface of the Earth, but we are trying to represent these locations in a flat two-dimensional plane. \n",
        "\n",
        "short_answer = \"\" #@param {type:\"string\"}\n",
        "\n",
        "#@markdown * **13.** Discuss what of type of **Scale** is used to present data values\n",
        "\n",
        "#@markdown * Numeric - numeric quantity is most commonly set on a linear, logarithmic, or percentage scale. \n",
        "\n",
        "#@markdown * Categorical - a categorical variable may have no ordering \n",
        "\n",
        "#@markdown * Time Time - a numeric quantity that has some special properties.\n",
        "\n",
        "short_answer = \"\" #@param {type:\"string\"}\n",
        "\n",
        "\n",
        "#@markdown * **14.** Discuss which of type of Context.\n",
        "\n",
        "short_answer = \"\" #@param {type:\"string\"}"
      ],
      "execution_count": null,
      "outputs": []
    },
    {
      "cell_type": "markdown",
      "metadata": {
        "id": "8JIZ2ACO511r",
        "colab_type": "text"
      },
      "source": [
        "### D) Run the given code:"
      ]
    },
    {
      "cell_type": "code",
      "metadata": {
        "id": "UEY4Cygd511r",
        "colab_type": "code",
        "cellView": "form",
        "colab": {
          "base_uri": "https://localhost:8080/",
          "height": 350
        },
        "outputId": "460c1e46-6f17-4d5d-d532-2f052581641d"
      },
      "source": [
        "#@title Graph display\n",
        "plt.figure(figsize=(7,5))\n",
        "plt.title('Modeling Price using Area')\n",
        "plt.scatter(HousePricesArea['area'], HousePricesArea['price'], color='black', s=3)\n",
        "plt.grid(True, color='#999999', linestyle='-', alpha=.2)\n",
        "plt.xlabel(\"Area (square meters)\")\n",
        "plt.ylabel('Price (USD)')\n",
        "plt.show()"
      ],
      "execution_count": 21,
      "outputs": [
        {
          "output_type": "display_data",
          "data": {
            "image/png": "[encoded data removed]",
            "text/plain": [
              "<Figure size 504x360 with 1 Axes>"
            ]
          },
          "metadata": {
            "tags": [],
            "needs_background": "light"
          }
        }
      ]
    },
    {
      "cell_type": "markdown",
      "metadata": {
        "id": "fvaBVLwW7NGl",
        "colab_type": "text"
      },
      "source": [
        "### E) Questions About the Housing Data (based on visualized data)\n",
        "\n"
      ]
    },
    {
      "cell_type": "code",
      "metadata": {
        "id": "tnOwV7iQ_PpR",
        "colab_type": "code",
        "cellView": "form",
        "colab": {}
      },
      "source": [
        "#@title (RUN upon completion)\n",
        "\n",
        "#@markdown **11.** Is there a relationship/association between price and area? Discuss with your group based on scatter plot display.\n",
        "\n",
        "short_answer = \"\" #@param {type:\"string\" \n",
        "\n",
        "#@markdown **12.** How strong is that relationship, if any? What can be used to quantify the strength of the relationship, if any?\n",
        "\n",
        "short_answer = \"\" #@param {type:\"string\"\n",
        "\n",
        "#@markdown **13.** Can prices be predicted? Do you think based on the data you can build a reliable model to predict house price of a property with area of $ 400 m^2$? \n",
        "\n",
        "#@markodown Discuss why.\n",
        "\n",
        "short_answer = \"\" #@param {type:\"string\""
      ],
      "execution_count": 22,
      "outputs": []
    },
    {
      "cell_type": "markdown",
      "metadata": {
        "id": "FKetUhptAOcr",
        "colab_type": "text"
      },
      "source": [
        "### F) Graphical Interpretations of Linear Regression\n",
        "\n",
        "We can estimate prices manually by trying to draw a \"best fit\" line on this graph."
      ]
    },
    {
      "cell_type": "code",
      "metadata": {
        "id": "x_Ilo6iO7jXi",
        "colab_type": "code",
        "cellView": "form",
        "colab": {}
      },
      "source": [
        "#@title (RUN upon completion)\n",
        "\n",
        "#@markdown **14.** How many parameters describe the line?\n",
        "\n",
        "short_answer = \"\" #@param {type:\"string\"}\n",
        "\n",
        "#@markdown **15.** Generally a line can be described by an equation y = a + b*x\n",
        "\n",
        "#@markdown What do we call these parameters? \n",
        "\n",
        "short_answer = \"\" #@param {type:\"string\"}"
      ],
      "execution_count": 23,
      "outputs": []
    },
    {
      "cell_type": "markdown",
      "metadata": {
        "id": "Kikwz-av511y",
        "colab_type": "text"
      },
      "source": [
        "Let us play with values of `a` and `b` until we manually guess the \"best\" `a` and `b` to approximate house prices.  \n",
        "Run the cells below to use the sliders to provide values for a and b that will get you get close to \"best\" line."
      ]
    },
    {
      "cell_type": "code",
      "metadata": {
        "id": "JW4mM0eL511z",
        "colab_type": "code",
        "cellView": "form",
        "colab": {}
      },
      "source": [
        "#@title Definitions of functions\n",
        "from IPython.display import display                               \n",
        "from ipywidgets import interactive, fixed\n",
        "\n",
        "def average(x):\n",
        "    ave=0\n",
        "    if x:\n",
        "        ave = sum(x)/len(x)\n",
        "    return(ave)\n",
        "\n",
        "\n",
        "def plot_figure(x_list, y_list, a, b, a_true=None, b_true=None, x_ave=None, y_ave=None):\n",
        "    \n",
        "    plt.figure(figsize=(7,5))\n",
        "    plt.title('Modeling Price using Area')\n",
        "    plt.scatter(x_list, y_list, color='black', s=3)\n",
        "    plt.grid(True, color='#999999', linestyle='-', alpha=.2)\n",
        "    plt.xlabel(\"Area (square meters)\")\n",
        "    plt.ylabel('Price (USD)')\n",
        "    plt.ylim(min(y_list)-10, max(y_list)+10)\n",
        "    plt.xlim(min(x_list)-10, max(x_list)+10)\n",
        "    \n",
        "    x_vals = np.array(plt.xlim())\n",
        "    if x_ave is not None and y_ave is not None:\n",
        "        y_vals = a*(x_vals-x_ave) + y_ave\n",
        "    else:\n",
        "        y_vals = a * x_vals + b\n",
        "    plt.plot(x_vals, y_vals, linewidth=1, color='blue')\n",
        "    \n",
        "    if a_true is not None and b_true is not None:\n",
        "        y_true = a_true*x_vals + b_true # these will be replaced with the estimates from the train set estimators \n",
        "        plt.plot(x_vals, y_true, linewidth=1, color='red') # can we display this once the blue line guess is made by clicking, e.g. show on click\n",
        "        a_error = abs(a_true - a)/a_true *100\n",
        "        b_error = abs(b_true - b)/b_true * 100\n",
        "\n",
        "        print(\"Slope error is {}%\".format(int(a_error)))\n",
        "        if int(a_error) < 10:\n",
        "            print(\"Congratulations! Your slope error is under 10%\")\n",
        "        print(\"Intercept error is {}%\".format(int(b_error)))\n",
        "        if int(b_error) < 10:\n",
        "            print(\"Congratulations! Your intercept error is under 10%\")\n",
        "    \n",
        "    plt.show()\n",
        "    return(a,b)"
      ],
      "execution_count": 25,
      "outputs": []
    },
    {
      "cell_type": "code",
      "metadata": {
        "id": "GBSkctZ95113",
        "colab_type": "code",
        "cellView": "form",
        "colab": {}
      },
      "source": [
        "#@title Play with the sliders\n",
        "x_list = list(HousePricesArea['area'])\n",
        "y_list = list(HousePricesArea['price'])\n",
        "\n",
        "inter = interactive(plot_figure, \n",
        "                    x_list=fixed(x_list), \n",
        "                    y_list=fixed(y_list),\n",
        "                    a=(1000, 4000),\n",
        "                    b=(10000, 60000),\n",
        "                    a_true=fixed(None),\n",
        "                    b_true=fixed(None),\n",
        "                    x_ave=fixed(None),\n",
        "                    y_ave=fixed(None))\n",
        "\n",
        "display(inter)"
      ],
      "execution_count": null,
      "outputs": []
    },
    {
      "cell_type": "markdown",
      "metadata": {
        "id": "_6zFSco25116",
        "colab_type": "text"
      },
      "source": [
        "**Note:** Allow the line to fix its position based on your choice, you may experience certain lag, before you make your choice for the best `a` and `b`. Run the code below to confirm your choices."
      ]
    },
    {
      "cell_type": "code",
      "metadata": {
        "id": "K_xg8Ujg5117",
        "colab_type": "code",
        "cellView": "form",
        "colab": {
          "base_uri": "https://localhost:8080/",
          "height": 52
        },
        "outputId": "48b9592c-be98-478c-a6a5-76baa809e7cf"
      },
      "source": [
        "#@title You selected\n",
        "student_slope_intercept = inter.result\n",
        "print(\"Slope and intercept selected:\")\n",
        "print(student_slope_intercept)"
      ],
      "execution_count": 27,
      "outputs": [
        {
          "output_type": "stream",
          "text": [
            "Slope and intercept selected:\n",
            "(3032, 31774)\n"
          ],
          "name": "stdout"
        }
      ]
    },
    {
      "cell_type": "markdown",
      "metadata": {
        "id": "U-8wJVxP512B",
        "colab_type": "text"
      },
      "source": [
        "\n",
        "**16.** What values `a` and `b` are the best?\n",
        "___________________________\n",
        "\n",
        "Run the code below to see how close you actually are to the best line."
      ]
    },
    {
      "cell_type": "code",
      "metadata": {
        "id": "b5igTbGY512C",
        "colab_type": "code",
        "cellView": "form",
        "colab": {
          "base_uri": "https://localhost:8080/",
          "height": 402
        },
        "outputId": "723c76e2-56d1-479b-e8db-dc3f8b87cdad"
      },
      "source": [
        "#@title The truth (RUN THIS CELL)\n",
        "tempvar1,tempvar2 = plot_figure(x_list, y_list,\n",
        "                a=student_slope_intercept[0],\n",
        "                b=student_slope_intercept[1],\n",
        "                a_true=2942.32486893,   # \n",
        "                b_true=20025.59183124936) # "
      ],
      "execution_count": 28,
      "outputs": [
        {
          "output_type": "stream",
          "text": [
            "Slope error is 3%\n",
            "Congratulations! Your slope error is under 10%\n",
            "Intercept error is 58%\n"
          ],
          "name": "stdout"
        },
        {
          "output_type": "display_data",
          "data": {
            "image/png": "[encoded data removed]",
            "text/plain": [
              "<Figure size 504x360 with 1 Axes>"
            ]
          },
          "metadata": {
            "tags": [],
            "needs_background": "light"
          }
        }
      ]
    },
    {
      "cell_type": "markdown",
      "metadata": {
        "id": "FnlQw3gq512G",
        "colab_type": "text"
      },
      "source": [
        "**17.** Let us assume that somehow the estimates of `a` and `b` for the line of best fit are known. Using these values how close the predicted price value for the first house (the first row) is to the true value?\n",
        "\n",
        "We have to use equation:\n",
        "\n",
        "$y = a + b* x$\n",
        "\n",
        "What is the value of `x` for the first house? Run the code to see the first row in the data `HousePricesArea`?\n",
        "____________________"
      ]
    },
    {
      "cell_type": "code",
      "metadata": {
        "id": "Xrz0Jcaq512H",
        "colab_type": "code",
        "cellView": "form",
        "colab": {
          "base_uri": "https://localhost:8080/",
          "height": 81
        },
        "outputId": "316f332a-beae-4496-bf45-365b3a208292"
      },
      "source": [
        "#@title first observation in the data\n",
        "HousePricesArea.head(1)"
      ],
      "execution_count": 29,
      "outputs": [
        {
          "output_type": "execute_result",
          "data": {
            "text/html": [
              "<div>\n",
              "<style scoped>\n",
              "    .dataframe tbody tr th:only-of-type {\n",
              "        vertical-align: middle;\n",
              "    }\n",
              "\n",
              "    .dataframe tbody tr th {\n",
              "        vertical-align: top;\n",
              "    }\n",
              "\n",
              "    .dataframe thead th {\n",
              "        text-align: right;\n",
              "    }\n",
              "</style>\n",
              "<table border=\"1\" class=\"dataframe\">\n",
              "  <thead>\n",
              "    <tr style=\"text-align: right;\">\n",
              "      <th></th>\n",
              "      <th>price</th>\n",
              "      <th>area</th>\n",
              "    </tr>\n",
              "  </thead>\n",
              "  <tbody>\n",
              "    <tr>\n",
              "      <th>0</th>\n",
              "      <td>372000.0</td>\n",
              "      <td>115.589996</td>\n",
              "    </tr>\n",
              "  </tbody>\n",
              "</table>\n",
              "</div>"
            ],
            "text/plain": [
              "      price        area\n",
              "0  372000.0  115.589996"
            ]
          },
          "metadata": {
            "tags": []
          },
          "execution_count": 29
        }
      ]
    },
    {
      "cell_type": "markdown",
      "metadata": {
        "id": "9pmpkrLm512L",
        "colab_type": "text"
      },
      "source": [
        "Run the code below to see actual and predicted price."
      ]
    },
    {
      "cell_type": "code",
      "metadata": {
        "scrolled": false,
        "id": "QwLgqt1I512M",
        "colab_type": "code",
        "cellView": "form",
        "colab": {
          "base_uri": "https://localhost:8080/",
          "height": 52
        },
        "outputId": "c64b93c2-6223-41e7-cd1c-47fcb3392154"
      },
      "source": [
        "#@title predicted vs actual price\n",
        "x = HousePricesArea.loc[0,'area']\n",
        "b = 20025.59183124936 # intercept\n",
        "a = 2942.32486893   # slope\n",
        "y = a*x + b\n",
        "\n",
        "print(\"The predicted price for the house using our 'best-fit' line is\", y)\n",
        "print(\"The actual price for the house is\", HousePricesArea.loc[0,'price'] )"
      ],
      "execution_count": 30,
      "outputs": [
        {
          "output_type": "stream",
          "text": [
            "The predicted price for the house using our 'best-fit' line is 360128.91254426603\n",
            "The actual price for the house is 372000.0\n"
          ],
          "name": "stdout"
        }
      ]
    },
    {
      "cell_type": "code",
      "metadata": {
        "id": "K3oqT9t9512P",
        "colab_type": "code",
        "cellView": "form",
        "colab": {}
      },
      "source": [
        "#@title (RUN upon completion)\n",
        "\n",
        "#@markdown **18.** What is the approximate difference between the predicted and actual price? Is it big compared to the standard deviation for the price variable for the sample? \n",
        "\n",
        "short_answer = \"\" #@param {type:\"string\"}\n",
        "\n",
        "#@markdown **19.** Run the code below to see the standard deviation for the price in the `HousePricesArea` data."
      ],
      "execution_count": 31,
      "outputs": []
    },
    {
      "cell_type": "code",
      "metadata": {
        "id": "FIrMlWX5512T",
        "colab_type": "code",
        "cellView": "form",
        "colab": {
          "base_uri": "https://localhost:8080/",
          "height": 34
        },
        "outputId": "6f9b0694-c246-4382-fa5f-362f4fd019b9"
      },
      "source": [
        "#@title price standard deviation \n",
        "sd_price = np.std(HousePricesArea['price'])\n",
        "print(\"The standard deviation of the price in the sample is\", sd_price)"
      ],
      "execution_count": 32,
      "outputs": [
        {
          "output_type": "stream",
          "text": [
            "The standard deviation of the price in the sample is 73906.73846719401\n"
          ],
          "name": "stdout"
        }
      ]
    },
    {
      "cell_type": "markdown",
      "metadata": {
        "id": "sSzC_38_AU9Z",
        "colab_type": "text"
      },
      "source": [
        "\n",
        "# Task Evaluation (2)"
      ]
    },
    {
      "cell_type": "code",
      "metadata": {
        "id": "MiSIoU0G512X",
        "colab_type": "code",
        "cellView": "form",
        "colab": {}
      },
      "source": [
        "#@title #Team Work Evaluation (RUN upon completion)\n",
        "\n",
        "#@markdown 1.\tHow much time was required for completion of Activity 1?\n",
        "activity1_evaluation1 = \"\" #@param {type:\"string\"}\n",
        "#@markdown 2.\tWas the contribution from each participant equal?\t\n",
        "activity1_evaluation2 = \"\" #@param {type:\"string\"}\n",
        "#@markdown 3.\tHow could the team work and learn more effectively?\n",
        "activity1_evaluation3 = \"\" #@param {type:\"string\"} \n",
        "#@markdown 4.\tHow many participants thought the problems were too simple (trivial)? \n",
        "activity1_evaluation4 = \"\" #@param {type:\"string\"}\n",
        "#@markdown 5.\tHow many participants thought the problems were at the proper level of difficulty?\t\n",
        "activity1_evaluation5 = \"\" #@param {type:\"string\"}\n",
        "#@markdown 6.\tHow many participants thought the problems were too hard?\n",
        "activity1_evaluation6 = \"\" #@param {type:\"string\"}\n",
        "#@markdown 7.\tWas help needed? Where?\n",
        "activity1_evaluation7 = \"\" #@param {type:\"string\"}\n",
        "#@markdown 8.\tDoes the team have any suggestions about how Activity 1 could be improved? If so, how? \n",
        "activity1_evaluation8 = \"\" #@param {type:\"string\"} \n"
      ],
      "execution_count": null,
      "outputs": []
    },
    {
      "cell_type": "markdown",
      "metadata": {
        "id": "mC1cLX3B512Y",
        "colab_type": "text"
      },
      "source": [
        "# Activity 3: Linear Regression using one predictor/feature "
      ]
    },
    {
      "cell_type": "markdown",
      "metadata": {
        "id": "axc_RQ9E512Z",
        "colab_type": "text"
      },
      "source": [
        "### A) The model \n",
        "\n",
        "Simple Linear Regression is a **machine learning** (ML) algorithm based on **supervised learning**. In general, regression analysis models an outcome (the **response** variable) as a function of one or more **explanatory** variables (or **predictors**). \n",
        "\n",
        "\n",
        "**Simple Linear Regression** performs the task of modeling/predicting a **quantitative response** using a **single feature** (or \"predictor\" or \"input variable\"). It takes the following form:\n",
        "\n",
        "$E(y) = \\beta_0 + \\beta_1x$ \n",
        "\n",
        "or \n",
        "\n",
        "$y = \\beta_0 + \\beta_1x + \\epsilon$\n",
        "\n",
        "What does each term represent?\n",
        "\n",
        "- $y$ is the response\n",
        "\n",
        "- $x$ is the feature\n",
        "\n",
        "- $\\beta_0$ is the intercept\n",
        "\n",
        "- $\\beta_1$ is the coefficient for x\n",
        "\n",
        "- $\\epsilon$ is the random error term\n",
        "\n",
        "Together, $\\beta_0$ and $\\beta_1$ are called the **model coefficients**. \n",
        "\n",
        "For this activity we will use the Housing Data from Activity/Task 1: **HousePricesArea**"
      ]
    },
    {
      "cell_type": "markdown",
      "metadata": {
        "id": "sj5kP2rA512a",
        "colab_type": "text"
      },
      "source": [
        "### B) Concepts Clarification \n",
        "\n",
        "**1.** Discuss with your group: What does it mean **\"learn\"** from bivariate data the best line? \n",
        "\n",
        "________________________________________________\n",
        "A: In order your group to create a linear model, you must **\"learn\"** the values of slope and intercept. Once you've learned these coefficients, we can use the model to predict property price! Learn means to estimate.\n",
        "\n",
        "\n",
        "Through ordinary least squares (**OLS**)* method of estimation the regression coefficients can be obtained for the data in explicit form by **minimizing*** the \n",
        "\n",
        "$$Q=\\sum \\epsilon_i^2 = \\sum_{i=1}^n (Y_i - (\\beta_0 + \\beta_1 x_i))^2$$\n",
        "\n",
        "where $Y_i$ is the observed value of the response variable for the $i$th trial corresponding to $x_i$ value of the predictor.\n",
        "\n",
        "$$\\epsilon_i=Y_i-\\hat{Y_i}$$ is the difference between the observed and predicted value for the response.\n",
        "\n",
        "Using calculus one can obtain the **estimated** parameters, from the data:\n",
        "\n",
        "\n",
        "$$\\hat \\beta_1 = \\frac{\\sum_{i=1}^n(x_i-\\bar x)(Y_i-\\bar Y)}{\\sum_{i=1}^n (x_i- \\bar x)^2}$$\n",
        "\n",
        "\n",
        "$$\\hat\\beta_0= \\bar Y - \\hat \\beta_1 \\bar x$$\n",
        "\n",
        "the predicted (estimated) errors called **residuals** are defined as\n",
        "\n",
        "$$\\hat \\epsilon_i= Y_i - \\hat Y_i  (observed - expected)$$\n",
        "\n",
        "\n",
        "**2.** Would you be satisfied if you need to manually find these estimations, especially given the available data is relatively large?\n",
        "\n",
        "________________________________________________\n",
        "\n",
        "**3.** Would it be efficient to repeat these estimations if you slightly tweak the data, say remove one or two unusual observations?\n",
        "\n",
        "________________________________________________\n",
        "\n",
        "**4.** Try to geometrically interpret what the method ordinary least squares (**OLS**) estimation is doing?\n",
        "\n",
        "________________________________________________\n",
        "\n",
        "\n",
        "Among many functions that help to do linear regression is  scikit-learn library.\n",
        "We are going to use it now.\n",
        "\n",
        "**5.** Try again to visually derive the best line by adjusting the slope of a line passing through the average value of the predictor and response in the data. Let see how close you can get."
      ]
    },
    {
      "cell_type": "code",
      "metadata": {
        "colab_type": "code",
        "cellView": "form",
        "id": "Xk0Q3I_E9W6s",
        "colab": {}
      },
      "source": [
        "#@title (RUN upon completion)\n",
        "\n",
        "Briefly_summarise = \"\" #@param {type:\"string\"}"
      ],
      "execution_count": 33,
      "outputs": []
    },
    {
      "cell_type": "code",
      "metadata": {
        "id": "8BQzocxg512a",
        "colab_type": "code",
        "cellView": "form",
        "colab": {}
      },
      "source": [
        "#@title Try one more time to estimate the slope\n",
        "x_ave = average(x_list) \n",
        "y_ave = average(y_list)\n",
        "\n",
        "inter = interactive(plot_figure, \n",
        "                    x_list=fixed(x_list), \n",
        "                    y_list=fixed(y_list),\n",
        "                    a=(1000, 10000),\n",
        "                    b=fixed(None),\n",
        "                    a_true=fixed(None),\n",
        "                    b_true=fixed(None),\n",
        "                    x_ave=fixed(x_ave),\n",
        "                    \n",
        "                    y_ave=fixed(y_ave))\n",
        "\n",
        "display(inter)\n",
        "\n",
        "\n",
        "# still need to add the OLS print out as the slider moves\n",
        "# do we give awards here?"
      ],
      "execution_count": null,
      "outputs": []
    },
    {
      "cell_type": "code",
      "metadata": {
        "id": "GxWpOXrR3Iw2",
        "colab_type": "code",
        "cellView": "form",
        "colab": {
          "base_uri": "https://localhost:8080/",
          "height": 34
        },
        "outputId": "df0241d8-177e-4ed0-903c-bdf5f6759908"
      },
      "source": [
        "#@title Click to confirm your choice\n",
        "student_slope_intercept = inter.result\n",
        "slope = student_slope_intercept[0]\n",
        "print(student_slope_intercept[0])"
      ],
      "execution_count": 35,
      "outputs": [
        {
          "output_type": "stream",
          "text": [
            "5500\n"
          ],
          "name": "stdout"
        }
      ]
    },
    {
      "cell_type": "markdown",
      "metadata": {
        "id": "OUqaSQEi8Q5L",
        "colab_type": "text"
      },
      "source": [
        "Run the code to see how close was your estimation."
      ]
    },
    {
      "cell_type": "code",
      "metadata": {
        "id": "PVTtRJrR2t7X",
        "colab_type": "code",
        "cellView": "form",
        "colab": {
          "base_uri": "https://localhost:8080/",
          "height": 34
        },
        "outputId": "8e965fd6-3fa5-43f8-9224-a463bd90488e"
      },
      "source": [
        "#@title Slope estimation result\n",
        "a_error = abs(a - slope)/a *100\n",
        "print(\"Slope error is {}%\".format(int(a_error)))\n",
        "if int(a_error) < 10: \n",
        "  print(\"Congratulations! Your slope error is under 10%\")"
      ],
      "execution_count": 36,
      "outputs": [
        {
          "output_type": "stream",
          "text": [
            "Slope error is 86%\n"
          ],
          "name": "stdout"
        }
      ]
    },
    {
      "cell_type": "markdown",
      "metadata": {
        "id": "qtG7FUgM512e",
        "colab_type": "text"
      },
      "source": [
        "To an extent you or your group may have been successful in the visual estimation approach but you may agree that the chances you get the best line are slim. Is it time to harness the machine and make it learn?"
      ]
    },
    {
      "cell_type": "markdown",
      "metadata": {
        "id": "EpYGmcdx512f",
        "colab_type": "text"
      },
      "source": [
        "### C) Machine Learning Preparation\n",
        "\n",
        "The fundamental goal of **ML** is to generalize beyond the data instances used to train a model. Model evaluation to estimate the quality of its pattern generalization for data the model has not been trained on is essential. \n",
        "\n",
        "In general future instances have unknown target values and you cannot check the accuracy of your predictions for future instances, you need to use some of the data that already available as a proxy for future data. \n",
        "\n",
        "\n",
        "#### Validation Set Approach - Splitting the Data into Training and Testing Data\n",
        "\n",
        "**6.** Discuss within your group which approach is preferred to assess model accuracy: evaluation of the model using the same data the model \"learned\" from or unseen data? Explain your reasoning.\n",
        "\n",
        "\n",
        "**7.** If you decide to split the original data to form **training** and **testing** set for model fitting and evaluation which one you would allocate more data to? Why?\n",
        "\n",
        "A: Increasing the training data always adds information and should improve the fit. \n",
        "\n",
        "**8.** Run the code below to read the file `HousePrices_test.csv` and we will refer to it as `HousePricesArea_test` data."
      ]
    },
    {
      "cell_type": "code",
      "metadata": {
        "colab_type": "code",
        "cellView": "form",
        "id": "B_jroVqbCL9L",
        "colab": {}
      },
      "source": [
        "#@title (RUN upon completion)\n",
        "\n",
        "Briefly_summarise = \"\" #@param {type:\"string\"}"
      ],
      "execution_count": 37,
      "outputs": []
    },
    {
      "cell_type": "code",
      "metadata": {
        "id": "goI6m_gS512f",
        "colab_type": "code",
        "cellView": "form",
        "colab": {}
      },
      "source": [
        "#@title Read one more data - The test data\n",
        "\n",
        "filename = \"HousePrices_test.csv\"  # test set data file\n",
        "usecols=['price', 'area']\n",
        "HousePricesArea_test = pd.read_csv(filename, usecols=usecols)\n",
        "HousePricesArea_test.head(10)\n"
      ],
      "execution_count": null,
      "outputs": []
    },
    {
      "cell_type": "markdown",
      "metadata": {
        "id": "iki-Hdne512i",
        "colab_type": "text"
      },
      "source": [
        "**9.** Before hand we performed random split to the original data: near **70%** for model training and **30%** for testing your model's predictive performance. Run the code to see how many records are in each set."
      ]
    },
    {
      "cell_type": "code",
      "metadata": {
        "id": "Z7g_ct8q512j",
        "colab_type": "code",
        "cellView": "form",
        "colab": {
          "base_uri": "https://localhost:8080/",
          "height": 52
        },
        "outputId": "7e8099a9-74e7-418b-f505-f991b4795c0b"
      },
      "source": [
        "#@title Train/Test data - number of observations\n",
        "print(\"Training set records\", len(HousePricesArea))\n",
        "\n",
        "print(\"Testing set records\", len(HousePricesArea_test))"
      ],
      "execution_count": 40,
      "outputs": [
        {
          "output_type": "stream",
          "text": [
            "Training set records 153\n",
            "Testing set records 66\n"
          ],
          "name": "stdout"
        }
      ]
    },
    {
      "cell_type": "code",
      "metadata": {
        "id": "m0vMR070512m",
        "colab_type": "code",
        "cellView": "form",
        "colab": {}
      },
      "source": [
        "#@title (RUN upon completion)\n",
        "\n",
        "#@markdown **10.** Complete the sentence by reading the output of the code in the cell above:\n",
        "\n",
        "#@markdown Now the training set has ..... observations, and the testing set has ..... observation. \n",
        "\n",
        "short_answer = \"\" #@param {type:\"string\"}\n"
      ],
      "execution_count": 41,
      "outputs": []
    },
    {
      "cell_type": "markdown",
      "metadata": {
        "id": "XFh4W9ML512o",
        "colab_type": "text"
      },
      "source": [
        "### D) Fitting linear regression model using the training set - It is time to do machine learning\n",
        "\n",
        "**11.** Run the code in the cell below to fit linear regression model to the `HousePricesArea` data."
      ]
    },
    {
      "cell_type": "code",
      "metadata": {
        "id": "SWEtocnl512o",
        "colab_type": "code",
        "cellView": "form",
        "colab": {
          "base_uri": "https://localhost:8080/",
          "height": 69
        },
        "outputId": "33124929-41df-4be7-828d-6809a018e760"
      },
      "source": [
        "#@title Fit the model using the train data\n",
        "# define formula with response and predictor\n",
        "fmla='price ~ area' \n",
        "\n",
        "# create a fitted model assign using OLS estimation from statistical models\n",
        "lin_reg = sm.ols(formula=fmla, data=HousePricesArea).fit()\n",
        "\n",
        "# print the coefficients\n",
        "lin_reg.params\n",
        "\n",
        "# more details about the fitted linnear regression model\n",
        "#lin_reg.summary()\n"
      ],
      "execution_count": 42,
      "outputs": [
        {
          "output_type": "execute_result",
          "data": {
            "text/plain": [
              "Intercept    20025.591831\n",
              "area          2942.324869\n",
              "dtype: float64"
            ]
          },
          "metadata": {
            "tags": []
          },
          "execution_count": 42
        }
      ]
    },
    {
      "cell_type": "code",
      "metadata": {
        "id": "aELusFF6512s",
        "colab_type": "code",
        "cellView": "form",
        "colab": {}
      },
      "source": [
        "#@title (RUN upon completion)\n",
        "\n",
        "#@markdown **12.** Which one of the output values corresponds to the slope of the best line? \n",
        "\n",
        "short_answer = \"\" #@param {type:\"string\"}\n",
        "\n",
        "#@markdown **13.** Run the code cells below and adjust the slider to observe the effect of **outliers** on the best line. \n",
        "\n",
        "\n",
        "#@markdown **Note:** An outlier is a data point that do not seem to fit the general pattern in the data. "
      ],
      "execution_count": 43,
      "outputs": []
    },
    {
      "cell_type": "code",
      "metadata": {
        "id": "DKQ-xBhH512u",
        "colab_type": "code",
        "cellView": "form",
        "colab": {}
      },
      "source": [
        "#@title Definition of a function\n",
        "from random import randint\n",
        "\n",
        "def create_single_outlier():\n",
        " \n",
        "    price = randint(1500000,2500000)\n",
        "    area = randint(180,200)\n",
        "    return(price, area)\n",
        "\n",
        "def create_outlier_table(num):\n",
        "    temptable = pd.DataFrame()\n",
        "    pricelist = []\n",
        "    arealist = []\n",
        "    for i in range(num):\n",
        "        price, area = create_single_outlier()\n",
        "        pricelist.append(price)\n",
        "        arealist.append(area)\n",
        "    temptable['price'] = pricelist\n",
        "    temptable['area'] = arealist\n",
        "    return(temptable)\n",
        "\n",
        "def predict_line(table):\n",
        "    predictor=np.array(table['area']).reshape(-1,1)\n",
        "    response=table['price']\n",
        "    lm = LinearRegression()\n",
        "    lm.fit(predictor, response)\n",
        "    return(lm.coef_, lm.intercept_)\n",
        "\n",
        "def plot_figure_outliers(num):\n",
        "    tempdf = create_outlier_table(num)\n",
        "    HousePricesArea_outliers = pd.concat([HousePricesArea, tempdf], ignore_index=True)\n",
        "\n",
        "    a_orig, b_orig = predict_line(HousePricesArea)\n",
        "    plt.scatter(HousePricesArea['area'], HousePricesArea['price'], s=3, label='Data witout outliers', color=\"black\")\n",
        "    x_vals = np.arange(0, 200, 1)\n",
        "    y_vals_orig = a_orig * x_vals + b_orig\n",
        "    plt.plot(x_vals, y_vals_orig, linewidth=1, label=\"'best-fit' line without outliers\", color=\"blue\") # can we display this once the blue line guess is made by clicking, e.g. show on click\n",
        "     \n",
        "    a, b = predict_line(HousePricesArea_outliers)\n",
        "\n",
        "    plt.scatter(tempdf['area'], tempdf['price'], s=10, label=\"Outlier Data\", color=\"orange\")\n",
        "   \n",
        "    y_vals = a * x_vals + b\n",
        "    plt.plot(x_vals, y_vals, linewidth=1, label=\"'best-fit' line with outliers\", color=\"orange\") # can we display this once the blue line guess is made by clicking, e.g. show on click\n",
        "    plt.ylim(0, 2500000)\n",
        "    plt.xlim(50, 200)\n",
        "    plt.legend(loc=2)"
      ],
      "execution_count": 44,
      "outputs": []
    },
    {
      "cell_type": "markdown",
      "metadata": {
        "id": "Odi3pGLX512x",
        "colab_type": "text"
      },
      "source": [
        "**14.** Discuss with your group possible implications **outliers** may have on the best line. "
      ]
    },
    {
      "cell_type": "code",
      "metadata": {
        "scrolled": true,
        "id": "0PUyKo0V512y",
        "colab_type": "code",
        "cellView": "form",
        "colab": {}
      },
      "source": [
        "#@title Be cautious of unusual data \n",
        "inter = interactive(plot_figure_outliers, \n",
        "                num=(0,5))\n",
        "\n",
        "display(inter)"
      ],
      "execution_count": null,
      "outputs": []
    },
    {
      "cell_type": "markdown",
      "metadata": {
        "id": "K4G7H7K65122",
        "colab_type": "text"
      },
      "source": [
        "### E) Using the Model for Prediction\n",
        "\n",
        "If we express the regression model with the line equation, coefficients are rounded to the nearest whole integer: \n",
        "\n",
        "$$price = 20026 + 2942*area$$\n",
        "\n",
        "\n",
        "**15.** How could you interpret the `area` coefficient ($\\beta_1$)?\n",
        "\n",
        "__________________________________________________________\n",
        "\n",
        "- A \"unit\" increase in area is **associated with** a 2942 \"unit\" increase in price.\n",
        "- Or more clearly: An additional 1 sq.m of property is **associated with** an price increase of 2942 dollars.\n",
        "\n",
        "**16.** Is there meaningful interpretation for the intercept coefficient, ($\\beta_0$)? \n",
        "\n",
        "____________________________\n",
        "\n",
        "**17.** Can you use this linear equation to predict the price of a house given its `area=120` sq.m, if the same housing market conditions apply?\n",
        "\n",
        "____________________________________________________________________________________________\n",
        "\n",
        "**18.** If you review again the scatterplot data for the training set, you can see the range for the area is approximately on the interval (specify):\n",
        "\n",
        "______________________________________________________________\n",
        "\n",
        "**19.** Prediction within the range of values in the data set used for model-fitting is known informally as **interpolation**. Prediction outside this range of the data is known as **extrapolation**. \n",
        "\n",
        "What is appropriate classification of the predicted price for an `area=120` sq.m. in this context?\n",
        "\n",
        "_______________________________________________________________\n",
        "\n"
      ]
    },
    {
      "cell_type": "code",
      "metadata": {
        "colab_type": "code",
        "cellView": "form",
        "id": "ewnpD9yDDm2f",
        "colab": {}
      },
      "source": [
        "#@title (RUN upon completion)\n",
        "\n",
        "Briefly_summarise = \"\" #@param {type:\"string\"}"
      ],
      "execution_count": 46,
      "outputs": []
    },
    {
      "cell_type": "markdown",
      "metadata": {
        "id": "mp241sb9DdCl",
        "colab_type": "text"
      },
      "source": [
        "\n",
        "Run the code below using the equation of the line"
      ]
    },
    {
      "cell_type": "code",
      "metadata": {
        "id": "2_Q6R6w25122",
        "colab_type": "code",
        "cellView": "form",
        "colab": {}
      },
      "source": [
        "#@title New prediction\n",
        "# create df to hold the values of the area for which prediction will be made\n",
        "X_new = pd.DataFrame({'area':[120]})\n",
        "X_new.head()\n",
        "\n",
        "lin_reg.predict(X_new)\n"
      ],
      "execution_count": null,
      "outputs": []
    },
    {
      "cell_type": "markdown",
      "metadata": {
        "id": "bSiiHROo5126",
        "colab_type": "text"
      },
      "source": [
        "**20.** Run the code in the cell below to see summary for predictor variable `area` in the `HousePricesArea` data"
      ]
    },
    {
      "cell_type": "code",
      "metadata": {
        "id": "plXWx_OM5127",
        "colab_type": "code",
        "cellView": "form",
        "colab": {}
      },
      "source": [
        "#@title Some summary statistics for the area variable\n",
        "HousePricesArea['area'].describe()"
      ],
      "execution_count": null,
      "outputs": []
    },
    {
      "cell_type": "markdown",
      "metadata": {
        "id": "GnfJhnYf5129",
        "colab_type": "text"
      },
      "source": [
        "**21.** Discuss possible implications if you try to predict the price for a really large property, area= 300 sq.m.? \n",
        "Note that for the sample data `area` ranges from 53 sq.m to 200 sq.m.\n",
        "\n",
        "**22.** To complete this activity run the code that produces the predicted and residual values for the `HousePricesArea` data:"
      ]
    },
    {
      "cell_type": "code",
      "metadata": {
        "id": "PiS03o9E512-",
        "colab_type": "code",
        "cellView": "form",
        "colab": {}
      },
      "source": [
        "#@title RUN CELL - predicted and residual values\n",
        "# adding the predicted and residual values to the data frame HousePricesArea\n",
        "pred=lin_reg.fittedvalues\n",
        "\n",
        "resid=lin_reg.resid\n",
        "\n",
        "HousePricesArea['predicted']=pred\n",
        "\n",
        "HousePricesArea['residuals']=resid\n",
        "\n",
        "HousePricesArea.head(10)\n",
        "\n"
      ],
      "execution_count": null,
      "outputs": []
    },
    {
      "cell_type": "markdown",
      "metadata": {
        "id": "bzIViwsM513B",
        "colab_type": "text"
      },
      "source": [
        "**23.** Please discuss how the vertical line segment shown on the graph below relate to the values in the table shown for expanded `HousePricesArea` data. Rund the two cells below."
      ]
    },
    {
      "cell_type": "code",
      "metadata": {
        "id": "1-LLN0Xe513C",
        "colab_type": "code",
        "cellView": "form",
        "colab": {}
      },
      "source": [
        "#@title Plotting function definition\n",
        "# plot for residuals\n",
        "def plot_residuals(x_list,y_list, showPlot=False):\n",
        "    fig = plt.figure()\n",
        "    fig.set_size_inches(10, 8)\n",
        "    x = np.array(x_list).reshape(-1,1)\n",
        "    lm = LinearRegression()\n",
        "    lm.fit(x, y_list)\n",
        "\n",
        "    x_vals = np.arange(min(x_list), max(x_list), 1)\n",
        "    y_vals = lm.coef_ * x_vals + lm.intercept_\n",
        "  \n",
        "    residuals = []\n",
        "    y_min = []\n",
        "    y_max = []\n",
        "    y_pred = []\n",
        "\n",
        "    for i in range(len(x_list)):\n",
        "        y = (x_list[i])*(lm.coef_[0]) + lm.intercept_\n",
        "        y_pred.append(y)\n",
        "        res = y - y_list[i]\n",
        "        residuals.append(res)\n",
        "        if y > y_list[i]:\n",
        "            y_max.append(y)\n",
        "            y_min.append(y_list[i])\n",
        "        else:\n",
        "            y_max.append(y_list[i])\n",
        "            y_min.append(y)\n",
        "    if showPlot:\n",
        "        plt.grid(True, color='#999999', linestyle='-', alpha=.2)\n",
        "        plt.plot(x_vals, y_vals, color=\"blue\")\n",
        "        plt.scatter(x_list, y_list, s=5, color=\"black\")\n",
        "        plt.scatter(x_list, y_pred, s=10, facecolors='none', edgecolors=\"red\", marker='o')\n",
        "        plt.vlines(x_list, y_min, y_max, linewidth=.5)\n",
        "    return(residuals)"
      ],
      "execution_count": 50,
      "outputs": []
    },
    {
      "cell_type": "code",
      "metadata": {
        "id": "ehfxGW2l513F",
        "colab_type": "code",
        "cellView": "form",
        "colab": {}
      },
      "source": [
        "#@title Residual plot\n",
        "residuals = plot_residuals(list(HousePricesArea['area']), list(HousePricesArea['price']), showPlot=True)"
      ],
      "execution_count": null,
      "outputs": []
    },
    {
      "cell_type": "markdown",
      "metadata": {
        "id": "QSVHKTOPHlar",
        "colab_type": "text"
      },
      "source": [
        "\n",
        "# Task (3) Evaluation"
      ]
    },
    {
      "cell_type": "code",
      "metadata": {
        "id": "4zSTUBn1FA8E",
        "colab_type": "code",
        "cellView": "form",
        "colab": {}
      },
      "source": [
        "#@title #Team Work Evaluation (RUN upon completion)\n",
        "\n",
        "#@markdown 1.\tHow much time was required for completion of Activity 1?\n",
        "activity1_evaluation1 = \"\" #@param {type:\"string\"}\n",
        "#@markdown 2.\tWas the contribution from each participant equal?\t\n",
        "activity1_evaluation2 = \"\" #@param {type:\"string\"}\n",
        "#@markdown 3.\tHow could the team work and learn more effectively?\n",
        "activity1_evaluation3 = \"\" #@param {type:\"string\"} \n",
        "#@markdown 4.\tHow many participants thought the problems were too simple (trivial)? \n",
        "activity1_evaluation4 = \"\" #@param {type:\"string\"}\n",
        "#@markdown 5.\tHow many participants thought the problems were at the proper level of difficulty?\t\n",
        "activity1_evaluation5 = \"\" #@param {type:\"string\"}\n",
        "#@markdown 6.\tHow many participants thought the problems were too hard?\n",
        "activity1_evaluation6 = \"\" #@param {type:\"string\"}\n",
        "#@markdown 7.\tWas help needed? Where?\n",
        "activity1_evaluation7 = \"\" #@param {type:\"string\"}\n",
        "#@markdown 8.\tDoes the team have any suggestions about how Activity 1 could be improved? If so, how? \n",
        "activity1_evaluation8 = \"\" #@param {type:\"string\"} \n",
        "\n",
        "\n"
      ],
      "execution_count": null,
      "outputs": []
    },
    {
      "cell_type": "markdown",
      "metadata": {
        "id": "fQvYY8lV2hyH",
        "colab_type": "text"
      },
      "source": [
        "# Activity 4: Model Performance Assessment and Diagnostic"
      ]
    },
    {
      "cell_type": "markdown",
      "metadata": {
        "id": "i0OdsVFz513I",
        "colab_type": "text"
      },
      "source": [
        "\n",
        "\n",
        "### 0) Prerequisites :  Concepts and Data\n",
        "\n",
        "\n",
        "#### Consider the ANOVA Approach to Regression\n",
        "\n",
        "The analysis of variance approach (**ANOVA**) is based on partitioning the sums of squares and the degrees of freedom associated with the response variable `Y`. The total deviation, $Y_i-\\bar Y$ can be decomposed into two components:\n",
        "\n",
        "* The deviation of the fitted value $\\hat Y_i$ around the mean $\\bar Y$ and\n",
        "\n",
        "* The deviation of the observation $Y_i$ around the regression line.\n",
        "\n",
        "$$Y_i-\\bar Y = \\hat Y_i-\\bar Y + Y_i-\\hat Y_i$$\n",
        "\n",
        "One then can show the total sum of squares can be expressed as:\n",
        "\n",
        "$$\\sum_{i=1}^n (Y_i-\\bar Y)^2 = \\sum_{i=1}^n (\\hat Y_i-\\bar Y)^2 + \\sum_{i=1}^n (Y_i-\\hat Y_i)^2$$\n",
        "\n",
        "The equation above frequently is expressed as:\n",
        "\n",
        "$$SST = SSR + SSE$$\n",
        "\n",
        "* $SST$ - Total sum of squares\n",
        "\n",
        "\n",
        "* $SSR (SSM)$ - Regression sum of squares (Sum of squares attributed to the model)\n",
        "\n",
        "\n",
        "* $SSE$ - Error sum of squares\n",
        "\n",
        "\n",
        "* $R^2=1- \\frac{SSE}{SST}=\\frac{SSM}{SST}$ is called **Coefficient of Determination** \n",
        "\n",
        "\n",
        "* **Mean Square Error** $(MSE)$ - If $n$ **predictions** are generated from a sample of $n$ data points on all variables, and $Y_i$ are the observed values of the variable being predicted, with $\\hat{Y_i}$ being the predicted values (e.g. as OLS fit), for $i=1 2, ..., n$ then the within-sample `MSE` of the predictor is computed as \n",
        "\n",
        "\n",
        "$$MSE=\\frac{1}{n}\\sum (Y_i -\\hat{Y_i})^2$$\n",
        "\n",
        "\n",
        "* **Mean Square Prediction Error** $(MSPE)$ is the MSE evaluated with a data points that were not used in estimating the model, e.g. a held back test set or new data. MSPE is frequently used to assess predictive performance of a candidate model.\n",
        "\n",
        "\n",
        "* $RMSE$ - $\\sqrt{MSE}$\n",
        "\n",
        "\n",
        "* $RMSPE$ - $\\sqrt{MSPE}$\n",
        " \n",
        " ___________________________________________________\n",
        "\n",
        "\n",
        "* file: \"HousePrices_test.csv\" - previously retained for testing purposes\n"
      ]
    },
    {
      "cell_type": "markdown",
      "metadata": {
        "id": "DBcx_p7M513I",
        "colab_type": "text"
      },
      "source": [
        "### A) Motivating Micro Problem\n",
        "\n",
        "You want to incorporate quantitative measure(s) to assess model predictive performance in order to select the best model among candidate models that describe the Housing Data."
      ]
    },
    {
      "cell_type": "markdown",
      "metadata": {
        "id": "1iKIgotL513J",
        "colab_type": "text"
      },
      "source": [
        "### B) Reading the Test Data\n",
        "\n",
        "Using again the existing function in the `panda` library we can read cvs files, run the given code:"
      ]
    },
    {
      "cell_type": "code",
      "metadata": {
        "scrolled": true,
        "id": "sIQ8wbJy513J",
        "colab_type": "code",
        "cellView": "both",
        "colab": {}
      },
      "source": [
        "#@title Test data - the unseen data\n",
        "#the data was loaded earlier, shown here for demo \n",
        "\n",
        "filename = \"HousePrices_test.csv\"  # test set data file\n",
        "usecols=['price', 'area']\n",
        "HousePricesArea_test = pd.read_csv(filename, usecols=usecols)\n",
        "HousePricesArea_test.head(10)\n",
        "\n"
      ],
      "execution_count": null,
      "outputs": []
    },
    {
      "cell_type": "markdown",
      "metadata": {
        "id": "YhkQPuBn513M",
        "colab_type": "text"
      },
      "source": [
        "### C) How Well Does the Model Fit the data?\n",
        "\n",
        "\n",
        "**1.** Each member of the group should take turn at describing what $R^2$ mean in everyday language.\n",
        "\n",
        "A: R-squared is the **proportion of variance explained**, meaning the proportion of variance in the observed data that is explained by the model, or the reduction in error over the **null model**. (The null model just predicts the mean of the observed response, and thus it has an intercept and no slope.\n",
        "\n",
        "\n",
        "**2.** Discuss how the partition of the total sum of squares can be used to locate good fitting model? What does relatively big $SSE$ means?\n",
        "\n",
        "__________________________________________________\n",
        "\n",
        "\n",
        "**3.** Discuss why the null model has $R^2=1- \\frac{SSE}{SST}=0$ or $SSE=SST$.\n",
        "\n",
        "__________________________________________________\n",
        "\n",
        "**4.** For any regression model, what is the range of values for $R^2$?\n",
        "\n",
        "A: 0 to 1 (perfect fit)\n",
        "\n",
        "__________________________________________________\n",
        "\n",
        "\n",
        "**5.** Review the 4 possible scenarios given below, all of the have the same $R^2=0.67$ and discuss why $R^2$ should be used with caution and never as sole criterion for determining the best model. Source: Wikipedia\n",
        " <img src=\"https://upload.wikimedia.org/wikipedia/commons/thumb/e/ec/Anscombe%27s_quartet_3.svg/800px-Anscombe%27s_quartet_3.svg.png\" width=\"400\" height=\"300\">\n",
        " \n",
        " \n",
        "**6.** Run the code below to see $R^2$ for the best model derived in **Activity 3**. Discuss with you group if $R^2$ alone can be a good measure of the model fit. Keep in mind the scenarios in the previous question."
      ]
    },
    {
      "cell_type": "code",
      "metadata": {
        "id": "0u52Uq7b513N",
        "colab_type": "code",
        "cellView": "form",
        "colab": {
          "base_uri": "https://localhost:8080/",
          "height": 34
        },
        "outputId": "cd105a02-c955-439e-ecc2-77e51eadc84e"
      },
      "source": [
        "#@title R-square for the model \n",
        "lin_reg.rsquared"
      ],
      "execution_count": 53,
      "outputs": [
        {
          "output_type": "execute_result",
          "data": {
            "text/plain": [
              "0.6503889782318626"
            ]
          },
          "metadata": {
            "tags": []
          },
          "execution_count": 53
        }
      ]
    },
    {
      "cell_type": "markdown",
      "metadata": {
        "id": "EIMfF6IF513V",
        "colab_type": "text"
      },
      "source": [
        "**7.** Evaluating $R^2$ using the test set (unseen data) may result in negative value, can you argue why? \n",
        "\n",
        "\n",
        "__________________________________________________\n",
        "\n"
      ]
    },
    {
      "cell_type": "code",
      "metadata": {
        "colab_type": "code",
        "cellView": "form",
        "id": "RsDqwtlLEBAb",
        "colab": {}
      },
      "source": [
        "#@title (RUN upon completion)\n",
        "\n",
        "Briefly_summarise = \"\" #@param {type:\"string\"}"
      ],
      "execution_count": 54,
      "outputs": []
    },
    {
      "cell_type": "markdown",
      "metadata": {
        "id": "n81uC9Tk513V",
        "colab_type": "text"
      },
      "source": [
        "### D) How Well Does the Model predict?\n",
        "\n",
        "**8.** Run the code below, the graph display shows the observed vs predicted price value for the train model data, `HousePricesArea`. The line $y=x$ is used as reference line. What would it mean if majority of the point were above the line? Would that be a good fit?"
      ]
    },
    {
      "cell_type": "code",
      "metadata": {
        "id": "EpVdfiKc513V",
        "colab_type": "code",
        "cellView": "form",
        "colab": {}
      },
      "source": [
        "#@title Compare observed vs predicted prices\n",
        "# graph Observed vs Predicted price values for the training data\n",
        "# pred = lin_reg.fittedvalues # previously defined\n",
        "price = HousePricesArea['price']\n",
        "\n",
        "plt.figure(figsize=(8,5))\n",
        "p=plt.scatter(x=pred,y=price)\n",
        "xmin=min(pred)\n",
        "xmax = max(pred)\n",
        "\n",
        "xpoints = ypoints = plt.xlim()\n",
        "plt.plot(xpoints, ypoints, linestyle='--', color='k', lw=2, scalex=True, scaley=True)\n",
        "\n",
        "plt.xlabel(\"Predicted\")\n",
        "plt.ylabel(\"Observed\")\n",
        "plt.title(\"Fig. 1: Observed vs Predicted Values (train data)\")\n",
        "plt.grid(True)\n",
        "plt.show()"
      ],
      "execution_count": null,
      "outputs": []
    },
    {
      "cell_type": "markdown",
      "metadata": {
        "id": "wl5jtsar513X",
        "colab_type": "text"
      },
      "source": [
        "**9.** Run the code below, the graph display shows the observed vs predicted price value for the test set data, `HousePricesArea_test`. The line $y=x$ is used as reference line. How the model generalize to out-of-sample data? Do you think it provides good fit? Discuss why if yes/no.\n"
      ]
    },
    {
      "cell_type": "code",
      "metadata": {
        "id": "SGzpteO2513Z",
        "colab_type": "code",
        "cellView": "form",
        "colab": {}
      },
      "source": [
        "#@title Using the **test data**\n",
        "# graph Observed vs Predicted price values for the testing set data\n",
        "\n",
        "# price from the HousePricesArea_test data\n",
        "price_test = HousePricesArea_test['price']\n",
        "\n",
        "# create df to hold the values of the area for which prediction will be made\n",
        "X_new = HousePricesArea_test['area']\n",
        "X_new.head()\n",
        "\n",
        "# predicted price values for test set\n",
        "pred_test = lin_reg.predict(X_new)\n",
        "\n",
        "\n",
        "\n",
        "plt.figure(figsize=(8,5))\n",
        "p=plt.scatter(x=pred_test,y=price_test)\n",
        "xmin=min(pred_test)\n",
        "xmax = max(pred_test)\n",
        "\n",
        "xpoints = ypoints = plt.xlim()\n",
        "plt.plot(xpoints, ypoints, linestyle='--', color='k', lw=2, scalex=True, scaley=True)\n",
        "\n",
        "plt.xlabel(\"Predicted\")\n",
        "plt.ylabel(\"Observed\")\n",
        "plt.title(\"Fig. 2: Observed vs Predicted Values (test set)\")\n",
        "plt.grid(True)\n",
        "plt.show()\n"
      ],
      "execution_count": null,
      "outputs": []
    },
    {
      "cell_type": "markdown",
      "metadata": {
        "id": "ajcUDIelEH2i",
        "colab_type": "text"
      },
      "source": [
        "### E) RMSE - Measure of Model Error and Model Fit Indicator."
      ]
    },
    {
      "cell_type": "code",
      "metadata": {
        "id": "Mzl64knY513b",
        "colab_type": "code",
        "cellView": "form",
        "colab": {}
      },
      "source": [
        "#@title (RUN upon completion)\n",
        "\n",
        "#@markdown **10.** How would you describe the **MSE** and **RMSE** in residual context?\n",
        "\n",
        "short_answer = \"\" #@param {type:\"string\"}\n",
        "\n",
        "#@markdown **11.** Speaking of the value of a model in generally one would be more concern with the overall accuracy and precision, not how successfully it explains the variation in a particular data set. What models will provide better accuracy, models with smaller or bigger MSE? Discuss with you group.\n",
        "\n",
        "short_answer = \"\" #@param {type:\"string\"}\n",
        "\n",
        "#@markdown **12.** Considering **Fig. 1** and **Fig. 2**, compare the MSE (on train set) and MSPE (on test set) for the model fitted in Activity 3. Which one appears to be bigger? Explain why.\n",
        "\n",
        "short_answer = \"\" #@param {type:\"string\"}\n",
        " \n",
        "#@markdown **13.** First check the **RMSE**, $\\sqrt{MSE}$, for your model, using the training set, by running the code.\n",
        "\n",
        "short_answer = \"\" #@param {type:\"string\"}"
      ],
      "execution_count": 57,
      "outputs": []
    },
    {
      "cell_type": "code",
      "metadata": {
        "id": "kyY_FywN513b",
        "colab_type": "code",
        "cellView": "both",
        "colab": {
          "base_uri": "https://localhost:8080/",
          "height": 34
        },
        "outputId": "0e92601a-dc13-4171-8a9f-12c15d0fe17e"
      },
      "source": [
        "#@title RMSE \n",
        "from sklearn.metrics import mean_squared_error, r2_score\n",
        "from math import sqrt\n",
        "mse=mean_squared_error(HousePricesArea['price'],lin_reg.fittedvalues)\n",
        "rmse=sqrt(mse)\n",
        "rmse\n"
      ],
      "execution_count": 58,
      "outputs": [
        {
          "output_type": "execute_result",
          "data": {
            "text/plain": [
              "43699.512784148785"
            ]
          },
          "metadata": {
            "tags": []
          },
          "execution_count": 58
        }
      ]
    },
    {
      "cell_type": "code",
      "metadata": {
        "id": "1gmGH9pp513d",
        "colab_type": "code",
        "cellView": "form",
        "colab": {}
      },
      "source": [
        "#@title (RUN upon completion)\n",
        "\n",
        "#@markdown **14.** Is the RMSE big or small? It probably depends. Discuss what could you use to assess how big the RMSE is.\n",
        "\n",
        "short_answer = \"\" #@param {type:\"string\"}"
      ],
      "execution_count": 59,
      "outputs": []
    },
    {
      "cell_type": "markdown",
      "metadata": {
        "id": "ImprU4U7513e",
        "colab_type": "text"
      },
      "source": [
        "**15.** Run the code below to evaluate the ratio of `RMSE` and `standard deviation` of the `price` variable for the `HousePricesData`. Discuss if this gives you insight about the model fit."
      ]
    },
    {
      "cell_type": "code",
      "metadata": {
        "id": "QZOWhLpA513e",
        "colab_type": "code",
        "cellView": "both",
        "colab": {
          "base_uri": "https://localhost:8080/",
          "height": 34
        },
        "outputId": "433e97a6-50f2-4343-be5d-1656c6477778"
      },
      "source": [
        "#@title Ratio RMSE/St.Dev\n",
        "print(\"Ratio RMSE/St.Dev\", rmse/sd_price)"
      ],
      "execution_count": 60,
      "outputs": [
        {
          "output_type": "stream",
          "text": [
            "Ratio RMSE/St.Dev 0.5912791403120337\n"
          ],
          "name": "stdout"
        }
      ]
    },
    {
      "cell_type": "code",
      "metadata": {
        "id": "dFu8yYeD513i",
        "colab_type": "code",
        "cellView": "form",
        "colab": {}
      },
      "source": [
        "#@title (RUN upon completion)\n",
        "\n",
        "#@markdown **16.** Discuss if **RMSE** is a more helpful indicator of a model's fit than is $R^2$.\n",
        "\n",
        "short_answer = \"\" #@param {type:\"string\"}"
      ],
      "execution_count": 61,
      "outputs": []
    },
    {
      "cell_type": "markdown",
      "metadata": {
        "id": "tLO0j3-w513i",
        "colab_type": "text"
      },
      "source": [
        "**17.** Run the code below to evaluate the ratio of `RMSPE` and `standard deviation` of the `price` variable for the unseen data in `HousePricesData_test`. Discuss what significant deviation from the ratio on the train data would mean for the model predictive ability."
      ]
    },
    {
      "cell_type": "code",
      "metadata": {
        "id": "zVB3xUK4513i",
        "colab_type": "code",
        "cellView": "form",
        "colab": {
          "base_uri": "https://localhost:8080/",
          "height": 34
        },
        "outputId": "e3bd55b1-ca78-4158-96fb-517d96434a61"
      },
      "source": [
        "#@title Now using the **test** data\n",
        "mspe=mean_squared_error(HousePricesArea_test['price'],pred_test)\n",
        "rmspe=sqrt(mspe)\n",
        "print(\"Root Mean Square Prediction Error(test set)\", rmspe)\n",
        "\n"
      ],
      "execution_count": 62,
      "outputs": [
        {
          "output_type": "stream",
          "text": [
            "Root Mean Square Prediction Error(test set) 33469.08325566603\n"
          ],
          "name": "stdout"
        }
      ]
    },
    {
      "cell_type": "code",
      "metadata": {
        "id": "oQfSxmM5513l",
        "colab_type": "code",
        "cellView": "form",
        "colab": {
          "base_uri": "https://localhost:8080/",
          "height": 52
        },
        "outputId": "8d3c7ec8-2c7c-4bcc-bdff-7f890a55f310"
      },
      "source": [
        "#@title Now Ratio RMSE/St.Dev for **test** data\n",
        "sd_price_test = np.std(HousePricesArea_test['price'])\n",
        "print(\"The standard deviation of the price in the test set is\", sd_price_test)\n",
        "print(\"Ratio RMSPE/St.Dev\", rmspe/sd_price_test)"
      ],
      "execution_count": 63,
      "outputs": [
        {
          "output_type": "stream",
          "text": [
            "The standard deviation of the price in the test set is 66498.99388875363\n",
            "Ratio RMSPE/St.Dev 0.5033020997529161\n"
          ],
          "name": "stdout"
        }
      ]
    },
    {
      "cell_type": "markdown",
      "metadata": {
        "id": "CT0U3ZRx513n",
        "colab_type": "text"
      },
      "source": [
        "**18.** What if the `MSPE` for the unseen data is not commensurate with the `MSE` on the train data, e.g. it is significantly bigger - is that a model that generalize well? What could have cause such significant difference?\n",
        "\n"
      ]
    },
    {
      "cell_type": "code",
      "metadata": {
        "colab_type": "code",
        "cellView": "both",
        "id": "Uwg6WNooHRDV",
        "colab": {}
      },
      "source": [
        "#@title (RUN upon completion)\n",
        "\n",
        "Briefly_summarise = \"\" #@param {type:\"string\"}"
      ],
      "execution_count": 64,
      "outputs": []
    },
    {
      "cell_type": "markdown",
      "metadata": {
        "id": "_u1jLHwR513o",
        "colab_type": "text"
      },
      "source": [
        "### F) Diagnostic: The **LINE** assumptions through visual analytics methods\n",
        "\n",
        "The linear regression model is built under certain conditions. These conditions are sometimes called the **\"LINE\"** assumptions. All but the independence assumption can be assessed using diagnostic plots.\n",
        "\n",
        "Any inferences from the model are only valid if the following assumptions hold:\n",
        "\n",
        "* **I. Linearity**: The functional form of the relationship between the predictor(s) and the response follows a linear combination of regression parameters that are correctly specified (assumption can be verified by bivariate graphical displays).\n",
        "\n",
        "\n",
        "* **II. Independence**: The errors ($\\epsilon$) are uncorrelated and they do not follow a pattern (perhaps over time or within clusters of subjects)? \n",
        "\n",
        "**Note:** We are not covering this assumption in this notebook as it cannot be assessed through dynamic visualization.\n",
        "\n",
        "* **III. Normality of residuals**: Do the residuals follow a distribution that is approximately **normal** (symmetric bell shape)? This assumption can be verified using univariate displays.\n",
        "\n",
        "* **IV. Equal variance of residuals**: Is the variance in the residuals constant across the explanatory variables (**homoscedastic** errors)? Or does the variance in the residuals depend on the value of one or more of the explanatory variables (heteroscedastic errors)? This assumption can be verified using residual diagnostics.\n",
        "\n",
        "\n",
        "\n"
      ]
    },
    {
      "cell_type": "code",
      "metadata": {
        "id": "phx0S8wnHWfM",
        "colab_type": "code",
        "cellView": "form",
        "colab": {}
      },
      "source": [
        "#@title (RUN upon completion)\n",
        "\n",
        "#@markdown **19.** What does it mean if a fitted model has majority of the residual positive? What if majority are negative?\n",
        "\n",
        "short_answer = \"\" #@param {type:\"string\"}\n",
        "\n",
        "#@markdown **20.** If a model provides good fit, what percentage of positive (negative) residuals are expected? Discuss with your group.\n",
        "short_answer = \"\" #@param {type:\"string\"}\n",
        "\n",
        "#@markdown **21.** Review the histogram below displaying the residual distribution - discuss whether normality of residuals is reasonable (assumption **III.**).\n",
        "short_answer = \"\" #@param {type:\"string\"}"
      ],
      "execution_count": 65,
      "outputs": []
    },
    {
      "cell_type": "markdown",
      "metadata": {
        "id": "DT0HPgRG513o",
        "colab_type": "text"
      },
      "source": [
        ""
      ]
    },
    {
      "cell_type": "code",
      "metadata": {
        "id": "iW2EwwoK513o",
        "colab_type": "code",
        "cellView": "form",
        "colab": {}
      },
      "source": [
        "#@title Residuals distribution\n",
        "plt.figure(figsize=(8,5))\n",
        "plt.hist(lin_reg.resid_pearson,bins=15)\n",
        "plt.ylabel('Count')\n",
        "plt.xlabel('Normalized residuals')\n",
        "plt.title(\"Histogram of normalized residuals\")\n",
        "plt.show()"
      ],
      "execution_count": null,
      "outputs": []
    },
    {
      "cell_type": "code",
      "metadata": {
        "id": "N-zzCO0D513r",
        "colab_type": "code",
        "cellView": "form",
        "colab": {}
      },
      "source": [
        "#@title (RUN upon completion\n",
        "\n",
        "#@markdown **22.** Review the scatter plot below displaying the residual distribution vs area - discuss with your group how the reference line $y=0$ can be used to assess model fit and the equal variance of residuals assumption (assumtion **IV.**)\n",
        " \n",
        "short_answer = \"\" #@param {type:\"string\"}"
      ],
      "execution_count": 67,
      "outputs": []
    },
    {
      "cell_type": "code",
      "metadata": {
        "id": "N60U9Xe7513s",
        "colab_type": "code",
        "cellView": "form",
        "colab": {}
      },
      "source": [
        "#@title Residual vs area\n",
        "# graph residuals vs predictor (area)\n",
        "# lin_reg.fittedvalues\n",
        "predictor = HousePricesArea['area']\n",
        "\n",
        "plt.figure(figsize=(8,5))\n",
        "p=plt.scatter(x=predictor,y=lin_reg.resid)\n",
        "xmin=min(predictor)\n",
        "xmax = max(predictor)\n",
        "plt.hlines(y=0,xmin=xmin*0.9,xmax=xmax*1.1,color='red')\n",
        "plt.xlabel(\"area\")\n",
        "plt.ylabel(\"Residuals\")\n",
        "plt.title(\"Residuals vs area\")\n",
        "plt.grid(True)\n",
        "plt.show()"
      ],
      "execution_count": null,
      "outputs": []
    },
    {
      "cell_type": "code",
      "metadata": {
        "id": "k2AB_cAG513v",
        "colab_type": "code",
        "cellView": "form",
        "colab": {}
      },
      "source": [
        "#@title (RUN upon completion\n",
        "\n",
        "#@markdown **23.** Review the scatter plot below displaying the residual distribution vs area - discuss with your group how the reference line $y=0$ can be used to assess model fit and the equal variance of residuals assumption (assumption **IV.**).\n",
        " \n",
        "short_answer = \"\" #@param {type:\"string\"}\n"
      ],
      "execution_count": 69,
      "outputs": []
    },
    {
      "cell_type": "code",
      "metadata": {
        "id": "My5Q6SIt513w",
        "colab_type": "code",
        "cellView": "form",
        "colab": {}
      },
      "source": [
        "#@title Residuals vs predicted values \n",
        "# graph residuals vs predicted values \n",
        "plt.figure(figsize=(8,5))\n",
        "p=plt.scatter(x=lin_reg.fittedvalues,y=lin_reg.resid)\n",
        "xmin=min(lin_reg.fittedvalues)\n",
        "xmax = max(lin_reg.fittedvalues)\n",
        "plt.hlines(y=0,xmin=xmin*0.9,xmax=xmax*1.1,color='red')\n",
        "plt.xlabel(\"Predicted values\")\n",
        "plt.ylabel(\"Residuals\")\n",
        "plt.title(\"Residuals vs Predicted\")\n",
        "plt.grid(True)\n",
        "plt.show()"
      ],
      "execution_count": null,
      "outputs": []
    },
    {
      "cell_type": "markdown",
      "metadata": {
        "id": "rpz4uC5CKGEI",
        "colab_type": "text"
      },
      "source": [
        "\n",
        "# Task (4) Evaluation"
      ]
    },
    {
      "cell_type": "code",
      "metadata": {
        "id": "cQRLfVqtEo_D",
        "colab_type": "code",
        "cellView": "form",
        "colab": {}
      },
      "source": [
        "#@title #Team Work Evaluation\n",
        "#@markdown 1.\tHow much time was required for completion of Activity 1?\n",
        "activity1_evaluation1 = \"\" #@param {type:\"string\"}\n",
        "#@markdown 2.\tWas the contribution from each participant equal?\t\n",
        "activity1_evaluation2 = \"\" #@param {type:\"string\"}\n",
        "#@markdown 3.\tHow could the team work and learn more effectively?\n",
        "activity1_evaluation3 = \"\" #@param {type:\"string\"} \n",
        "#@markdown 4.\tHow many participants thought the problems were too simple (trivial)? \n",
        "activity1_evaluation4 = \"\" #@param {type:\"string\"}\n",
        "#@markdown 5.\tHow many participants thought the problems were at the proper level of difficulty?\t\n",
        "activity1_evaluation5 = \"\" #@param {type:\"string\"}\n",
        "#@markdown 6.\tHow many participants thought the problems were too hard?\n",
        "activity1_evaluation6 = \"\" #@param {type:\"string\"}\n",
        "#@markdown 7.\tWas help needed? Where?\n",
        "activity1_evaluation7 = \"\" #@param {type:\"string\"}\n",
        "#@markdown 8.\tDoes the team have any suggestions about how Activity 1 could be improved? If so, how? \n",
        "activity1_evaluation8 = \"\" #@param {type:\"string\"}  \t\n",
        "\n",
        "\n"
      ],
      "execution_count": null,
      "outputs": []
    },
    {
      "cell_type": "markdown",
      "metadata": {
        "id": "U0DWOR985130",
        "colab_type": "text"
      },
      "source": [
        "# Activity 5: Multiple Linear Regression Model for the Housing Data\n",
        "\n",
        "\n",
        "You want to build multiple linear regression model that can better predict prices using a set of quantitative predictors, chosen by you. To measure your success compare the `RMSPE` (`MSPE`) of the model with the one for the simple linear regression model from **Activity 3**. \n",
        "\n",
        "How do you decide which features to include in a linear model? Here's one idea: \n",
        "\n",
        "Try different models and see if the MSPE goes up/down when you use validation set approach."
      ]
    },
    {
      "cell_type": "markdown",
      "metadata": {
        "id": "bImN0ZPo5130",
        "colab_type": "text"
      },
      "source": [
        "### A) Concepts Clarification: Multiple Linear Regression\n",
        "\n",
        "Simple linear regression can easily be extended to include multiple features. This is called **multiple linear regression**:\n",
        "\n",
        "$E(y) = \\beta_0 + \\beta_1x_1 + \\beta_2x_2 + ... + \\beta_nx_n$ \n",
        "\n",
        "or \n",
        "\n",
        "$y = \\beta_0 + \\beta_1x + \\beta_2x_2 + ... + \\beta_nx_n + \\epsilon$\n",
        "\n",
        "Each 𝑥 represents a different feature, and each feature has its own coefficient. "
      ]
    },
    {
      "cell_type": "markdown",
      "metadata": {
        "id": "gNff5Ac95131",
        "colab_type": "text"
      },
      "source": [
        "### B)  Full Housing Data Discription\n",
        "\n",
        "A data frame with 219 observations on the following 15 variables\n",
        "\n",
        "* `price` (the market total price (in Euros) of the apartment including garage(s) and storage room(s))\n",
        "\n",
        "* `area` (the total living area of the apartment in square meters)\n",
        "\n",
        "* `zone` (a factor indicating the neighborhood where the apartment is located with levels `Z11, Z21, Z31, Z32, Z34, Z35, Z36, Z37, Z38, Z41, Z42, Z43, Z44, Z45, Z46, Z47, Z48, Z49, Z52, Z53, Z56, Z61, and Z62`)\n",
        "\n",
        "* `category` (a factor indicating the condition of the apartment with levels `2A, 2B, 3A, 3B, 4A, 4B`, and `5A` ordered so that `2A` is the best and `5A` is the worst)\n",
        "\n",
        "* `age` (age of the apartment in years)\n",
        "\n",
        "* `floor` (floor on which the apartment is located)\n",
        "\n",
        "* `rooms` (total number of rooms including bedrooms, dining room, and kitchen)\n",
        "\n",
        "* `out` (a factor indicating the percent of the apartment exposed to the elements: The levels `E100, E75, E50, and E25`, correspond to complete exposure, `75`% exposure, `50`% exposure, and `25`% exposure, respectively.)\n",
        "\n",
        "* `conservation` (is an ordered factor indicating the state of conservation of the apartment. The levels `1A, 2A, 2B, and 3A` are ordered from best to worst conservation.)\n",
        "\n",
        "* `baths` (the number of bathrooms)\n",
        "\n",
        "* `garage` (the number of garages)\n",
        "\n",
        "* `elevator` (indicates the absence (0) or presence (1) of elevators.)\n",
        "\n",
        "* `streetcategory` (an ordered factor from best to worst indicating the category of the street with levels `S2, S3, S4, and S5`)\n",
        "\n",
        "* `heating` (a factor indicating the type of heating with levels `1A, 3A, 3B, and 4A` which correspond to: no heating, low-standard private heating, high-standard private heating, and central heating, respectively.)\n",
        "\n",
        "* `storage` (the number of storage rooms outside of the apartment)\n",
        "\n",
        "Data is divided into two sets one for training and one for testing a model. \n",
        "\n",
        "`HousePrices_train.csv` - 153 observation\n",
        "\n",
        "`HousePrices_test.csv` - 66 observations\n",
        "\n",
        "Run the code below to obtain the housing data information, for **only** quantitative variables, in the form of tables by reading the csv files. We exclude categorical predictor from this model building exercise."
      ]
    },
    {
      "cell_type": "markdown",
      "metadata": {
        "id": "CWjN9_Lu5132",
        "colab_type": "text"
      },
      "source": [
        "### C)  Read Data - run the cell below"
      ]
    },
    {
      "cell_type": "code",
      "metadata": {
        "id": "lmkatHjb5132",
        "colab_type": "code",
        "cellView": "both",
        "colab": {}
      },
      "source": [
        "#@title Read the Data\n",
        "# read the data for more variables from the csv file\n",
        "filename = \"HousePrices_train.csv\"  # train data file\n",
        "usecols=['price', 'area', 'age', 'floor', 'rooms', 'baths', 'garage', 'elevator', 'storage']\n",
        "\n",
        "# read training set data\n",
        "print(\"Reading training data\")\n",
        "HousePricesArea2 = pd.read_csv(filename, usecols=usecols)\n",
        "HousePricesArea2.head(10)\n",
        "\n"
      ],
      "execution_count": null,
      "outputs": []
    },
    {
      "cell_type": "markdown",
      "metadata": {
        "id": "B0TG_NPF5135",
        "colab_type": "text"
      },
      "source": [
        "Training data is contained in `HousePricesArea2` table.\n",
        "\n",
        "Run the code to read the **test** set."
      ]
    },
    {
      "cell_type": "code",
      "metadata": {
        "id": "XVEGUX8L5135",
        "colab_type": "code",
        "cellView": "both",
        "colab": {}
      },
      "source": [
        "#@title Read the test data\n",
        "# read the data for more variables from the csv file\n",
        "filename = \"HousePrices_test.csv\"  # train data file\n",
        "usecols=['price', 'area', 'age', 'floor', 'rooms', 'baths', 'garage', 'elevator', 'storage']\n",
        "\n",
        "# read training set data\n",
        "print(\"Reading training data\")\n",
        "HousePricesArea2_test = pd.read_csv(filename, usecols=usecols)\n",
        "HousePricesArea2_test.head(10)\n"
      ],
      "execution_count": null,
      "outputs": []
    },
    {
      "cell_type": "markdown",
      "metadata": {
        "id": "qMoYUuyT5138",
        "colab_type": "text"
      },
      "source": [
        "Testing set data is contained in `HousePricesArea2_test` table."
      ]
    },
    {
      "cell_type": "markdown",
      "metadata": {
        "id": "4KZQDLQV5139",
        "colab_type": "text"
      },
      "source": [
        "### D)  Examining Relationships among Regression Variables \n",
        "\n",
        "**1.** Discuss with you group how to pick features for multiple regression among the features in the data.\n",
        "\n",
        "\n",
        "**2.** Consider the following: variability of the candidate features, the correlation of each of the features with the response, the correlation between the features. \n",
        "\n",
        "**3.** If a features has a constant value for all or the majority of observations, is a good candidate for predictor?\n",
        "\n",
        "\n",
        "**4.** Run the code below to explore the correlation of each of the features with the response, the correlation between the features. \n",
        "\n",
        "'price', 'area', 'age', 'floor', 'rooms', 'baths', 'garage', 'elevator', 'storage'\n"
      ]
    },
    {
      "cell_type": "code",
      "metadata": {
        "id": "W_xFh68c5139",
        "colab_type": "code",
        "cellView": "form",
        "colab": {}
      },
      "source": [
        "#@title Pairplot to visualy explore the relations\n",
        "# visualize the relationship between the select features and the price using scatterplots\n",
        "from seaborn import pairplot\n",
        "\n",
        "pairplot(HousePricesArea2)\n"
      ],
      "execution_count": null,
      "outputs": []
    },
    {
      "cell_type": "markdown",
      "metadata": {
        "id": "r52tmY1T513_",
        "colab_type": "text"
      },
      "source": [
        "**5.** Specifically note the correlation of the `rooms` variable with `price` and `area`. Discuss if including `rooms` in a model which contains already `area` would bring new information. \n",
        "\n"
      ]
    },
    {
      "cell_type": "markdown",
      "metadata": {
        "id": "rDuJLQ5D0g66",
        "colab_type": "text"
      },
      "source": [
        "### F) Model Fitting\n",
        "\n",
        "**6.** Specify formula for the multiple linear regression in the form, e.g:\n",
        "\n",
        "`fmla='price ~ var1 + var2 + var3 + var4'` \n",
        "\n",
        "You can modify the 2nd line in the cell below by replacing, adding or removing the variables specified with you choice of variables."
      ]
    },
    {
      "cell_type": "code",
      "metadata": {
        "id": "WvPonwLb514D",
        "colab_type": "code",
        "colab": {}
      },
      "source": [
        "# define formula with response and predictor - you can later modify the lines below \n",
        "fmla='price ~ area + baths + elevator' \n",
        "fmla"
      ],
      "execution_count": null,
      "outputs": []
    },
    {
      "cell_type": "markdown",
      "metadata": {
        "id": "1oXqQHfk514Q",
        "colab_type": "text"
      },
      "source": [
        "**7.** Define a vector with you chosen predictors in the cell below, include single quatations around the names,e.g.:"
      ]
    },
    {
      "cell_type": "code",
      "metadata": {
        "id": "coKPDwll514Q",
        "colab_type": "code",
        "colab": {}
      },
      "source": [
        "# define vector with the names of the chosen predictors - you can later modify the lines below \n",
        "pred_cols=['area', 'baths','elevator']"
      ],
      "execution_count": 77,
      "outputs": []
    },
    {
      "cell_type": "markdown",
      "metadata": {
        "id": "wlxsBqHt514S",
        "colab_type": "text"
      },
      "source": [
        "**8.** Fit multiple regression model using ghe `statsmodels` library functions by running the code:"
      ]
    },
    {
      "cell_type": "code",
      "metadata": {
        "id": "Fz7fDMam514T",
        "colab_type": "code",
        "cellView": "form",
        "colab": {}
      },
      "source": [
        "#@title Fit multiple regression model\n",
        "# create a fitted model assign using OLS estimation from statistical models\n",
        "lin_reg_m = sm.ols(formula=fmla, data=HousePricesArea2).fit()\n",
        "\n",
        "# print the coefficients\n",
        "lin_reg_m.params\n",
        "\n",
        "# more details about the fitted linnear regression model\n",
        "#lin_reg_m.summary()"
      ],
      "execution_count": null,
      "outputs": []
    },
    {
      "cell_type": "markdown",
      "metadata": {
        "id": "PgTE4ol1514U",
        "colab_type": "text"
      },
      "source": [
        "**9.** Try to interpret the coefficients of the model for each variable included. Review the model $R^2$ by runnign the code below and see how it compares to $R^2=0.650$ of the simple linear regression model from **Activity 3**.\n",
        "\n",
        "\n",
        "_________________________________________"
      ]
    },
    {
      "cell_type": "code",
      "metadata": {
        "id": "nvk4tjdD514W",
        "colab_type": "code",
        "cellView": "form",
        "colab": {
          "base_uri": "https://localhost:8080/",
          "height": 34
        },
        "outputId": "9bca39dc-9dd9-4a00-a842-89f51b0b5111"
      },
      "source": [
        "#@title R-squared\n",
        "print(\"R-squared:\", lin_reg_m.rsquared) "
      ],
      "execution_count": 79,
      "outputs": [
        {
          "output_type": "stream",
          "text": [
            "R-squared: 0.7219290964703916\n"
          ],
          "name": "stdout"
        }
      ]
    },
    {
      "cell_type": "markdown",
      "metadata": {
        "id": "HQzs80et514Y",
        "colab_type": "text"
      },
      "source": [
        "### G) Model Predicting Ability (visually)\n",
        "\n",
        "**10.** Run the code below, the graph dispay shows the observed vs predicted price value for the train data, `HousePricesArea2`. The line 𝑦=𝑥 is used as reference line. Discuss your model fit."
      ]
    },
    {
      "cell_type": "code",
      "metadata": {
        "id": "yEo964g7514Y",
        "colab_type": "code",
        "cellView": "form",
        "colab": {}
      },
      "source": [
        "#@title Observed vs Predicted price values for the train data\n",
        "# graph Observed vs Predicted price values for the training data\n",
        "pred = lin_reg_m.fittedvalues \n",
        "price = HousePricesArea2['price']\n",
        "\n",
        "plt.figure(figsize=(8,5))\n",
        "p=plt.scatter(x=pred,y=price)\n",
        "xmin=min(pred)\n",
        "xmax = max(pred)\n",
        "\n",
        "xpoints = ypoints = plt.xlim()\n",
        "plt.plot(xpoints, ypoints, linestyle='--', color='k', lw=2, scalex=True, scaley=True)\n",
        "\n",
        "plt.xlabel(\"Predicted\")\n",
        "plt.ylabel(\"Observed\")\n",
        "plt.title(\"Observed vs Predicted Values (train data)\")\n",
        "plt.grid(True)\n",
        "plt.show()"
      ],
      "execution_count": null,
      "outputs": []
    },
    {
      "cell_type": "markdown",
      "metadata": {
        "id": "YT5mCxgg514a",
        "colab_type": "text"
      },
      "source": [
        "**11.** Run the code below, the graph dispay shows the observed vs predicted price value for the test set data, `HousePricesArea2_test`. The line $y=x$ is used as reference line. How the model generalize to out-of-sample data? Do you think it provides good fit?"
      ]
    },
    {
      "cell_type": "code",
      "metadata": {
        "id": "lgMX1MQP514b",
        "colab_type": "code",
        "cellView": "form",
        "colab": {}
      },
      "source": [
        "#@title Observed vs Predicted price values for the test data\n",
        "# graph Observed vs Predicted price values for the testing set data\n",
        "\n",
        "# price from the HousePricesArea_test data\n",
        "price_test = HousePricesArea2_test['price']\n",
        "\n",
        "# create df to hold the values of the area for which prediction will be made\n",
        "X_new = HousePricesArea2_test[pred_cols]\n",
        "X_new.head()\n",
        "\n",
        "# predicted price values for test set\n",
        "pred_test = lin_reg_m.predict(X_new)\n",
        "\n",
        "\n",
        "\n",
        "plt.figure(figsize=(8,5))\n",
        "p=plt.scatter(x=pred_test,y=price_test)\n",
        "xmin=min(pred_test)\n",
        "xmax = max(pred_test)\n",
        "\n",
        "xpoints = ypoints = plt.xlim()\n",
        "plt.plot(xpoints, ypoints, linestyle='--', color='k', lw=2, scalex=True, scaley=True)\n",
        "\n",
        "plt.xlabel(\"Predicted\")\n",
        "plt.ylabel(\"Observed\")\n",
        "plt.title(\"Observed vs Predicted Values (test set)\")\n",
        "plt.grid(True)\n",
        "plt.show()"
      ],
      "execution_count": null,
      "outputs": []
    },
    {
      "cell_type": "markdown",
      "metadata": {
        "id": "GIsWf_yJ514c",
        "colab_type": "text"
      },
      "source": [
        "### H) Model Predicting Ability using RMSPE\n",
        "\n",
        "**12.** Run the code below to evaluate the ratio of RMSPE and standard deviation of the price variable for the unseen data in `HousePricesData2_test`. Discuss what significant deviation from the ratio on the train data would mean for the model predictive ability.\n",
        "\n",
        "Record the RMSPE:\n",
        "\n",
        "__________________________________"
      ]
    },
    {
      "cell_type": "code",
      "metadata": {
        "id": "H6LvXtRe514c",
        "colab_type": "code",
        "cellView": "form",
        "colab": {
          "base_uri": "https://localhost:8080/",
          "height": 69
        },
        "outputId": "b3b80124-9e3d-4208-91a8-62ccce17c9fa"
      },
      "source": [
        "#@title RMSPE\n",
        "# MSE for the test set\n",
        "mspe=mean_squared_error(HousePricesArea2_test['price'],pred_test)\n",
        "rmspe=sqrt(mspe)\n",
        "print(\"Root Mean Square Prediction Error(test set)\", rmspe)\n",
        "\n",
        "sd_price_test = np.std(HousePricesArea2_test['price'])\n",
        "print(\"The standard deviation of the price in the test set is\", sd_price_test)\n",
        "print(\"Ratio RMSPE/St.Dev\", rmspe/sd_price_test)"
      ],
      "execution_count": 82,
      "outputs": [
        {
          "output_type": "stream",
          "text": [
            "Root Mean Square Prediction Error(test set) 29864.41423127199\n",
            "The standard deviation of the price in the test set is 66498.99388875363\n",
            "Ratio RMSPE/St.Dev 0.44909573039905326\n"
          ],
          "name": "stdout"
        }
      ]
    },
    {
      "cell_type": "markdown",
      "metadata": {
        "id": "QXKDmakx514f",
        "colab_type": "text"
      },
      "source": [
        "**13.** Compare the multiple regression model RMSPE with the `RMSPE=0.503` of the simple linear regression model from **Activity 3**. Discuss which model predicts better.\n",
        "\n"
      ]
    },
    {
      "cell_type": "code",
      "metadata": {
        "id": "7bXv_j0N514f",
        "colab_type": "code",
        "cellView": "form",
        "colab": {}
      },
      "source": [
        "#@title (RUN upon completion)\n",
        "\n",
        "#@markdown **14.** Record the model, RMSPE and R^2\n",
        "\n",
        "Model = \"\" #@param {type:\"string\"}\n",
        "\n",
        "R2 =  \"\" #@param {type:\"string\"}\n",
        "\n",
        "RMSPE = \"\" #@param {type:\"string\"}"
      ],
      "execution_count": 83,
      "outputs": []
    },
    {
      "cell_type": "markdown",
      "metadata": {
        "id": "4FHY8LgY514f",
        "colab_type": "text"
      },
      "source": [
        "**15.** Time to break the code (optional) - Repeat parts  **F, G and H** to select a model that improves the MSPE."
      ]
    },
    {
      "cell_type": "markdown",
      "metadata": {
        "id": "_fM97YxLMAjM",
        "colab_type": "text"
      },
      "source": [
        "\n",
        "# Task (5) Evaluation "
      ]
    },
    {
      "cell_type": "code",
      "metadata": {
        "id": "UA1CFo5GEwRU",
        "colab_type": "code",
        "cellView": "form",
        "colab": {}
      },
      "source": [
        "#@title #Team Work Evaluation\n",
        "#@markdown 1.\tHow much time was required for completion of Activity 1?\n",
        "activity1_evaluation1 = \"\" #@param {type:\"string\"}\n",
        "#@markdown 2.\tWas the contribution from each participant equal?\t\n",
        "activity1_evaluation2 = \"\" #@param {type:\"string\"}\n",
        "#@markdown 3.\tHow could the team work and learn more effectively?\n",
        "activity1_evaluation3 = \"\" #@param {type:\"string\"} \n",
        "#@markdown 4.\tHow many participants thought the problems were too simple (trivial)? \n",
        "activity1_evaluation4 = \"\" #@param {type:\"string\"}\n",
        "#@markdown 5.\tHow many participants thought the problems were at the proper level of difficulty?\t\n",
        "activity1_evaluation5 = \"\" #@param {type:\"string\"}\n",
        "#@markdown 6.\tHow many participants thought the problems were too hard?\n",
        "activity1_evaluation6 = \"\" #@param {type:\"string\"}\n",
        "#@markdown 7.\tWas help needed? Where?\n",
        "activity1_evaluation7 = \"\" #@param {type:\"string\"}\n",
        "#@markdown 8.\tDoes the team have any suggestions about how Activity 1 could be improved? If so, how? \n",
        "activity1_evaluation8 = \"\" #@param {type:\"string\"} \t\n",
        "\n",
        "\n"
      ],
      "execution_count": null,
      "outputs": []
    },
    {
      "cell_type": "markdown",
      "metadata": {
        "id": "vgM3CkKw514f",
        "colab_type": "text"
      },
      "source": [
        "## Resources\n",
        "\n",
        "- To go much more in-depth on linear regression, read Chapter 3 of [An Introduction to Statistical Learning](http://www-bcf.usc.edu/~gareth/ISL/), which was partially adapted in this activity. Alternatively, watch the [related videos](http://www.dataschool.io/15-hours-of-expert-machine-learning-videos/) or read my [quick reference guide](http://www.dataschool.io/applying-and-interpreting-linear-regression/) to the key points in that chapter.\n",
        "- To learn more about Statsmodels and how to interpret the output, DataRobot has some decent posts on [simple linear regression](http://www.datarobot.com/blog/ordinary-least-squares-in-python/) and [multiple linear regression](http://www.datarobot.com/blog/multiple-regression-using-statsmodels/).\n",
        "- This [introduction to linear regression](http://people.duke.edu/~rnau/regintro.htm) is much more detailed and mathematically thorough, and includes lots of good advice.\n",
        "- This is a relatively quick post on the [assumptions of linear regression](http://pareonline.net/getvn.asp?n=2&v=8)."
      ]
    },
    {
      "cell_type": "markdown",
      "metadata": {
        "id": "YjW3cibcMMuD",
        "colab_type": "text"
      },
      "source": [
        "\n",
        "# The Activities 1-5 did not cover:"
      ]
    },
    {
      "cell_type": "markdown",
      "metadata": {
        "id": "SJ1r9SQ4514g",
        "colab_type": "text"
      },
      "source": [
        "\n",
        "\n",
        "* Catergorical predictors\n",
        "* Hypothesis Testing and p-values for model parameters\n",
        "* Confidence Intervals for model parameters and new predictions\n",
        "* Detecting collinearity - the presence of highly correlated independent variables in multiple regression case\n",
        "* Transforming predictors to fit non-linear relationships - to remedy deviations from the \"LINE\" assumtpions\n",
        "* Interaction terms - to model the effect of one variable which depends on the value of another variable\n",
        "   "
      ]
    }
  ]
}